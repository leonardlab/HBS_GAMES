{
 "cells": [
  {
   "cell_type": "code",
   "execution_count": null,
   "metadata": {},
   "outputs": [],
   "source": [
    "import numpy as np\n",
    "import pandas as pd\n",
    "import matplotlib.pyplot as plt\n",
    "from matplotlib.ticker import ScalarFormatter\n",
    "from games.modules.experimental_statistical_testing.experimental_statistical_tests import (anova,\n",
    "                                                  tukeys_hsd,\n",
    "                                                  t_tests,\n",
    "                                                  BH_correction,\n",
    "                                                  run_corrected_t_tests,\n",
    "                                                  repeated_measures_anova)\n",
    "plt.style.use(\"/Users/kdreyer/Documents/Github/HBS_GAMES2/src/games/paper.mplstyle.py\")\n",
    "path = \"/Users/kdreyer/Documents/Github/HBS_GAMES2/src/games/modules/experimental_statistical_testing/\"\n",
    "path_exp_data = path + \"experimental_data/\"\n",
    "path_stats = path + \"results/\"\n",
    "path_plots = path + \"experimental_data_plots/\""
   ]
  },
  {
   "cell_type": "markdown",
   "metadata": {},
   "source": [
    "## Figure 1"
   ]
  },
  {
   "cell_type": "code",
   "execution_count": null,
   "metadata": {},
   "outputs": [],
   "source": [
    "df_all = pd.read_csv(path_exp_data+\"Exp03_main.csv\")\n",
    "# print(df_all)"
   ]
  },
  {
   "cell_type": "markdown",
   "metadata": {},
   "source": [
    "### Figure 1C statistical tests"
   ]
  },
  {
   "cell_type": "code",
   "execution_count": null,
   "metadata": {},
   "outputs": [],
   "source": [
    "### red fluorescent protein ###\n",
    "# select data for red only\n",
    "df_red = df_all[df_all[\"condition\"].str.contains(\"red\")]\n",
    "# print(df_red)\n",
    "# run t-tests\n",
    "red_comparisons = [\n",
    "    [\"red_normoxic\", \"red_hypoxic_ice\"], \n",
    "    [\"red_normoxic\", \"red_hypoxic_rt\"], \n",
    "    [\"red_normoxic\", \"red_hypoxic_ox_ice\"]\n",
    "]\n",
    "# t_test_df = run_corrected_t_tests(path_stats, \"figure1c_red\", \"rfu\", df_all, red_comparisons)\n",
    "# print(t_test_df)\n",
    "\n",
    "# run 1 way anova\n",
    "# anova_table = anova(path_stats, \"figure1c_red\", df_red, \"rfu\", \"condition\")\n",
    "# print(anova_table)\n",
    "# run tukey's hsd\n",
    "# tukeys_tables = tukeys_hsd(path_stats, \"figure1c_red\", \"rfu\", df_red, [\"condition\"])\n",
    "# for table in tukeys_tables:\n",
    "#     print(table)"
   ]
  },
  {
   "cell_type": "code",
   "execution_count": null,
   "metadata": {},
   "outputs": [],
   "source": [
    "### green fluorescent protein ###\n",
    "# select data for green only\n",
    "df_green = df_all[df_all[\"condition\"].str.contains(\"green\")]\n",
    "# run t-tests\n",
    "green_comparisons = [\n",
    "    [\"green_normoxic\", \"green_hypoxic_ice\"], \n",
    "    [\"green_normoxic\", \"green_hypoxic_rt\"], \n",
    "    [\"green_normoxic\", \"green_hypoxic_ox_ice\"]\n",
    "]\n",
    "# t_test_df = run_corrected_t_tests(path_stats, \"figure1c_green\", \"rfu\", df_all, green_comparisons)\n",
    "# print(t_test_df)\n",
    "\n",
    "# run 1 way anova\n",
    "# anova_table = anova(path_stats, \"figure1c_green\", df_green, \"rfu\", \"condition\")\n",
    "# print(anova_table)\n",
    "# run tukey's hsd\n",
    "tukeys_tables = tukeys_hsd(path_stats, \"figure1c_green\", \"rfu\", df_green, [\"condition\"])\n",
    "for table in tukeys_tables:\n",
    "    print(table)"
   ]
  },
  {
   "cell_type": "code",
   "execution_count": null,
   "metadata": {},
   "outputs": [],
   "source": [
    "### blue fluorescent protein ###\n",
    "# select data for green only\n",
    "df_blue = df_all[df_all[\"condition\"].str.contains(\"blue\")]\n",
    "# run t-tests\n",
    "blue_comparisons = [\n",
    "    [\"blue_normoxic\", \"blue_hypoxic_ice\"], \n",
    "    [\"blue_normoxic\", \"blue_hypoxic_rt\"], \n",
    "    [\"blue_normoxic\", \"blue_hypoxic_ox_ice\"]\n",
    "]\n",
    "# t_test_df = run_corrected_t_tests(path_stats, \"figure1c_blue\", \"rfu\", df_all, blue_comparisons)\n",
    "# print(t_test_df)\n",
    "\n",
    "# run 1 way anova\n",
    "# anova_table = anova(path_stats, \"figure1c_blue\", df_blue, \"rfu\", \"condition\")\n",
    "# print(anova_table)\n",
    "# run tukey's hsd\n",
    "tukeys_tables = tukeys_hsd(path_stats, \"figure1c_blue\", \"rfu\", df_blue, [\"condition\"])\n",
    "for table in tukeys_tables:\n",
    "    print(table)"
   ]
  },
  {
   "cell_type": "markdown",
   "metadata": {},
   "source": [
    "### Figure 1C plot"
   ]
  },
  {
   "cell_type": "code",
   "execution_count": null,
   "metadata": {},
   "outputs": [],
   "source": [
    "df_data_plot = pd.read_csv(path_exp_data+\"plot_figure1C_supp_figure3.csv\")\n",
    "df_data_main = df_data_plot[~df_data_plot[\"condition\"].str.contains(\"f\")]\n",
    "# print(df_data_main)"
   ]
  },
  {
   "cell_type": "code",
   "execution_count": null,
   "metadata": {},
   "outputs": [],
   "source": [
    "# format data and labels for plotting\n",
    "conditions = df_data_main[\"condition\"].to_list()\n",
    "plot_xlabels = [conditions[i] for i in range(0, len(conditions), 3)]\n",
    "rfu = df_data_main[\"rfu\"].to_list()\n",
    "plot_rfu = [rfu[i:i + 3] for i in range(0, len(rfu), 3)]\n",
    "std_err = df_data_main[\"std_err\"].to_list()\n",
    "plot_std_err = [std_err[i:i + 3] for i in range(0, len(std_err), 3)]\n",
    "\n",
    "# create plot\n",
    "fig, ax = plt.subplots(1, 1, figsize=(4, 3))\n",
    "x_ticks = []\n",
    "for index, rfu_list in enumerate(plot_rfu[:4]):\n",
    "    ax.bar(index+(index/3)-0.3, rfu_list[2], width=0.3, color=\"blue\", align=\"center\", label=\"blue\")\n",
    "    ax.errorbar(index+(index/3)-0.3, rfu_list[2], plot_std_err[index][2], color=\"k\", capsize=2, elinewidth=0.5)\n",
    "    ax.bar(index+(index/3), rfu_list[1], width=0.3, color=\"green\", align=\"center\", label=\"green\")\n",
    "    ax.errorbar(index+(index/3), rfu_list[1], plot_std_err[index][1], color=\"k\", capsize=2, elinewidth=0.5)\n",
    "    ax.bar(index+(index/3)+0.3, rfu_list[0], width=0.3, color=\"red\", align=\"center\", label=\"red\")\n",
    "    ax.errorbar(index+(index/3)+0.3, rfu_list[0], plot_std_err[index][0], color=\"k\", capsize=2, elinewidth=0.5)\n",
    "    x_ticks.append(index+(index/3))\n",
    "ax.axhline(y=1.0, color=\"grey\", linestyle=\"dotted\", linewidth=1.5)\n",
    "ax.set_ylabel(\"Fluorescence (relative to normoxic control)\")\n",
    "ax.set_xticks(x_ticks)\n",
    "ax.set_xticklabels(plot_xlabels[:4])\n",
    "\n",
    "# plt.show()\n",
    "plt.savefig(path_plots+\"figure_1C.svg\")"
   ]
  },
  {
   "cell_type": "markdown",
   "metadata": {},
   "source": [
    "## Supplementary Figure 3"
   ]
  },
  {
   "cell_type": "markdown",
   "metadata": {},
   "source": [
    "### Supplementary Figure 3 statistical tests"
   ]
  },
  {
   "cell_type": "code",
   "execution_count": null,
   "metadata": {},
   "outputs": [],
   "source": [
    "df_all = pd.read_csv(path_exp_data+\"Exp03_supplement.csv\")\n",
    "# print(df_all)"
   ]
  },
  {
   "cell_type": "code",
   "execution_count": null,
   "metadata": {},
   "outputs": [],
   "source": [
    "### red fluorescent protein ###\n",
    "# select data for red only\n",
    "df_red = df_all[df_all[\"condition\"].str.contains(\"red\")]\n",
    "# print(df_red)\n",
    "# run 1 way anova\n",
    "# anova_table = anova(path_stats, \"supp_figure3_red\", df_red, \"rfu\", \"condition\")\n",
    "# print(anova_table)\n",
    "# run tukey's hsd\n",
    "tukeys_tables = tukeys_hsd(path_stats, \"supp_figure3_red\", \"rfu\", df_red, [\"condition\"])\n",
    "for table in tukeys_tables:\n",
    "    print(table)"
   ]
  },
  {
   "cell_type": "code",
   "execution_count": null,
   "metadata": {},
   "outputs": [],
   "source": [
    "### green fluorescent protein ###\n",
    "# select data for red only\n",
    "df_green = df_all[df_all[\"condition\"].str.contains(\"green\")]\n",
    "# run 1 way anova\n",
    "# anova_table = anova(path_stats, \"supp_figure3_green\", df_green, \"rfu\", \"condition\")\n",
    "# print(anova_table)\n",
    "# run tukey's hsd\n",
    "tukeys_tables = tukeys_hsd(path_stats, \"supp_figure3_green\", \"rfu\", df_green, [\"condition\"])\n",
    "for table in tukeys_tables:\n",
    "    print(table)"
   ]
  },
  {
   "cell_type": "code",
   "execution_count": null,
   "metadata": {},
   "outputs": [],
   "source": [
    "### blue fluorescent protein ###\n",
    "# select data for red only\n",
    "df_blue = df_all[df_all[\"condition\"].str.contains(\"blue\")]\n",
    "# run 1 way anova\n",
    "# anova_table = anova(path_stats, \"supp_figure3_blue\", df_blue, \"rfu\", \"condition\")\n",
    "# print(anova_table)\n",
    "# run tukey's hsd\n",
    "tukeys_tables = tukeys_hsd(path_stats, \"supp_figure3_blue\", \"rfu\", df_blue, [\"condition\"])\n",
    "for table in tukeys_tables:\n",
    "    print(table)"
   ]
  },
  {
   "cell_type": "markdown",
   "metadata": {},
   "source": [
    "### Supplementary Figure 3 plot"
   ]
  },
  {
   "cell_type": "code",
   "execution_count": null,
   "metadata": {},
   "outputs": [],
   "source": [
    "conditions = df_data_plot[\"condition\"].to_list()\n",
    "plot_xlabels = [conditions[i] for i in range(0, len(conditions), 3)]\n",
    "rfu = df_data_plot[\"rfu\"].to_list()\n",
    "plot_rfu = [rfu[i:i + 3] for i in range(0, len(rfu), 3)]\n",
    "std_err = df_data_plot[\"std_err\"].to_list()\n",
    "plot_std_err = [std_err[i:i + 3] for i in range(0, len(std_err), 3)]\n",
    "\n",
    "# create plot\n",
    "fig, ax = plt.subplots(1, 1, figsize=(8, 3))\n",
    "x_ticks = []\n",
    "for index, rfu_list in enumerate(plot_rfu):\n",
    "    ax.bar(index+(index/3)-0.3, rfu_list[2], width=0.3, color=\"blue\", align=\"center\", label=\"blue\")\n",
    "    ax.errorbar(index+(index/3)-0.3, rfu_list[2], plot_std_err[index][2], color=\"k\", capsize=2, elinewidth=0.5)\n",
    "    ax.bar(index+(index/3), rfu_list[1], width=0.3, color=\"green\", align=\"center\", label=\"green\")\n",
    "    ax.errorbar(index+(index/3), rfu_list[1], plot_std_err[index][1], color=\"k\", capsize=2, elinewidth=0.5)\n",
    "    ax.bar(index+(index/3)+0.3, rfu_list[0], width=0.3, color=\"red\", align=\"center\", label=\"red\")\n",
    "    ax.errorbar(index+(index/3)+0.3, rfu_list[0], plot_std_err[index][0], color=\"k\", capsize=2, elinewidth=0.5)\n",
    "    x_ticks.append(index+(index/3))\n",
    "ax.axhline(y=1.0, color=\"grey\", linestyle=\"dotted\", linewidth=1.5)\n",
    "ax.set_ylabel(\"Fluorescence (relative to normoxic control)\")\n",
    "ax.set_xticks(x_ticks)\n",
    "ax.set_xlim([x_ticks[0]-0.8, x_ticks[-1]+0.75])\n",
    "ax.set_xticklabels(plot_xlabels)\n",
    "ax.tick_params(axis='x', which='major', labelsize=6)\n",
    "# plt.show()\n",
    "plt.savefig(path_plots+\"supp_figure_3.svg\")"
   ]
  },
  {
   "cell_type": "markdown",
   "metadata": {},
   "source": [
    "## Figure 2"
   ]
  },
  {
   "cell_type": "markdown",
   "metadata": {},
   "source": [
    "### Figure 2D-2E statistical tests"
   ]
  },
  {
   "cell_type": "code",
   "execution_count": null,
   "metadata": {},
   "outputs": [],
   "source": [
    "df = pd.read_csv(path_exp_data+\"Exp05_pt1.csv\")\n",
    "print(df)\n",
    "\n",
    "# run t-tests\n",
    "comparisons = [\n",
    "    [\"cobalt_0\", \"cobalt_3\"], \n",
    "    [\"cobalt_0\", \"cobalt_15\"], \n",
    "    [\"cobalt_0\", \"cobalt_30\"],\n",
    "    [\"cobalt_0\", \"cobalt_150\"],\n",
    "    [\"cobalt_0\", \"cobalt_300\"],\n",
    "    [\"cobalt_0\", \"cobalt_600\"]\n",
    "]\n",
    "t_test_df = run_corrected_t_tests(path_stats, \"figure2d-e\", \"meptrs\", df, comparisons)\n",
    "print(t_test_df)"
   ]
  },
  {
   "cell_type": "markdown",
   "metadata": {},
   "source": [
    "### Figure 2D plot"
   ]
  },
  {
   "cell_type": "code",
   "execution_count": null,
   "metadata": {},
   "outputs": [],
   "source": [
    "df_data_plot = pd.read_csv(path_exp_data+\"plot_figure2D-E.csv\")\n",
    "# print(df_data_plot)\n",
    "cobalt_doses = df_data_plot[\"cobalt_dose\"].to_list()\n",
    "meptrs = df_data_plot[\"meptrs\"].to_list()\n",
    "meptrs_scaled = [i/1E4 for i in meptrs]\n",
    "std_err = df_data_plot[\"std_err\"].to_list()\n",
    "std_err_scaled = [i/1E4 for i in std_err]\n",
    "\n",
    "# create figure 2D plot\n",
    "fig, ax = plt.subplots(1, 1, figsize=(3, 3))\n",
    "ax.errorbar(cobalt_doses, meptrs_scaled, std_err_scaled, color=\"deeppink\", linestyle=\"-\", linewidth=1, marker=\"o\", markersize=\"4\", ecolor=\"k\", capsize=2, elinewidth=0.5)\n",
    "ax.set_xscale('symlog')\n",
    "ax.set_xlim(right=1000)\n",
    "ax.xaxis.set_major_formatter(ScalarFormatter())\n",
    "ax.set_xlabel(\"CoCl2 dose (uM)\")\n",
    "ax.set_ylabel(\"Mean reporter expression (x10^4 MEPTRs)\")\n",
    "# plt.show()\n",
    "plt.savefig(path_plots+\"figure_2d.svg\")"
   ]
  },
  {
   "cell_type": "markdown",
   "metadata": {},
   "source": [
    "### Figure 2E plot"
   ]
  },
  {
   "cell_type": "code",
   "execution_count": null,
   "metadata": {},
   "outputs": [],
   "source": [
    "fig, ax = plt.subplots(1, 1, figsize=(1.5, 3))\n",
    "\n",
    "ax.bar(-0.15, meptrs_scaled[0], width=0.3, color=\"grey\", align=\"center\", label=\"untreated\")\n",
    "ax.bar(0.15, meptrs_scaled[-2], width=0.3, color=\"deeppink\", align=\"center\", label=\"cobalt\")\n",
    "ax.errorbar(-0.15, meptrs_scaled[0], std_err_scaled[0], color=\"k\", capsize=2, elinewidth=0.5)\n",
    "ax.errorbar(0.15, meptrs_scaled[-2], std_err_scaled[-2], color=\"k\", capsize=2, elinewidth=0.5)\n",
    "ax.set_xlim([-0.5, 0.5])\n",
    "ax.set_xticklabels([])\n",
    "ax.set_yticks([0, 1, 2, 3])\n",
    "ax.set_ylabel(\"Mean reporter expression (x10^6 MEPTRs)\")\n",
    "# plt.show()\n",
    "plt.savefig(path_plots+\"figure_2e.svg\")"
   ]
  },
  {
   "cell_type": "markdown",
   "metadata": {},
   "source": [
    "### Figure 2G statistical tests"
   ]
  },
  {
   "cell_type": "code",
   "execution_count": null,
   "metadata": {},
   "outputs": [],
   "source": [
    "df = pd.read_csv(path_exp_data+\"Exp05_pt2.csv\")\n",
    "# print(df)\n",
    "\n",
    "# run 2-way ANOVA\n",
    "anova_table = anova(path_stats, \"figure2g\", df, \"meptrs\", \"condition\", \"bin\")\n",
    "# print(anova_table)\n",
    "# run tukey's hsd\n",
    "tukeys_table_i, tukeys_tables = tukeys_hsd(path_stats, \"figure2g\", \"meptrs\", df, [\"condition\", \"bin\"], [\"condition\",\"bin\"])\n",
    "print(tukeys_table_i)\n",
    "for table in tukeys_tables:\n",
    "    print(table)"
   ]
  },
  {
   "cell_type": "markdown",
   "metadata": {},
   "source": [
    "### Figure 2G plot"
   ]
  },
  {
   "cell_type": "code",
   "execution_count": null,
   "metadata": {},
   "outputs": [],
   "source": [
    "df_data_plot = pd.read_csv(path_exp_data+\"plot_figure2G.csv\")\n",
    "# print(df_data_plot)\n",
    "\n",
    "# format data and labels for plotting\n",
    "meptrs = df_data_plot[\"meptrs\"].to_list()\n",
    "meptrs_scaled = [i/1E4 for i in meptrs]\n",
    "plot_meptrs = [meptrs_scaled[i:i + 2] for i in range(0, len(meptrs_scaled), 2)]\n",
    "std_err = df_data_plot[\"std_err\"].to_list()\n",
    "std_err_scaled = [i/1E4 for i in std_err]\n",
    "plot_std_err = [std_err_scaled[i:i + 2] for i in range(0, len(std_err_scaled), 2)]\n",
    "fi = df_data_plot[\"FI\"].to_list()\n",
    "plot_fi = [fi[i] for i in range(1, len(fi), 2)]\n",
    "fi_std_err = df_data_plot[\"FI_std_err\"].to_list()\n",
    "plot_fi_std_err = [fi_std_err[i] for i in range(1, len(fi_std_err), 2)]\n",
    "# create plot\n",
    "fig, ax = plt.subplots(1, 1, figsize=(4.5, 3))\n",
    "ax2 = ax.twinx()\n",
    "for index, meptrs_list in enumerate(plot_meptrs):\n",
    "    ax.bar(index+1-0.175, meptrs_list[0], width=0.35, color=\"grey\", align=\"center\", label=\"untreated\")\n",
    "    ax.errorbar(index+1-0.175, meptrs_list[0], plot_std_err[index][0], color=\"k\", capsize=2, elinewidth=0.5)\n",
    "    ax.bar(index+1+0.175, meptrs_list[1], width=0.35, color=\"deeppink\", align=\"center\", label=\"cobalt\")\n",
    "    ax.errorbar(index+1+0.175, meptrs_list[1], plot_std_err[index][1], color=\"k\", capsize=2, elinewidth=0.5)\n",
    "    ax2.errorbar(index+1, plot_fi[index], plot_fi_std_err[index], color=\"red\", marker=\"o\", markersize=\"4\", linestyle=\"none\", ecolor=\"k\", capsize=2, elinewidth=0.5)\n",
    "\n",
    "ax.set_xticks([1, 2, 3, 4, 5, 6, 7, 8, 9, 10])\n",
    "ax.set_xlim(left=0.5, right=10.5)\n",
    "ax.set_yticks([0, 2, 4, 6, 8, 10])\n",
    "ax.set_xlabel(\"Bin (Decile of EBFP2 expression level)\")\n",
    "ax.set_ylabel(\"Mean reporter expression (x10^4 MEPTRs)\")\n",
    "ax.spines[['right']].set_visible(True)\n",
    "ax2.set_yticks([0, 5, 10, 15, 20, 25, 30])\n",
    "ax2.set_ylabel(\"Fold induction\")\n",
    "# plt.show()\n",
    "plt.savefig(path_plots+\"figure_2g.svg\")"
   ]
  },
  {
   "cell_type": "markdown",
   "metadata": {},
   "source": [
    "### Figure 2H statistical tests"
   ]
  },
  {
   "cell_type": "code",
   "execution_count": null,
   "metadata": {},
   "outputs": [],
   "source": [
    "df = pd.read_csv(path_exp_data+\"Exp06.csv\")\n",
    "# print(df)\n",
    "\n",
    "# run 2-way ANOVA\n",
    "# anova_table = anova(path_stats, \"figure2h\", df, \"meptrs\", \"condition\", \"sorted_population\")\n",
    "# print(anova_table)\n",
    "# run tukey's hsd\n",
    "tukeys_table_i, tukeys_tables = tukeys_hsd(path_stats, \"figure2h\", \"meptrs\", df, [\"condition\", \"sorted_population\"], [\"condition\",\"sorted_population\"])\n",
    "print(tukeys_table_i)\n",
    "for table in tukeys_tables:\n",
    "    print(table)"
   ]
  },
  {
   "cell_type": "markdown",
   "metadata": {},
   "source": [
    "### Figure 2H plot"
   ]
  },
  {
   "cell_type": "code",
   "execution_count": null,
   "metadata": {},
   "outputs": [],
   "source": [
    "#plot\n",
    "df_data_plot = pd.read_csv(path_exp_data+\"plot_figure2H.csv\")\n",
    "# print(df_data_plot)\n",
    "\n",
    "# format data and labels for plotting\n",
    "meptrs = df_data_plot[\"meptrs\"].to_list()\n",
    "meptrs_scaled = [i/1E4 for i in meptrs]\n",
    "plot_meptrs = [meptrs_scaled[i:i + 2] for i in range(0, len(meptrs_scaled), 2)]\n",
    "std_err = df_data_plot[\"std_err\"].to_list()\n",
    "std_err_scaled = [i/1E4 for i in std_err]\n",
    "plot_std_err = [std_err_scaled[i:i + 2] for i in range(0, len(std_err_scaled), 2)]\n",
    "fi = df_data_plot[\"FI\"].to_list()\n",
    "plot_fi = [fi[i] for i in range(1, len(fi), 2)]\n",
    "fi_std_err = df_data_plot[\"FI_std_err\"].to_list()\n",
    "plot_fi_std_err = [fi_std_err[i] for i in range(1, len(fi_std_err), 2)]\n",
    "# create plot\n",
    "fig, ax = plt.subplots(1, 1, figsize=(4.5, 3))\n",
    "ax2 = ax.twinx()\n",
    "for index, meptrs_list in enumerate(plot_meptrs):\n",
    "    ax.bar(index-0.175, meptrs_list[0], width=0.35, color=\"grey\", align=\"center\", label=\"untreated\")\n",
    "    ax.errorbar(index-0.175, meptrs_list[0], plot_std_err[index][0], color=\"k\", capsize=2, elinewidth=0.5)\n",
    "    ax.bar(index+0.175, meptrs_list[1], width=0.35, color=\"deeppink\", align=\"center\", label=\"cobalt\")\n",
    "    ax.errorbar(index+0.175, meptrs_list[1], plot_std_err[index][1], color=\"k\", capsize=2, elinewidth=0.5)\n",
    "    ax2.errorbar(index, plot_fi[index], plot_fi_std_err[index], color=\"red\", marker=\"o\", markersize=\"4\", linestyle=\"none\", ecolor=\"k\", capsize=2, elinewidth=0.5)\n",
    "\n",
    "ax.set_xticks([0, 1, 2, 3, 4, 5, 6, 7, 8, 9, 10])\n",
    "ax.set_xlim(left=-0.5, right=10.5)\n",
    "# ax.set_yticks([0, 2, 4, 6, 8, 10])\n",
    "ax.set_xlabel(\"Sorted population (on decile of EBFP2 expression)\")\n",
    "ax.set_ylabel(\"Mean reporter expression (x10^4 MEPTRs)\")\n",
    "ax.spines[['right']].set_visible(True)\n",
    "ax2.set_yticks([0, 100, 200, 300])\n",
    "ax2.set_ylabel(\"Fold induction\")\n",
    "# plt.show()\n",
    "plt.savefig(path_plots+\"figure_2h.svg\")"
   ]
  },
  {
   "cell_type": "markdown",
   "metadata": {},
   "source": [
    "## Figure 5"
   ]
  },
  {
   "cell_type": "markdown",
   "metadata": {},
   "source": [
    "### Figure 5E Statistical Tests"
   ]
  },
  {
   "cell_type": "code",
   "execution_count": null,
   "metadata": {},
   "outputs": [],
   "source": [
    "df = pd.read_csv(path_exp_data+\"Exp10.csv\")\n",
    "df_hypoxic = df[df[\"day\"] != \"normoxic\"].copy()\n",
    "\n",
    "# run 2-way repeated measures ANOVA\n",
    "# anova_rm_table = repeated_measures_anova(path_stats, \"figure5e\", df_hypoxic, \"meptrs\", \"day\", \"condition\")\n",
    "# print(anova_rm_table)\n",
    "\n",
    "# run tukey's hsd\n",
    "# tukeys_table_i, tukeys_tables = tukeys_hsd(path_stats, \"figure5e\", \"meptrs\", df_hypoxic, [\"condition\", \"day\"], [\"condition\",\"day\"]) \n",
    "# print(tukeys_table_i)\n",
    "# for table in tukeys_tables:\n",
    "#     print(table)\n",
    "\n",
    "# run t-tests for each day vs. normoxia for simple, h1a fb, h2a fb\n",
    "# format df for t-test code\n",
    "# df[\"condition\"] = df[\"condition\"] + \"_\" + df[\"day\"].astype(str)\n",
    "# # print(df)\n",
    "# comparisons = [\n",
    "#     [\"simple_hbs_0\", \"simple_hbs_normoxic\"],\n",
    "#     [\"simple_hbs_1\", \"simple_hbs_normoxic\"],\n",
    "#     [\"simple_hbs_2\", \"simple_hbs_normoxic\"],\n",
    "#     [\"simple_hbs_3\", \"simple_hbs_normoxic\"],\n",
    "#     [\"simple_hbs_4\", \"simple_hbs_normoxic\"],\n",
    "#     [\"simple_hbs_5\", \"simple_hbs_normoxic\"],\n",
    "#     [\"h1a_fb_hbs_0\", \"h1a_fb_hbs_normoxic\"],\n",
    "#     [\"h1a_fb_hbs_1\", \"h1a_fb_hbs_normoxic\"],\n",
    "#     [\"h1a_fb_hbs_2\", \"h1a_fb_hbs_normoxic\"],\n",
    "#     [\"h1a_fb_hbs_3\", \"h1a_fb_hbs_normoxic\"],\n",
    "#     [\"h1a_fb_hbs_4\", \"h1a_fb_hbs_normoxic\"],\n",
    "#     [\"h1a_fb_hbs_5\", \"h1a_fb_hbs_normoxic\"],\n",
    "#     [\"h2a_fb_hbs_0\", \"h2a_fb_hbs_normoxic\"],\n",
    "#     [\"h2a_fb_hbs_1\", \"h2a_fb_hbs_normoxic\"],\n",
    "#     [\"h2a_fb_hbs_2\", \"h2a_fb_hbs_normoxic\"],\n",
    "#     [\"h2a_fb_hbs_3\", \"h2a_fb_hbs_normoxic\"],\n",
    "#     [\"h2a_fb_hbs_4\", \"h2a_fb_hbs_normoxic\"],\n",
    "#     [\"h2a_fb_hbs_5\", \"h2a_fb_hbs_normoxic\"]\n",
    "# ]\n",
    "# t_test_df = run_corrected_t_tests(path_stats, \"figure5e\", \"meptrs\", df, comparisons)\n",
    "# print(t_test_df)"
   ]
  },
  {
   "cell_type": "markdown",
   "metadata": {},
   "source": [
    "### Figure 5E Plots"
   ]
  },
  {
   "cell_type": "code",
   "execution_count": 27,
   "metadata": {},
   "outputs": [
    {
     "name": "stdout",
     "output_type": "stream",
     "text": [
      "     condition day        meptrs       std_err\n",
      "0   simple_hbs   0   12040.80704    312.282542\n",
      "1   simple_hbs   1  154877.89600   6130.949680\n",
      "2   simple_hbs   2  265372.41130  13662.930480\n",
      "3   simple_hbs   3  336921.18320   7840.404946\n",
      "4   simple_hbs   4  370216.17560   5226.290622\n",
      "5   simple_hbs   5  462293.43070  17582.092840\n",
      "7   h1a_fb_hbs   0   23177.12156    253.151753\n",
      "8   h1a_fb_hbs   1  356957.21860  29984.441360\n",
      "9   h1a_fb_hbs   2  565157.45270  27392.274240\n",
      "10  h1a_fb_hbs   3  493611.67360  66369.591010\n",
      "11  h1a_fb_hbs   4  438987.46880  24267.475310\n",
      "12  h1a_fb_hbs   5  425260.17510  44036.984030\n",
      "14  h2a_fb_hbs   0   10255.79969    324.120436\n",
      "15  h2a_fb_hbs   1  211191.81830   3893.503021\n",
      "16  h2a_fb_hbs   2  550294.83280  48370.380480\n",
      "17  h2a_fb_hbs   3  533021.70600  16171.396290\n",
      "18  h2a_fb_hbs   4  484180.03300  23057.903510\n",
      "19  h2a_fb_hbs   5  466042.80110  49471.189030\n"
     ]
    }
   ],
   "source": [
    "df_data_plot = pd.read_csv(path_exp_data+\"plot_figure5E.csv\")\n",
    "# print(df_data_plot)\n",
    "df_hypoxia_data = df_data_plot[df_data_plot[\"day\"] != \"baseline\"].copy()\n",
    "df_normoxia_data = df_data_plot[df_data_plot[\"day\"] == \"baseline\"].copy()\n",
    "days = [0, 1, 2, 3, 4, 5]\n",
    "print(df_hypoxia_data)"
   ]
  },
  {
   "cell_type": "code",
   "execution_count": 39,
   "metadata": {},
   "outputs": [
    {
     "data": {
      "image/png": "[encoded data removed]",
      "text/plain": [
       "<Figure size 300x300 with 1 Axes>"
      ]
     },
     "metadata": {},
     "output_type": "display_data"
    }
   ],
   "source": [
    "# simple HBS plot\n",
    "meptrs_hypoxia_simple = df_hypoxia_data[df_hypoxia_data[\"condition\"] == \"simple_hbs\"][\"meptrs\"].to_list()\n",
    "# print(meptrs_hypoxia_simple)\n",
    "meptrs_hypoxia_simple_scaled = [i/1E6 for i in meptrs_hypoxia_simple]\n",
    "std_err_hypoxia_simple = df_hypoxia_data[df_hypoxia_data[\"condition\"] == \"simple_hbs\"][\"std_err\"].to_list()\n",
    "# print(std_err_hypoxia_simple)\n",
    "std_err_hypoxia_simple_scaled = [i/1E6 for i in std_err_hypoxia_simple]\n",
    "\n",
    "meptrs_normoxia_simple = df_normoxia_data[df_normoxia_data[\"condition\"] == \"simple_hbs\"][\"meptrs\"].to_list()[0]\n",
    "# print(meptrs_normoxia_simple)\n",
    "meptrs_normoxia_simple_scaled = meptrs_normoxia_simple/1E6\n",
    "std_err_normoxia_simple = df_normoxia_data[df_normoxia_data[\"condition\"] == \"simple_hbs\"][\"std_err\"].to_list()[0]\n",
    "std_err_normoxia_simple_scaled = std_err_normoxia_simple/1E6\n",
    "\n",
    "# create figure 2D plot\n",
    "fig, ax = plt.subplots(1, 1, figsize=(3, 3))\n",
    "ax.errorbar(days, meptrs_hypoxia_simple_scaled, std_err_hypoxia_simple_scaled, color=\"black\", linestyle=\"-\", linewidth=1, marker=\"o\", markersize=\"4\", ecolor=\"k\", capsize=2, elinewidth=0.5)\n",
    "ax.fill_between(\n",
    "    days, meptrs_normoxia_simple_scaled-std_err_normoxia_simple_scaled, \n",
    "    meptrs_normoxia_simple_scaled+std_err_normoxia_simple_scaled, color=\"gray\")\n",
    "ax.set_xlabel(\"Days post plating\")\n",
    "ax.set_xticks([0, 1, 2, 3, 4, 5])\n",
    "ax.set_ylabel(\"Mean reporter expression (x10^6 MEPTRs)\")\n",
    "plt.show()\n",
    "# plt.savefig(path_plots+\"figure_5e_simple.svg\")"
   ]
  },
  {
   "cell_type": "code",
   "execution_count": 40,
   "metadata": {},
   "outputs": [
    {
     "data": {
      "image/png": "[encoded data removed]",
      "text/plain": [
       "<Figure size 300x300 with 1 Axes>"
      ]
     },
     "metadata": {},
     "output_type": "display_data"
    }
   ],
   "source": [
    "# H1a feedback HBS plot\n",
    "meptrs_hypoxia_h1a_fb = df_hypoxia_data[df_hypoxia_data[\"condition\"] == \"h1a_fb_hbs\"][\"meptrs\"].to_list()\n",
    "# print()\n",
    "meptrs_hypoxia_h1a_fb_scaled = [i/1E6 for i in meptrs_hypoxia_h1a_fb]\n",
    "std_err_hypoxia_h1a_fb = df_hypoxia_data[df_hypoxia_data[\"condition\"] == \"h1a_fb_hbs\"][\"std_err\"].to_list()\n",
    "# print()\n",
    "std_err_hypoxia_h1a_fb_scaled = [i/1E6 for i in std_err_hypoxia_h1a_fb]\n",
    "\n",
    "meptrs_normoxia_h1a_fb = df_normoxia_data[df_normoxia_data[\"condition\"] == \"h1a_fb_hbs\"][\"meptrs\"].to_list()[0]\n",
    "# print(meptrs_normoxia_simple)\n",
    "meptrs_normoxia_h1a_fb_scaled = meptrs_normoxia_h1a_fb/1E6\n",
    "std_err_normoxia_h1a_fb = df_normoxia_data[df_normoxia_data[\"condition\"] == \"h1a_fb_hbs\"][\"std_err\"].to_list()[0]\n",
    "std_err_normoxia_h1a_fb_scaled = std_err_normoxia_h1a_fb/1E6\n",
    "\n",
    "# create figure 2D plot\n",
    "fig, ax = plt.subplots(1, 1, figsize=(3, 3))\n",
    "ax.errorbar(days, meptrs_hypoxia_h1a_fb_scaled, std_err_hypoxia_h1a_fb_scaled, color=\"black\", linestyle=\"-\", linewidth=1, marker=\"o\", markersize=\"4\", ecolor=\"k\", capsize=2, elinewidth=0.5)\n",
    "ax.fill_between(\n",
    "    days, meptrs_normoxia_h1a_fb_scaled-std_err_normoxia_h1a_fb_scaled, \n",
    "    meptrs_normoxia_h1a_fb_scaled+std_err_normoxia_h1a_fb_scaled, color=\"gray\")\n",
    "ax.set_xlabel(\"Days post plating\")\n",
    "ax.set_xticks([0, 1, 2, 3, 4, 5])\n",
    "ax.set_ylabel(\"Mean reporter expression (x10^6 MEPTRs)\")\n",
    "plt.show()\n",
    "# plt.savefig(path_plots+\"figure_5e_h1a_fb.svg\")"
   ]
  },
  {
   "cell_type": "code",
   "execution_count": 41,
   "metadata": {},
   "outputs": [
    {
     "data": {
      "image/png": "[encoded data removed]",
      "text/plain": [
       "<Figure size 300x300 with 1 Axes>"
      ]
     },
     "metadata": {},
     "output_type": "display_data"
    }
   ],
   "source": [
    "# H2a feedback HBS plot\n",
    "meptrs_hypoxia_h2a_fb = df_hypoxia_data[df_hypoxia_data[\"condition\"] == \"h2a_fb_hbs\"][\"meptrs\"].to_list()\n",
    "# print()\n",
    "meptrs_hypoxia_h2a_fb_scaled = [i/1E6 for i in meptrs_hypoxia_h2a_fb]\n",
    "std_err_hypoxia_h2a_fb = df_hypoxia_data[df_hypoxia_data[\"condition\"] == \"h2a_fb_hbs\"][\"std_err\"].to_list()\n",
    "# print()\n",
    "std_err_hypoxia_h2a_fb_scaled = [i/1E6 for i in std_err_hypoxia_h2a_fb]\n",
    "\n",
    "meptrs_normoxia_h2a_fb = df_normoxia_data[df_normoxia_data[\"condition\"] == \"h2a_fb_hbs\"][\"meptrs\"].to_list()[0]\n",
    "# print(meptrs_normoxia_simple)\n",
    "meptrs_normoxia_h2a_fb_scaled = meptrs_normoxia_h2a_fb/1E6\n",
    "std_err_normoxia_h2a_fb = df_normoxia_data[df_normoxia_data[\"condition\"] == \"h2a_fb_hbs\"][\"std_err\"].to_list()[0]\n",
    "std_err_normoxia_h2a_fb_scaled = std_err_normoxia_h2a_fb/1E6\n",
    "\n",
    "# create figure 2D plot\n",
    "fig, ax = plt.subplots(1, 1, figsize=(3, 3))\n",
    "ax.errorbar(days, meptrs_hypoxia_h2a_fb_scaled, std_err_hypoxia_h2a_fb_scaled, color=\"black\", linestyle=\"-\", linewidth=1, marker=\"o\", markersize=\"4\", ecolor=\"k\", capsize=2, elinewidth=0.5)\n",
    "ax.fill_between(\n",
    "    days, meptrs_normoxia_h2a_fb_scaled-std_err_normoxia_h2a_fb_scaled, \n",
    "    meptrs_normoxia_h2a_fb_scaled+std_err_normoxia_h2a_fb_scaled, color=\"gray\")\n",
    "ax.set_xlabel(\"Days post plating\")\n",
    "ax.set_xticks([0, 1, 2, 3, 4, 5])\n",
    "ax.set_ylabel(\"Mean reporter expression (x10^6 MEPTRs)\")\n",
    "plt.show()\n",
    "# plt.savefig(path_plots+\"figure_5e_h2a_fb.svg\")"
   ]
  },
  {
   "cell_type": "markdown",
   "metadata": {},
   "source": [
    "### Figure 5F"
   ]
  },
  {
   "cell_type": "code",
   "execution_count": null,
   "metadata": {},
   "outputs": [],
   "source": [
    "df = pd.read_csv(path_exp_data+\"Exp11.csv\")\n",
    "df_hypoxic = df[df[\"day\"] != \"normoxic\"].copy()\n",
    "# print(df_hypoxic)\n",
    "# run 2-way repeated measures ANOVA\n",
    "# anova_rm_table = repeated_measures_anova(path_stats, \"figure5f\", df_hypoxic, \"meptrs\", \"day\", \"condition\")\n",
    "# print(anova_rm_table)\n",
    "\n",
    "# run tukey's hsd\n",
    "# tukeys_table_i, tukeys_tables = tukeys_hsd(path_stats, \"figure5f\", \"meptrs\", df_hypoxic, [\"condition\", \"day\"], [\"condition\",\"day\"]) \n",
    "# print(tukeys_table_i)\n",
    "# for table in tukeys_tables:\n",
    "#     print(table)\n",
    "\n",
    "# run t-tests for each day vs. normoxia for simple, h1a fb, h2a fb\n",
    "# format df for t-test code\n",
    "df[\"condition\"] = df[\"condition\"] + \"_\" + df[\"day\"].astype(str)\n",
    "# print(df)\n",
    "comparisons = [\n",
    "    [\"simple_hbs_0\", \"simple_hbs_normoxic\"],\n",
    "    [\"simple_hbs_1\", \"simple_hbs_normoxic\"],\n",
    "    [\"simple_hbs_2\", \"simple_hbs_normoxic\"],\n",
    "    [\"simple_hbs_3\", \"simple_hbs_normoxic\"],\n",
    "    [\"simple_hbs_4\", \"simple_hbs_normoxic\"],\n",
    "    [\"simple_hbs_5\", \"simple_hbs_normoxic\"],\n",
    "    [\"h1a_fb_hbs_0\", \"h1a_fb_hbs_normoxic\"],\n",
    "    [\"h1a_fb_hbs_1\", \"h1a_fb_hbs_normoxic\"],\n",
    "    [\"h1a_fb_hbs_2\", \"h1a_fb_hbs_normoxic\"],\n",
    "    [\"h1a_fb_hbs_3\", \"h1a_fb_hbs_normoxic\"],\n",
    "    [\"h1a_fb_hbs_4\", \"h1a_fb_hbs_normoxic\"],\n",
    "    [\"h1a_fb_hbs_5\", \"h1a_fb_hbs_normoxic\"],\n",
    "    [\"h2a_fb_hbs_0\", \"h2a_fb_hbs_normoxic\"],\n",
    "    [\"h2a_fb_hbs_1\", \"h2a_fb_hbs_normoxic\"],\n",
    "    [\"h2a_fb_hbs_2\", \"h2a_fb_hbs_normoxic\"],\n",
    "    [\"h2a_fb_hbs_3\", \"h2a_fb_hbs_normoxic\"],\n",
    "    [\"h2a_fb_hbs_4\", \"h2a_fb_hbs_normoxic\"],\n",
    "    [\"h2a_fb_hbs_5\", \"h2a_fb_hbs_normoxic\"]\n",
    "]\n",
    "t_test_df = run_corrected_t_tests(path_stats, \"figure5f\", \"meptrs\", df, comparisons)\n",
    "print(t_test_df)"
   ]
  },
  {
   "cell_type": "code",
   "execution_count": null,
   "metadata": {},
   "outputs": [],
   "source": []
  }
 ],
 "metadata": {
  "kernelspec": {
   "display_name": ".venv",
   "language": "python",
   "name": "python3"
  },
  "language_info": {
   "codemirror_mode": {
    "name": "ipython",
    "version": 3
   },
   "file_extension": ".py",
   "mimetype": "text/x-python",
   "name": "python",
   "nbconvert_exporter": "python",
   "pygments_lexer": "ipython3",
   "version": "3.10.10"
  }
 },
 "nbformat": 4,
 "nbformat_minor": 2
}
