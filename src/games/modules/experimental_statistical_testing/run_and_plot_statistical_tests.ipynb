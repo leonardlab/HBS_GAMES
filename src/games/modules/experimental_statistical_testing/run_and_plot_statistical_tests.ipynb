{
 "cells": [
  {
   "cell_type": "code",
   "execution_count": 1,
   "metadata": {},
   "outputs": [
    {
     "name": "stderr",
     "output_type": "stream",
     "text": [
      "/Users/kdreyer/Documents/Github/HBS_GAMES2/.venv/lib/python3.10/site-packages/outdated/utils.py:14: OutdatedPackageWarning: The package pingouin is out of date. Your version is 0.5.3, the latest is 0.5.4.\n",
      "Set the environment variable OUTDATED_IGNORE=1 to disable these warnings.\n",
      "  return warn(\n"
     ]
    }
   ],
   "source": [
    "import numpy as np\n",
    "import pandas as pd\n",
    "import matplotlib.pyplot as plt\n",
    "from matplotlib.ticker import ScalarFormatter\n",
    "from games.modules.experimental_statistical_testing.experimental_statistical_tests import (anova,\n",
    "                                                  tukeys_hsd,\n",
    "                                                  t_tests,\n",
    "                                                  BH_correction,\n",
    "                                                  run_corrected_t_tests,\n",
    "                                                  repeated_measures_anova)\n",
    "plt.style.use(\"/Users/kdreyer/Documents/Github/HBS_GAMES2/src/games/paper.mplstyle.py\")\n",
    "path = \"/Users/kdreyer/Documents/Github/HBS_GAMES2/src/games/modules/experimental_statistical_testing/\"\n",
    "path_exp_data = path + \"experimental_data/\"\n",
    "path_stats = path + \"results/\"\n",
    "path_plots = path + \"experimental_data_plots/\""
   ]
  },
  {
   "cell_type": "markdown",
   "metadata": {},
   "source": [
    "## Figure 1"
   ]
  },
  {
   "cell_type": "markdown",
   "metadata": {},
   "source": [
    "### Figure 1A plot"
   ]
  },
  {
   "cell_type": "code",
   "execution_count": null,
   "metadata": {},
   "outputs": [],
   "source": [
    "df_plot_pO2 = pd.read_csv(path_exp_data+\"plot_figure1A_pO2.csv\")\n",
    "# print(df_plot_pO2)\n",
    "df_plot_pctO2 = pd.read_csv(path_exp_data+\"plot_figure1A_pctO2.csv\")\n",
    "# print(df_plot_pctO2)"
   ]
  },
  {
   "cell_type": "code",
   "execution_count": null,
   "metadata": {},
   "outputs": [],
   "source": [
    "# create figure 2D plot\n",
    "blues = plt.cm.get_cmap(\"Blues\", 10)\n",
    "fig, ax = plt.subplots(1, 1, figsize=(3.25, 3), sharey=True)\n",
    "ax2 = ax.twinx()\n",
    "ax.plot(df_plot_pO2[\"time_min\"], df_plot_pO2[\"media_0_pO2\"], color=\"gray\", linestyle=\"none\", marker=\"o\", markersize=\"1\", label=\"0 uL\")\n",
    "# ax.plot(df_plot_pO2[\"time_min\"], df_plot_pO2[\"media_125_pO2\"], color=blues(3), linestyle=\"none\", marker=\"o\", markersize=\"1\", label=\"125 uL\")\n",
    "# ax.plot(df_plot_pO2[\"time_min\"], df_plot_pO2[\"media_250_pO2\"], color=blues(4), linestyle=\"none\", marker=\"o\", markersize=\"1\", label=\"250 uL\")\n",
    "ax.plot(df_plot_pO2[\"time_min\"], df_plot_pO2[\"media_500_pO2\"], color=blues(5), linestyle=\"none\", marker=\"o\", markersize=\"1\", label=\"500 uL\")\n",
    "ax.plot(df_plot_pO2[\"time_min\"], df_plot_pO2[\"media_750_pO2\"], color=blues(7), linestyle=\"none\", marker=\"o\", markersize=\"1\", label=\"750 uL\")\n",
    "# ax.plot(df_plot_pO2[\"time_min\"], df_plot_pO2[\"media_1000_pO2\"], color=blues(8), linestyle=\"none\", marker=\"o\", markersize=\"1\", label=\"1000 uL\")\n",
    "# ax.plot(df_plot_pO2[\"time_min\"], df_plot_pO2[\"media_1500_pO2\"], color=blues(9), linestyle=\"none\", marker=\"o\", markersize=\"1\", label=\"1500 uL\")\n",
    "# ax2.plot(df_plot_pctO2[\"time_min\"], df_plot_pctO2[\"pct_O2\"], color=\"k\", linestyle=\"-\", marker=\"o\", markersize=\"1\", label=\"Air\")\n",
    "ax.set_xlabel(\"Time (min)\")\n",
    "ax.set_xticks([0, 60, 120, 180, 240])\n",
    "ax.set_ylabel(\"pO2 at bottom of well (mmHg)\")\n",
    "ax.set_yticks([0, 50, 100, 150])\n",
    "ax.spines[['right']].set_visible(True)\n",
    "ax.set_box_aspect(1)\n",
    "ax2.set_ylabel(\"% O2 in incubator\")\n",
    "ax2.set_yticks([0, 10, 20])\n",
    "ax2.set_ylim(top=20)\n",
    "plt.show()\n",
    "# plt.savefig(path_plots+\"figure_1a.svg\")"
   ]
  },
  {
   "cell_type": "markdown",
   "metadata": {},
   "source": [
    "### Figure 1C statistical tests"
   ]
  },
  {
   "cell_type": "code",
   "execution_count": null,
   "metadata": {},
   "outputs": [],
   "source": [
    "df_all = pd.read_csv(path_exp_data+\"Exp03_main.csv\")\n",
    "# print(df_all)"
   ]
  },
  {
   "cell_type": "code",
   "execution_count": null,
   "metadata": {},
   "outputs": [],
   "source": [
    "### red fluorescent protein ###\n",
    "# select data for red only\n",
    "df_red = df_all[df_all[\"condition\"].str.contains(\"red\")]\n",
    "# print(df_red)\n",
    "# run t-tests\n",
    "red_comparisons = [\n",
    "    [\"red_normoxic\", \"red_hypoxic_ice\"], \n",
    "    [\"red_normoxic\", \"red_hypoxic_rt\"], \n",
    "    [\"red_normoxic\", \"red_hypoxic_ox_ice\"]\n",
    "]\n",
    "# t_test_df = run_corrected_t_tests(path_stats, \"figure1c_red\", \"rfu\", df_all, red_comparisons)\n",
    "# print(t_test_df)\n",
    "\n",
    "# run 1 way anova\n",
    "# anova_table = anova(path_stats, \"figure1c_red\", df_red, \"rfu\", \"condition\")\n",
    "# print(anova_table)\n",
    "# run tukey's hsd\n",
    "# tukeys_tables = tukeys_hsd(path_stats, \"figure1c_red\", \"rfu\", df_red, [\"condition\"])\n",
    "# for table in tukeys_tables:\n",
    "#     print(table)"
   ]
  },
  {
   "cell_type": "code",
   "execution_count": null,
   "metadata": {},
   "outputs": [],
   "source": [
    "### green fluorescent protein ###\n",
    "# select data for green only\n",
    "df_green = df_all[df_all[\"condition\"].str.contains(\"green\")]\n",
    "# run t-tests\n",
    "green_comparisons = [\n",
    "    [\"green_normoxic\", \"green_hypoxic_ice\"], \n",
    "    [\"green_normoxic\", \"green_hypoxic_rt\"], \n",
    "    [\"green_normoxic\", \"green_hypoxic_ox_ice\"]\n",
    "]\n",
    "# t_test_df = run_corrected_t_tests(path_stats, \"figure1c_green\", \"rfu\", df_all, green_comparisons)\n",
    "# print(t_test_df)\n",
    "\n",
    "# run 1 way anova\n",
    "# anova_table = anova(path_stats, \"figure1c_green\", df_green, \"rfu\", \"condition\")\n",
    "# print(anova_table)\n",
    "# run tukey's hsd\n",
    "tukeys_tables = tukeys_hsd(path_stats, \"figure1c_green\", \"rfu\", df_green, [\"condition\"])\n",
    "for table in tukeys_tables:\n",
    "    print(table)"
   ]
  },
  {
   "cell_type": "code",
   "execution_count": null,
   "metadata": {},
   "outputs": [],
   "source": [
    "### blue fluorescent protein ###\n",
    "# select data for green only\n",
    "df_blue = df_all[df_all[\"condition\"].str.contains(\"blue\")]\n",
    "# run t-tests\n",
    "blue_comparisons = [\n",
    "    [\"blue_normoxic\", \"blue_hypoxic_ice\"], \n",
    "    [\"blue_normoxic\", \"blue_hypoxic_rt\"], \n",
    "    [\"blue_normoxic\", \"blue_hypoxic_ox_ice\"]\n",
    "]\n",
    "# t_test_df = run_corrected_t_tests(path_stats, \"figure1c_blue\", \"rfu\", df_all, blue_comparisons)\n",
    "# print(t_test_df)\n",
    "\n",
    "# run 1 way anova\n",
    "# anova_table = anova(path_stats, \"figure1c_blue\", df_blue, \"rfu\", \"condition\")\n",
    "# print(anova_table)\n",
    "# run tukey's hsd\n",
    "tukeys_tables = tukeys_hsd(path_stats, \"figure1c_blue\", \"rfu\", df_blue, [\"condition\"])\n",
    "for table in tukeys_tables:\n",
    "    print(table)"
   ]
  },
  {
   "cell_type": "markdown",
   "metadata": {},
   "source": [
    "### Figure 1C plot"
   ]
  },
  {
   "cell_type": "code",
   "execution_count": 11,
   "metadata": {},
   "outputs": [],
   "source": [
    "df_data_plot = pd.read_csv(path_exp_data+\"plot_figure1C_supp_figure3.csv\")\n",
    "df_data_main = df_data_plot[~df_data_plot[\"condition\"].str.contains(\"f\")]\n",
    "# print(df_data_main)"
   ]
  },
  {
   "cell_type": "code",
   "execution_count": 18,
   "metadata": {},
   "outputs": [
    {
     "data": {
      "image/png": "[encoded data removed]",
      "text/plain": [
       "<Figure size 325x275 with 1 Axes>"
      ]
     },
     "metadata": {},
     "output_type": "display_data"
    }
   ],
   "source": [
    "# format data and labels for plotting\n",
    "conditions = df_data_main[\"condition\"].to_list()\n",
    "plot_xlabels = [conditions[i] for i in range(0, len(conditions), 3)]\n",
    "rfu = df_data_main[\"rfu\"].to_list()\n",
    "plot_rfu = [rfu[i:i + 3] for i in range(0, len(rfu), 3)]\n",
    "std_err = df_data_main[\"std_err\"].to_list()\n",
    "plot_std_err = [std_err[i:i + 3] for i in range(0, len(std_err), 3)]\n",
    "\n",
    "# create plot\n",
    "fig, ax = plt.subplots(1, 1, figsize=(3.25, 2.75))\n",
    "x_ticks = []\n",
    "for index, rfu_list in enumerate(plot_rfu[:4]):\n",
    "    ax.bar(index-0.3, rfu_list[2], width=0.2, color=\"blue\", align=\"center\", label=\"blue\")\n",
    "    ax.errorbar(index-0.3, rfu_list[2], plot_std_err[index][2], color=\"k\", capsize=2, elinewidth=0.5)\n",
    "    ax.bar(index, rfu_list[1], width=0.2, color=\"green\", align=\"center\", label=\"green\")\n",
    "    ax.errorbar(index, rfu_list[1], plot_std_err[index][1], color=\"k\", capsize=2, elinewidth=0.5)\n",
    "    ax.bar(index+0.3, rfu_list[0], width=0.2, color=\"red\", align=\"center\", label=\"red\")\n",
    "    ax.errorbar(index+0.3, rfu_list[0], plot_std_err[index][0], color=\"k\", capsize=2, elinewidth=0.5)\n",
    "    x_ticks.append(index)\n",
    "ax.axhline(y=1.0, color=\"grey\", linestyle=\"dotted\", linewidth=1.5)\n",
    "ax.set_ylabel(\"Fluorescence (relative to normoxic control)\")\n",
    "ax.set_xticks(x_ticks)\n",
    "ax.set_xticklabels(plot_xlabels[:4])\n",
    "\n",
    "plt.show()\n",
    "# plt.savefig(path_plots+\"figure_1c.svg\")"
   ]
  },
  {
   "cell_type": "markdown",
   "metadata": {},
   "source": [
    "### Figure 1D statistical tests"
   ]
  },
  {
   "cell_type": "code",
   "execution_count": 6,
   "metadata": {},
   "outputs": [],
   "source": [
    "df_data = pd.read_csv(path_exp_data+\"Exp04_pt1_dox_DsR.csv\")\n",
    "# print(df_data)"
   ]
  },
  {
   "cell_type": "code",
   "execution_count": 8,
   "metadata": {},
   "outputs": [
    {
     "name": "stdout",
     "output_type": "stream",
     "text": [
      "                                 Multiple Comparison of Means - Tukey HSD, FWER=0.05                                 \n",
      "=====================================================================================================================\n",
      "            group1                         group2                meandiff   p-adj      lower         upper     reject\n",
      "---------------------------------------------------------------------------------------------------------------------\n",
      "     condition_hypoxia & day_0      condition_hypoxia & day_1    -3947.5091    1.0  -574531.3249   566636.3066  False\n",
      "     condition_hypoxia & day_0      condition_hypoxia & day_2    -7190.3121    1.0  -577774.1278   563393.5036  False\n",
      "     condition_hypoxia & day_0      condition_hypoxia & day_3   -10195.8137    1.0  -580779.6295    560388.002  False\n",
      "     condition_hypoxia & day_0      condition_hypoxia & day_4    -4098.4721    1.0  -574682.2879   566485.3436  False\n",
      "     condition_hypoxia & day_0      condition_hypoxia & day_5     9351.5887    1.0  -561232.2271   579935.4044  False\n",
      "     condition_hypoxia & day_0  condition_hypoxia_dox & day_0           0.0    1.0  -570583.8157   570583.8157  False\n",
      "     condition_hypoxia & day_0  condition_hypoxia_dox & day_1   3618862.071   -0.0  3048278.2552  4189445.8867   True\n",
      "     condition_hypoxia & day_0  condition_hypoxia_dox & day_2   5608753.891   -0.0  5038170.0752  6179337.7067   True\n",
      "     condition_hypoxia & day_0  condition_hypoxia_dox & day_3  6267304.2266   -0.0  5696720.4109  6837888.0424   True\n",
      "     condition_hypoxia & day_0  condition_hypoxia_dox & day_4  6634535.0226   -0.0  6063951.2069  7205118.8384   True\n",
      "     condition_hypoxia & day_0  condition_hypoxia_dox & day_5  7232736.9946   -0.0  6662153.1789  7803320.8104   True\n",
      "     condition_hypoxia & day_0     condition_normoxia & day_0           0.0    1.0  -570583.8157   570583.8157  False\n",
      "     condition_hypoxia & day_0     condition_normoxia & day_1    -9067.3263    1.0   -579651.142   561516.4894  False\n",
      "     condition_hypoxia & day_0     condition_normoxia & day_2   -25385.0374    1.0  -595968.8532   545198.7783  False\n",
      "     condition_hypoxia & day_0     condition_normoxia & day_3   -32454.0149    1.0  -603037.8307   538129.8008  False\n",
      "     condition_hypoxia & day_0     condition_normoxia & day_4   -34282.7297    1.0  -604866.5454    536301.086  False\n",
      "     condition_hypoxia & day_0     condition_normoxia & day_5    -32022.755    1.0  -602606.5707   538561.0608  False\n",
      "     condition_hypoxia & day_0 condition_normoxia_dox & day_0           0.0    1.0  -570583.8157   570583.8157  False\n",
      "     condition_hypoxia & day_0 condition_normoxia_dox & day_1   3514579.479   -0.0  2943995.6632  4085163.2947   True\n",
      "     condition_hypoxia & day_0 condition_normoxia_dox & day_2   5922733.664   -0.0  5352149.8482  6493317.4797   True\n",
      "     condition_hypoxia & day_0 condition_normoxia_dox & day_3  6777365.9746   -0.0  6206782.1589  7347949.7904   True\n",
      "     condition_hypoxia & day_0 condition_normoxia_dox & day_4  7036357.4006   -0.0  6465773.5849  7606941.2164   True\n",
      "     condition_hypoxia & day_0 condition_normoxia_dox & day_5   6313626.576   -0.0  5743042.7602  6884210.3917   True\n",
      "     condition_hypoxia & day_1      condition_hypoxia & day_2     -3242.803    1.0  -573826.6187   567341.0128  False\n",
      "     condition_hypoxia & day_1      condition_hypoxia & day_3    -6248.3046    1.0  -576832.1204   564335.5111  False\n",
      "     condition_hypoxia & day_1      condition_hypoxia & day_4      -150.963    1.0  -570734.7788   570432.8527  False\n",
      "     condition_hypoxia & day_1      condition_hypoxia & day_5    13299.0978    1.0   -557284.718   583882.9135  False\n",
      "     condition_hypoxia & day_1  condition_hypoxia_dox & day_0     3947.5091    1.0  -566636.3066   574531.3249  False\n",
      "     condition_hypoxia & day_1  condition_hypoxia_dox & day_1  3622809.5801   -0.0  3052225.7644  4193393.3958   True\n",
      "     condition_hypoxia & day_1  condition_hypoxia_dox & day_2  5612701.4001   -0.0  5042117.5844  6183285.2158   True\n",
      "     condition_hypoxia & day_1  condition_hypoxia_dox & day_3  6271251.7358   -0.0    5700667.92  6841835.5515   True\n",
      "     condition_hypoxia & day_1  condition_hypoxia_dox & day_4  6638482.5318   -0.0   6067898.716  7209066.3475   True\n",
      "     condition_hypoxia & day_1  condition_hypoxia_dox & day_5  7236684.5038   -0.0   6666100.688  7807268.3195   True\n",
      "     condition_hypoxia & day_1     condition_normoxia & day_0     3947.5091    1.0  -566636.3066   574531.3249  False\n",
      "     condition_hypoxia & day_1     condition_normoxia & day_1    -5119.8172    1.0  -575703.6329   565463.9986  False\n",
      "     condition_hypoxia & day_1     condition_normoxia & day_2   -21437.5283    1.0   -592021.344   549146.2874  False\n",
      "     condition_hypoxia & day_1     condition_normoxia & day_3   -28506.5058    1.0  -599090.3215   542077.3099  False\n",
      "     condition_hypoxia & day_1     condition_normoxia & day_4   -30335.2206    1.0  -600919.0363   540248.5952  False\n",
      "     condition_hypoxia & day_1     condition_normoxia & day_5   -28075.2459    1.0  -598659.0616   542508.5699  False\n",
      "     condition_hypoxia & day_1 condition_normoxia_dox & day_0     3947.5091    1.0  -566636.3066   574531.3249  False\n",
      "     condition_hypoxia & day_1 condition_normoxia_dox & day_1  3518526.9881   -0.0  2947943.1724  4089110.8038   True\n",
      "     condition_hypoxia & day_1 condition_normoxia_dox & day_2  5926681.1731   -0.0  5356097.3574  6497264.9888   True\n",
      "     condition_hypoxia & day_1 condition_normoxia_dox & day_3  6781313.4838   -0.0   6210729.668  7351897.2995   True\n",
      "     condition_hypoxia & day_1 condition_normoxia_dox & day_4  7040304.9098   -0.0   6469721.094  7610888.7255   True\n",
      "     condition_hypoxia & day_1 condition_normoxia_dox & day_5  6317574.0851   -0.0  5746990.2694  6888157.9008   True\n",
      "     condition_hypoxia & day_2      condition_hypoxia & day_3    -3005.5016    1.0  -573589.3174   567578.3141  False\n",
      "     condition_hypoxia & day_2      condition_hypoxia & day_4       3091.84    1.0  -567491.9758   573675.6557  False\n",
      "     condition_hypoxia & day_2      condition_hypoxia & day_5    16541.9007    1.0   -554041.915   587125.7165  False\n",
      "     condition_hypoxia & day_2  condition_hypoxia_dox & day_0     7190.3121    1.0  -563393.5036   577774.1278  False\n",
      "     condition_hypoxia & day_2  condition_hypoxia_dox & day_1  3626052.3831   -0.0  3055468.5673  4196636.1988   True\n",
      "     condition_hypoxia & day_2  condition_hypoxia_dox & day_2  5615944.2031   -0.0  5045360.3873  6186528.0188   True\n",
      "     condition_hypoxia & day_2  condition_hypoxia_dox & day_3  6274494.5387   -0.0   5703910.723  6845078.3545   True\n",
      "     condition_hypoxia & day_2  condition_hypoxia_dox & day_4  6641725.3347   -0.0   6071141.519  7212309.1505   True\n",
      "     condition_hypoxia & day_2  condition_hypoxia_dox & day_5  7239927.3067   -0.0   6669343.491  7810511.1225   True\n",
      "     condition_hypoxia & day_2     condition_normoxia & day_0     7190.3121    1.0  -563393.5036   577774.1278  False\n",
      "     condition_hypoxia & day_2     condition_normoxia & day_1    -1877.0142    1.0  -572460.8299   568706.8015  False\n",
      "     condition_hypoxia & day_2     condition_normoxia & day_2   -18194.7253    1.0  -588778.5411   552389.0904  False\n",
      "     condition_hypoxia & day_2     condition_normoxia & day_3   -25263.7028    1.0  -595847.5186   545320.1129  False\n",
      "     condition_hypoxia & day_2     condition_normoxia & day_4   -27092.4176    1.0  -597676.2333   543491.3981  False\n",
      "     condition_hypoxia & day_2     condition_normoxia & day_5   -24832.4429    1.0  -595416.2586   545751.3729  False\n",
      "     condition_hypoxia & day_2 condition_normoxia_dox & day_0     7190.3121    1.0  -563393.5036   577774.1278  False\n",
      "     condition_hypoxia & day_2 condition_normoxia_dox & day_1  3521769.7911   -0.0  2951185.9753  4092353.6068   True\n",
      "     condition_hypoxia & day_2 condition_normoxia_dox & day_2  5929923.9761   -0.0  5359340.1603  6500507.7918   True\n",
      "     condition_hypoxia & day_2 condition_normoxia_dox & day_3  6784556.2867   -0.0   6213972.471  7355140.1025   True\n",
      "     condition_hypoxia & day_2 condition_normoxia_dox & day_4  7043547.7127   -0.0   6472963.897  7614131.5285   True\n",
      "     condition_hypoxia & day_2 condition_normoxia_dox & day_5  6320816.8881   -0.0  5750233.0723  6891400.7038   True\n",
      "     condition_hypoxia & day_3      condition_hypoxia & day_4     6097.3416    1.0  -564486.4741   576681.1573  False\n",
      "     condition_hypoxia & day_3      condition_hypoxia & day_5    19547.4024    1.0  -551036.4133   590131.2181  False\n",
      "     condition_hypoxia & day_3  condition_hypoxia_dox & day_0    10195.8137    1.0   -560388.002   580779.6295  False\n",
      "     condition_hypoxia & day_3  condition_hypoxia_dox & day_1  3629057.8847   -0.0   3058474.069  4199641.7005   True\n",
      "     condition_hypoxia & day_3  condition_hypoxia_dox & day_2  5618949.7047   -0.0   5048365.889  6189533.5205   True\n",
      "     condition_hypoxia & day_3  condition_hypoxia_dox & day_3  6277500.0404   -0.0  5706916.2246  6848083.8561   True\n",
      "     condition_hypoxia & day_3  condition_hypoxia_dox & day_4  6644730.8364   -0.0  6074147.0206  7215314.6521   True\n",
      "     condition_hypoxia & day_3  condition_hypoxia_dox & day_5  7242932.8084   -0.0  6672348.9926  7813516.6241   True\n",
      "     condition_hypoxia & day_3     condition_normoxia & day_0    10195.8137    1.0   -560388.002   580779.6295  False\n",
      "     condition_hypoxia & day_3     condition_normoxia & day_1     1128.4874    1.0  -569455.3283   571712.3032  False\n",
      "     condition_hypoxia & day_3     condition_normoxia & day_2   -15189.2237    1.0  -585773.0394   555394.5921  False\n",
      "     condition_hypoxia & day_3     condition_normoxia & day_3   -22258.2012    1.0  -592842.0169   548325.6146  False\n",
      "     condition_hypoxia & day_3     condition_normoxia & day_4    -24086.916    1.0  -594670.7317   546496.8998  False\n",
      "     condition_hypoxia & day_3     condition_normoxia & day_5   -21826.9412    1.0   -592410.757   548756.8745  False\n",
      "     condition_hypoxia & day_3 condition_normoxia_dox & day_0    10195.8137    1.0   -560388.002   580779.6295  False\n",
      "     condition_hypoxia & day_3 condition_normoxia_dox & day_1  3524775.2927   -0.0   2954191.477  4095359.1085   True\n",
      "     condition_hypoxia & day_3 condition_normoxia_dox & day_2  5932929.4777   -0.0   5362345.662  6503513.2935   True\n",
      "     condition_hypoxia & day_3 condition_normoxia_dox & day_3  6787561.7884   -0.0  6216977.9726  7358145.6041   True\n",
      "     condition_hypoxia & day_3 condition_normoxia_dox & day_4  7046553.2144   -0.0  6475969.3986  7617137.0301   True\n",
      "     condition_hypoxia & day_3 condition_normoxia_dox & day_5  6323822.3897   -0.0   5753238.574  6894406.2055   True\n",
      "     condition_hypoxia & day_4      condition_hypoxia & day_5    13450.0608    1.0   -557133.755   584033.8765  False\n",
      "     condition_hypoxia & day_4  condition_hypoxia_dox & day_0     4098.4721    1.0  -566485.3436   574682.2879  False\n",
      "     condition_hypoxia & day_4  condition_hypoxia_dox & day_1  3622960.5431   -0.0  3052376.7274  4193544.3589   True\n",
      "     condition_hypoxia & day_4  condition_hypoxia_dox & day_2  5612852.3631   -0.0  5042268.5474  6183436.1789   True\n",
      "     condition_hypoxia & day_4  condition_hypoxia_dox & day_3  6271402.6988   -0.0   5700818.883  6841986.5145   True\n",
      "     condition_hypoxia & day_4  condition_hypoxia_dox & day_4  6638633.4948   -0.0   6068049.679  7209217.3105   True\n",
      "     condition_hypoxia & day_4  condition_hypoxia_dox & day_5  7236835.4668   -0.0   6666251.651  7807419.2825   True\n",
      "     condition_hypoxia & day_4     condition_normoxia & day_0     4098.4721    1.0  -566485.3436   574682.2879  False\n",
      "     condition_hypoxia & day_4     condition_normoxia & day_1    -4968.8542    1.0  -575552.6699   565614.9616  False\n",
      "     condition_hypoxia & day_4     condition_normoxia & day_2   -21286.5653    1.0   -591870.381   549297.2504  False\n",
      "     condition_hypoxia & day_4     condition_normoxia & day_3   -28355.5428    1.0  -598939.3585    542228.273  False\n",
      "     condition_hypoxia & day_4     condition_normoxia & day_4   -30184.2576    1.0  -600768.0733   540399.5582  False\n",
      "     condition_hypoxia & day_4     condition_normoxia & day_5   -27924.2828    1.0  -598508.0986   542659.5329  False\n",
      "     condition_hypoxia & day_4 condition_normoxia_dox & day_0     4098.4721    1.0  -566485.3436   574682.2879  False\n",
      "     condition_hypoxia & day_4 condition_normoxia_dox & day_1  3518677.9511   -0.0  2948094.1354  4089261.7669   True\n",
      "     condition_hypoxia & day_4 condition_normoxia_dox & day_2  5926832.1361   -0.0  5356248.3204  6497415.9519   True\n",
      "     condition_hypoxia & day_4 condition_normoxia_dox & day_3  6781464.4468   -0.0   6210880.631  7352048.2625   True\n",
      "     condition_hypoxia & day_4 condition_normoxia_dox & day_4  7040455.8728   -0.0   6469872.057  7611039.6885   True\n",
      "     condition_hypoxia & day_4 condition_normoxia_dox & day_5  6317725.0481   -0.0  5747141.2324  6888308.8639   True\n",
      "     condition_hypoxia & day_5  condition_hypoxia_dox & day_0    -9351.5887    1.0  -579935.4044   561232.2271  False\n",
      "     condition_hypoxia & day_5  condition_hypoxia_dox & day_1  3609510.4823   -0.0  3038926.6666  4180094.2981   True\n",
      "     condition_hypoxia & day_5  condition_hypoxia_dox & day_2  5599402.3023   -0.0  5028818.4866  6169986.1181   True\n",
      "     condition_hypoxia & day_5  condition_hypoxia_dox & day_3   6257952.638   -0.0  5687368.8223  6828536.4537   True\n",
      "     condition_hypoxia & day_5  condition_hypoxia_dox & day_4   6625183.434   -0.0  6054599.6183  7195767.2497   True\n",
      "     condition_hypoxia & day_5  condition_hypoxia_dox & day_5   7223385.406   -0.0  6652801.5903  7793969.2217   True\n",
      "     condition_hypoxia & day_5     condition_normoxia & day_0    -9351.5887    1.0  -579935.4044   561232.2271  False\n",
      "     condition_hypoxia & day_5     condition_normoxia & day_1   -18418.9149    1.0  -589002.7307   552164.9008  False\n",
      "     condition_hypoxia & day_5     condition_normoxia & day_2   -34736.6261    1.0  -605320.4418   535847.1897  False\n",
      "     condition_hypoxia & day_5     condition_normoxia & day_3   -41805.6036    1.0  -612389.4193   528778.2122  False\n",
      "     condition_hypoxia & day_5     condition_normoxia & day_4   -43634.3184    1.0  -614218.1341   526949.4974  False\n",
      "     condition_hypoxia & day_5     condition_normoxia & day_5   -41374.3436    1.0  -611958.1594   529209.4721  False\n",
      "     condition_hypoxia & day_5 condition_normoxia_dox & day_0    -9351.5887    1.0  -579935.4044   561232.2271  False\n",
      "     condition_hypoxia & day_5 condition_normoxia_dox & day_1  3505227.8903   -0.0  2934644.0746  4075811.7061   True\n",
      "     condition_hypoxia & day_5 condition_normoxia_dox & day_2  5913382.0753   -0.0  5342798.2596  6483965.8911   True\n",
      "     condition_hypoxia & day_5 condition_normoxia_dox & day_3   6768014.386   -0.0  6197430.5703  7338598.2017   True\n",
      "     condition_hypoxia & day_5 condition_normoxia_dox & day_4   7027005.812   -0.0  6456421.9963  7597589.6277   True\n",
      "     condition_hypoxia & day_5 condition_normoxia_dox & day_5  6304274.9873   -0.0  5733691.1716  6874858.8031   True\n",
      " condition_hypoxia_dox & day_0  condition_hypoxia_dox & day_1   3618862.071   -0.0  3048278.2552  4189445.8867   True\n",
      " condition_hypoxia_dox & day_0  condition_hypoxia_dox & day_2   5608753.891   -0.0  5038170.0752  6179337.7067   True\n",
      " condition_hypoxia_dox & day_0  condition_hypoxia_dox & day_3  6267304.2266   -0.0  5696720.4109  6837888.0424   True\n",
      " condition_hypoxia_dox & day_0  condition_hypoxia_dox & day_4  6634535.0226   -0.0  6063951.2069  7205118.8384   True\n",
      " condition_hypoxia_dox & day_0  condition_hypoxia_dox & day_5  7232736.9946   -0.0  6662153.1789  7803320.8104   True\n",
      " condition_hypoxia_dox & day_0     condition_normoxia & day_0           0.0    1.0  -570583.8157   570583.8157  False\n",
      " condition_hypoxia_dox & day_0     condition_normoxia & day_1    -9067.3263    1.0   -579651.142   561516.4894  False\n",
      " condition_hypoxia_dox & day_0     condition_normoxia & day_2   -25385.0374    1.0  -595968.8532   545198.7783  False\n",
      " condition_hypoxia_dox & day_0     condition_normoxia & day_3   -32454.0149    1.0  -603037.8307   538129.8008  False\n",
      " condition_hypoxia_dox & day_0     condition_normoxia & day_4   -34282.7297    1.0  -604866.5454    536301.086  False\n",
      " condition_hypoxia_dox & day_0     condition_normoxia & day_5    -32022.755    1.0  -602606.5707   538561.0608  False\n",
      " condition_hypoxia_dox & day_0 condition_normoxia_dox & day_0           0.0    1.0  -570583.8157   570583.8157  False\n",
      " condition_hypoxia_dox & day_0 condition_normoxia_dox & day_1   3514579.479   -0.0  2943995.6632  4085163.2947   True\n",
      " condition_hypoxia_dox & day_0 condition_normoxia_dox & day_2   5922733.664   -0.0  5352149.8482  6493317.4797   True\n",
      " condition_hypoxia_dox & day_0 condition_normoxia_dox & day_3  6777365.9746   -0.0  6206782.1589  7347949.7904   True\n",
      " condition_hypoxia_dox & day_0 condition_normoxia_dox & day_4  7036357.4006   -0.0  6465773.5849  7606941.2164   True\n",
      " condition_hypoxia_dox & day_0 condition_normoxia_dox & day_5   6313626.576   -0.0  5743042.7602  6884210.3917   True\n",
      " condition_hypoxia_dox & day_1  condition_hypoxia_dox & day_2    1989891.82    0.0  1419308.0043  2560475.6357   True\n",
      " condition_hypoxia_dox & day_1  condition_hypoxia_dox & day_3  2648442.1557   -0.0  2077858.3399  3219025.9714   True\n",
      " condition_hypoxia_dox & day_1  condition_hypoxia_dox & day_4  3015672.9517   -0.0  2445089.1359  3586256.7674   True\n",
      " condition_hypoxia_dox & day_1  condition_hypoxia_dox & day_5  3613874.9237   -0.0  3043291.1079  4184458.7394   True\n",
      " condition_hypoxia_dox & day_1     condition_normoxia & day_0  -3618862.071   -0.0 -4189445.8867 -3048278.2552   True\n",
      " condition_hypoxia_dox & day_1     condition_normoxia & day_1 -3627929.3973   -0.0  -4198513.213 -3057345.5815   True\n",
      " condition_hypoxia_dox & day_1     condition_normoxia & day_2 -3644247.1084   -0.0 -4214830.9241 -3073663.2927   True\n",
      " condition_hypoxia_dox & day_1     condition_normoxia & day_3 -3651316.0859   -0.0 -4221899.9016 -3080732.2702   True\n",
      " condition_hypoxia_dox & day_1     condition_normoxia & day_4 -3653144.8007   -0.0 -4223728.6164 -3082560.9849   True\n",
      " condition_hypoxia_dox & day_1     condition_normoxia & day_5  -3650884.826   -0.0 -4221468.6417 -3080301.0102   True\n",
      " condition_hypoxia_dox & day_1 condition_normoxia_dox & day_0  -3618862.071   -0.0 -4189445.8867 -3048278.2552   True\n",
      " condition_hypoxia_dox & day_1 condition_normoxia_dox & day_1   -104282.592    1.0  -674866.4077   466301.2237  False\n",
      " condition_hypoxia_dox & day_1 condition_normoxia_dox & day_2   2303871.593   -0.0  1733287.7773  2874455.4087   True\n",
      " condition_hypoxia_dox & day_1 condition_normoxia_dox & day_3  3158503.9037   -0.0  2587920.0879  3729087.7194   True\n",
      " condition_hypoxia_dox & day_1 condition_normoxia_dox & day_4  3417495.3297   -0.0  2846911.5139  3988079.1454   True\n",
      " condition_hypoxia_dox & day_1 condition_normoxia_dox & day_5   2694764.505   -0.0  2124180.6893  3265348.3207   True\n",
      " condition_hypoxia_dox & day_2  condition_hypoxia_dox & day_3   658550.3357 0.0093    87966.5199  1229134.1514   True\n",
      " condition_hypoxia_dox & day_2  condition_hypoxia_dox & day_4  1025781.1317    0.0   455197.3159  1596364.9474   True\n",
      " condition_hypoxia_dox & day_2  condition_hypoxia_dox & day_5  1623983.1037    0.0  1053399.2879  2194566.9194   True\n",
      " condition_hypoxia_dox & day_2     condition_normoxia & day_0  -5608753.891   -0.0 -6179337.7067 -5038170.0752   True\n",
      " condition_hypoxia_dox & day_2     condition_normoxia & day_1 -5617821.2173   -0.0  -6188405.033 -5047237.4015   True\n",
      " condition_hypoxia_dox & day_2     condition_normoxia & day_2 -5634138.9284   -0.0 -6204722.7441 -5063555.1127   True\n",
      " condition_hypoxia_dox & day_2     condition_normoxia & day_3 -5641207.9059   -0.0 -6211791.7216 -5070624.0902   True\n",
      " condition_hypoxia_dox & day_2     condition_normoxia & day_4 -5643036.6207   -0.0 -6213620.4364 -5072452.8049   True\n",
      " condition_hypoxia_dox & day_2     condition_normoxia & day_5  -5640776.646   -0.0 -6211360.4617 -5070192.8302   True\n",
      " condition_hypoxia_dox & day_2 condition_normoxia_dox & day_0  -5608753.891   -0.0 -6179337.7067 -5038170.0752   True\n",
      " condition_hypoxia_dox & day_2 condition_normoxia_dox & day_1  -2094174.412   -0.0 -2664758.2277 -1523590.5963   True\n",
      " condition_hypoxia_dox & day_2 condition_normoxia_dox & day_2    313979.773 0.8867  -256604.0427   884563.5887  False\n",
      " condition_hypoxia_dox & day_2 condition_normoxia_dox & day_3  1168612.0837    0.0   598028.2679  1739195.8994   True\n",
      " condition_hypoxia_dox & day_2 condition_normoxia_dox & day_4  1427603.5097    0.0   857019.6939  1998187.3254   True\n",
      " condition_hypoxia_dox & day_2 condition_normoxia_dox & day_5    704872.685 0.0036   134288.8693  1275456.5007   True\n",
      " condition_hypoxia_dox & day_3  condition_hypoxia_dox & day_4    367230.796 0.6836  -203353.0197   937814.6117  False\n",
      " condition_hypoxia_dox & day_3  condition_hypoxia_dox & day_5    965432.768    0.0   394848.9523  1536016.5837   True\n",
      " condition_hypoxia_dox & day_3     condition_normoxia & day_0 -6267304.2266   -0.0 -6837888.0424 -5696720.4109   True\n",
      " condition_hypoxia_dox & day_3     condition_normoxia & day_1 -6276371.5529   -0.0 -6846955.3687 -5705787.7372   True\n",
      " condition_hypoxia_dox & day_3     condition_normoxia & day_2 -6292689.2641   -0.0 -6863273.0798 -5722105.4483   True\n",
      " condition_hypoxia_dox & day_3     condition_normoxia & day_3 -6299758.2416   -0.0 -6870342.0573 -5729174.4258   True\n",
      " condition_hypoxia_dox & day_3     condition_normoxia & day_4 -6301586.9563   -0.0 -6872170.7721 -5731003.1406   True\n",
      " condition_hypoxia_dox & day_3     condition_normoxia & day_5 -6299326.9816   -0.0 -6869910.7974 -5728743.1659   True\n",
      " condition_hypoxia_dox & day_3 condition_normoxia_dox & day_0 -6267304.2266   -0.0 -6837888.0424 -5696720.4109   True\n",
      " condition_hypoxia_dox & day_3 condition_normoxia_dox & day_1 -2752724.7477   -0.0 -3323308.5634 -2182140.9319   True\n",
      " condition_hypoxia_dox & day_3 condition_normoxia_dox & day_2  -344570.5627 0.7814  -915154.3784   226013.2531  False\n",
      " condition_hypoxia_dox & day_3 condition_normoxia_dox & day_3    510061.748 0.1363   -60522.0677  1080645.5637  False\n",
      " condition_hypoxia_dox & day_3 condition_normoxia_dox & day_4    769053.174 0.0009   198469.3583  1339636.9897   True\n",
      " condition_hypoxia_dox & day_3 condition_normoxia_dox & day_5    46322.3493    1.0  -524261.4664   616906.1651  False\n",
      " condition_hypoxia_dox & day_4  condition_hypoxia_dox & day_5    598201.972 0.0303    27618.1563  1168785.7877   True\n",
      " condition_hypoxia_dox & day_4     condition_normoxia & day_0 -6634535.0226   -0.0 -7205118.8384 -6063951.2069   True\n",
      " condition_hypoxia_dox & day_4     condition_normoxia & day_1 -6643602.3489   -0.0 -7214186.1647 -6073018.5332   True\n",
      " condition_hypoxia_dox & day_4     condition_normoxia & day_2 -6659920.0601   -0.0 -7230503.8758 -6089336.2443   True\n",
      " condition_hypoxia_dox & day_4     condition_normoxia & day_3 -6666989.0376   -0.0 -7237572.8533 -6096405.2218   True\n",
      " condition_hypoxia_dox & day_4     condition_normoxia & day_4 -6668817.7523   -0.0 -7239401.5681 -6098233.9366   True\n",
      " condition_hypoxia_dox & day_4     condition_normoxia & day_5 -6666557.7776   -0.0 -7237141.5934 -6095973.9619   True\n",
      " condition_hypoxia_dox & day_4 condition_normoxia_dox & day_0 -6634535.0226   -0.0 -7205118.8384 -6063951.2069   True\n",
      " condition_hypoxia_dox & day_4 condition_normoxia_dox & day_1 -3119955.5437   -0.0 -3690539.3594 -2549371.7279   True\n",
      " condition_hypoxia_dox & day_4 condition_normoxia_dox & day_2  -711801.3587 0.0031 -1282385.1744  -141217.5429   True\n",
      " condition_hypoxia_dox & day_4 condition_normoxia_dox & day_3    142830.952    1.0  -427752.8637   713414.7677  False\n",
      " condition_hypoxia_dox & day_4 condition_normoxia_dox & day_4    401822.378 0.5205  -168761.4377   972406.1937  False\n",
      " condition_hypoxia_dox & day_4 condition_normoxia_dox & day_5  -320908.4467 0.8661  -891492.2624   249675.3691  False\n",
      " condition_hypoxia_dox & day_5     condition_normoxia & day_0 -7232736.9946   -0.0 -7803320.8104 -6662153.1789   True\n",
      " condition_hypoxia_dox & day_5     condition_normoxia & day_1 -7241804.3209   -0.0 -7812388.1367 -6671220.5052   True\n",
      " condition_hypoxia_dox & day_5     condition_normoxia & day_2 -7258122.0321   -0.0 -7828705.8478 -6687538.2163   True\n",
      " condition_hypoxia_dox & day_5     condition_normoxia & day_3 -7265191.0096   -0.0 -7835774.8253 -6694607.1938   True\n",
      " condition_hypoxia_dox & day_5     condition_normoxia & day_4 -7267019.7243   -0.0 -7837603.5401 -6696435.9086   True\n",
      " condition_hypoxia_dox & day_5     condition_normoxia & day_5 -7264759.7496   -0.0 -7835343.5654 -6694175.9339   True\n",
      " condition_hypoxia_dox & day_5 condition_normoxia_dox & day_0 -7232736.9946   -0.0 -7803320.8104 -6662153.1789   True\n",
      " condition_hypoxia_dox & day_5 condition_normoxia_dox & day_1 -3718157.5157   -0.0 -4288741.3314 -3147573.6999   True\n",
      " condition_hypoxia_dox & day_5 condition_normoxia_dox & day_2 -1310003.3307    0.0 -1880587.1464  -739419.5149   True\n",
      " condition_hypoxia_dox & day_5 condition_normoxia_dox & day_3    -455371.02 0.2918 -1025954.8357   115212.7957  False\n",
      " condition_hypoxia_dox & day_5 condition_normoxia_dox & day_4   -196379.594 0.9995  -766963.4097   374204.2217  False\n",
      " condition_hypoxia_dox & day_5 condition_normoxia_dox & day_5  -919110.4187    0.0 -1489694.2344  -348526.6029   True\n",
      "    condition_normoxia & day_0     condition_normoxia & day_1    -9067.3263    1.0   -579651.142   561516.4894  False\n",
      "    condition_normoxia & day_0     condition_normoxia & day_2   -25385.0374    1.0  -595968.8532   545198.7783  False\n",
      "    condition_normoxia & day_0     condition_normoxia & day_3   -32454.0149    1.0  -603037.8307   538129.8008  False\n",
      "    condition_normoxia & day_0     condition_normoxia & day_4   -34282.7297    1.0  -604866.5454    536301.086  False\n",
      "    condition_normoxia & day_0     condition_normoxia & day_5    -32022.755    1.0  -602606.5707   538561.0608  False\n",
      "    condition_normoxia & day_0 condition_normoxia_dox & day_0           0.0    1.0  -570583.8157   570583.8157  False\n",
      "    condition_normoxia & day_0 condition_normoxia_dox & day_1   3514579.479   -0.0  2943995.6632  4085163.2947   True\n",
      "    condition_normoxia & day_0 condition_normoxia_dox & day_2   5922733.664   -0.0  5352149.8482  6493317.4797   True\n",
      "    condition_normoxia & day_0 condition_normoxia_dox & day_3  6777365.9746   -0.0  6206782.1589  7347949.7904   True\n",
      "    condition_normoxia & day_0 condition_normoxia_dox & day_4  7036357.4006   -0.0  6465773.5849  7606941.2164   True\n",
      "    condition_normoxia & day_0 condition_normoxia_dox & day_5   6313626.576   -0.0  5743042.7602  6884210.3917   True\n",
      "    condition_normoxia & day_1     condition_normoxia & day_2   -16317.7111    1.0  -586901.5269   554266.1046  False\n",
      "    condition_normoxia & day_1     condition_normoxia & day_3   -23386.6886    1.0  -593970.5044   547197.1271  False\n",
      "    condition_normoxia & day_1     condition_normoxia & day_4   -25215.4034    1.0  -595799.2191   545368.4123  False\n",
      "    condition_normoxia & day_1     condition_normoxia & day_5   -22955.4287    1.0  -593539.2444   547628.3871  False\n",
      "    condition_normoxia & day_1 condition_normoxia_dox & day_0     9067.3263    1.0  -561516.4894    579651.142  False\n",
      "    condition_normoxia & day_1 condition_normoxia_dox & day_1  3523646.8053   -0.0  2953062.9895   4094230.621   True\n",
      "    condition_normoxia & day_1 condition_normoxia_dox & day_2  5931800.9903   -0.0  5361217.1745   6502384.806   True\n",
      "    condition_normoxia & day_1 condition_normoxia_dox & day_3  6786433.3009   -0.0  6215849.4852  7357017.1167   True\n",
      "    condition_normoxia & day_1 condition_normoxia_dox & day_4  7045424.7269   -0.0  6474840.9112  7616008.5427   True\n",
      "    condition_normoxia & day_1 condition_normoxia_dox & day_5  6322693.9023   -0.0  5752110.0865   6893277.718   True\n",
      "    condition_normoxia & day_2     condition_normoxia & day_3    -7068.9775    1.0  -577652.7932   563514.8382  False\n",
      "    condition_normoxia & day_2     condition_normoxia & day_4    -8897.6923    1.0   -579481.508   561686.1235  False\n",
      "    condition_normoxia & day_2     condition_normoxia & day_5    -6637.7175    1.0  -577221.5333   563946.0982  False\n",
      "    condition_normoxia & day_2 condition_normoxia_dox & day_0    25385.0374    1.0  -545198.7783   595968.8532  False\n",
      "    condition_normoxia & day_2 condition_normoxia_dox & day_1  3539964.5164   -0.0  2969380.7007  4110548.3321   True\n",
      "    condition_normoxia & day_2 condition_normoxia_dox & day_2  5948118.7014   -0.0  5377534.8857  6518702.5171   True\n",
      "    condition_normoxia & day_2 condition_normoxia_dox & day_3  6802751.0121   -0.0  6232167.1963  7373334.8278   True\n",
      "    condition_normoxia & day_2 condition_normoxia_dox & day_4  7061742.4381   -0.0  6491158.6223  7632326.2538   True\n",
      "    condition_normoxia & day_2 condition_normoxia_dox & day_5  6339011.6134   -0.0  5768427.7977  6909595.4291   True\n",
      "    condition_normoxia & day_3     condition_normoxia & day_4    -1828.7148    1.0  -572412.5305    568755.101  False\n",
      "    condition_normoxia & day_3     condition_normoxia & day_5      431.2599    1.0  -570152.5558   571015.0757  False\n",
      "    condition_normoxia & day_3 condition_normoxia_dox & day_0    32454.0149    1.0  -538129.8008   603037.8307  False\n",
      "    condition_normoxia & day_3 condition_normoxia_dox & day_1  3547033.4939   -0.0  2976449.6782  4117617.3096   True\n",
      "    condition_normoxia & day_3 condition_normoxia_dox & day_2  5955187.6789   -0.0  5384603.8632  6525771.4946   True\n",
      "    condition_normoxia & day_3 condition_normoxia_dox & day_3  6809819.9896   -0.0  6239236.1738  7380403.8053   True\n",
      "    condition_normoxia & day_3 condition_normoxia_dox & day_4  7068811.4156   -0.0  6498227.5998  7639395.2313   True\n",
      "    condition_normoxia & day_3 condition_normoxia_dox & day_5  6346080.5909   -0.0  5775496.7752  6916664.4066   True\n",
      "    condition_normoxia & day_4     condition_normoxia & day_5     2259.9747    1.0   -568323.841   572843.7905  False\n",
      "    condition_normoxia & day_4 condition_normoxia_dox & day_0    34282.7297    1.0   -536301.086   604866.5454  False\n",
      "    condition_normoxia & day_4 condition_normoxia_dox & day_1  3548862.2087   -0.0  2978278.3929  4119446.0244   True\n",
      "    condition_normoxia & day_4 condition_normoxia_dox & day_2  5957016.3937   -0.0  5386432.5779  6527600.2094   True\n",
      "    condition_normoxia & day_4 condition_normoxia_dox & day_3  6811648.7043   -0.0  6241064.8886  7382232.5201   True\n",
      "    condition_normoxia & day_4 condition_normoxia_dox & day_4  7070640.1303   -0.0  6500056.3146  7641223.9461   True\n",
      "    condition_normoxia & day_4 condition_normoxia_dox & day_5  6347909.3057   -0.0  5777325.4899  6918493.1214   True\n",
      "    condition_normoxia & day_5 condition_normoxia_dox & day_0     32022.755    1.0  -538561.0608   602606.5707  False\n",
      "    condition_normoxia & day_5 condition_normoxia_dox & day_1   3546602.234   -0.0  2976018.4182  4117186.0497   True\n",
      "    condition_normoxia & day_5 condition_normoxia_dox & day_2   5954756.419   -0.0  5384172.6032  6525340.2347   True\n",
      "    condition_normoxia & day_5 condition_normoxia_dox & day_3  6809388.7296   -0.0  6238804.9139  7379972.5454   True\n",
      "    condition_normoxia & day_5 condition_normoxia_dox & day_4  7068380.1556   -0.0  6497796.3399  7638963.9714   True\n",
      "    condition_normoxia & day_5 condition_normoxia_dox & day_5   6345649.331   -0.0  5775065.5152  6916233.1467   True\n",
      "condition_normoxia_dox & day_0 condition_normoxia_dox & day_1   3514579.479   -0.0  2943995.6632  4085163.2947   True\n",
      "condition_normoxia_dox & day_0 condition_normoxia_dox & day_2   5922733.664   -0.0  5352149.8482  6493317.4797   True\n",
      "condition_normoxia_dox & day_0 condition_normoxia_dox & day_3  6777365.9746   -0.0  6206782.1589  7347949.7904   True\n",
      "condition_normoxia_dox & day_0 condition_normoxia_dox & day_4  7036357.4006   -0.0  6465773.5849  7606941.2164   True\n",
      "condition_normoxia_dox & day_0 condition_normoxia_dox & day_5   6313626.576   -0.0  5743042.7602  6884210.3917   True\n",
      "condition_normoxia_dox & day_1 condition_normoxia_dox & day_2   2408154.185   -0.0  1837570.3693  2978738.0007   True\n",
      "condition_normoxia_dox & day_1 condition_normoxia_dox & day_3  3262786.4957   -0.0  2692202.6799  3833370.3114   True\n",
      "condition_normoxia_dox & day_1 condition_normoxia_dox & day_4  3521777.9217   -0.0  2951194.1059  4092361.7374   True\n",
      "condition_normoxia_dox & day_1 condition_normoxia_dox & day_5   2799047.097   -0.0  2228463.2813  3369630.9127   True\n",
      "condition_normoxia_dox & day_2 condition_normoxia_dox & day_3   854632.3107 0.0001   284048.4949  1425216.1264   True\n",
      "condition_normoxia_dox & day_2 condition_normoxia_dox & day_4  1113623.7367    0.0   543039.9209  1684207.5524   True\n",
      "condition_normoxia_dox & day_2 condition_normoxia_dox & day_5    390892.912 0.5724  -179690.9037   961476.7277  False\n",
      "condition_normoxia_dox & day_3 condition_normoxia_dox & day_4    258991.426 0.9814  -311592.3897   829575.2417  False\n",
      "condition_normoxia_dox & day_3 condition_normoxia_dox & day_5  -463739.3987 0.2624 -1034323.2144   106844.4171  False\n",
      "condition_normoxia_dox & day_4 condition_normoxia_dox & day_5  -722730.8247 0.0024 -1293314.6404  -152147.0089   True\n",
      "---------------------------------------------------------------------------------------------------------------------\n",
      "              Multiple Comparison of Means - Tukey HSD, FWER=0.05               \n",
      "================================================================================\n",
      "   group1      group2       meandiff   p-adj      lower         upper     reject\n",
      "--------------------------------------------------------------------------------\n",
      "    hypoxia  hypoxia_dox  4896378.7874    0.0  3309512.4457  6483245.1291   True\n",
      "    hypoxia     normoxia   -19521.8908    1.0 -1606388.2325  1567344.4509  False\n",
      "    hypoxia normoxia_dox  4930123.9354    0.0  3343257.5937  6516990.2771   True\n",
      "hypoxia_dox     normoxia -4915900.6782    0.0 -6502767.0199 -3329034.3365   True\n",
      "hypoxia_dox normoxia_dox    33745.1481 0.9999 -1553121.1936  1620611.4898  False\n",
      "   normoxia normoxia_dox  4949645.8263    0.0  3362779.4846   6536512.168   True\n",
      "--------------------------------------------------------------------------------\n",
      "        Multiple Comparison of Means - Tukey HSD, FWER=0.05        \n",
      "===================================================================\n",
      "group1 group2   meandiff   p-adj      lower        upper     reject\n",
      "-------------------------------------------------------------------\n",
      "     0      1 1780106.6786 0.6586 -1678155.4463 5238368.8036  False\n",
      "     0      2 2874728.0514 0.1578  -583534.0736 6332990.1763  False\n",
      "     0      3 3250505.0932 0.0773  -207757.0318 6708767.2181  False\n",
      "     0      4 3408127.8054 0.0557   -50134.3196 6866389.9304  False\n",
      "     0      5 3380923.1011  0.059   -77339.0239 6839185.2261  False\n",
      "     1      2 1094621.3727 0.9376 -2363640.7523 4552883.4977  False\n",
      "     1      3 1470398.4145 0.8115 -1987863.7105 4928660.5395  False\n",
      "     1      4 1628021.1267 0.7377 -1830240.9983 5086283.2517  False\n",
      "     1      5 1600816.4224 0.7511 -1857445.7025 5059078.5474  False\n",
      "     2      3  375777.0418 0.9995 -3082485.0832 3834039.1668  False\n",
      "     2      4   533399.754 0.9975  -2924862.371  3991661.879  False\n",
      "     2      5  506195.0497 0.9981 -2952067.0753 3964457.1747  False\n",
      "     3      4  157622.7122    1.0 -3300639.4128 3615884.8372  False\n",
      "     3      5  130418.0079    1.0 -3327844.1171 3588680.1329  False\n",
      "     4      5  -27204.7043    1.0 -3485466.8293 3431057.4207  False\n",
      "-------------------------------------------------------------------\n"
     ]
    }
   ],
   "source": [
    "# format df for t-test code\n",
    "# df_data[\"condition\"] = df_data[\"condition\"] + \"_\" + df_data[\"day\"].astype(str)\n",
    "# print(df_data)\n",
    "# comparisons = [\n",
    "#     [\"normoxia_0\", \"hypoxia_0\"],\n",
    "#     [\"normoxia_1\", \"hypoxia_1\"],\n",
    "#     [\"normoxia_2\", \"hypoxia_2\"],\n",
    "#     [\"normoxia_3\", \"hypoxia_3\"],\n",
    "#     [\"normoxia_4\", \"hypoxia_4\"],\n",
    "#     [\"normoxia_5\", \"hypoxia_5\"],\n",
    "#     [\"normoxia_dox_0\", \"hypoxia_dox_0\"],\n",
    "#     [\"normoxia_dox_1\", \"hypoxia_dox_1\"],\n",
    "#     [\"normoxia_dox_2\", \"hypoxia_dox_2\"],\n",
    "#     [\"normoxia_dox_3\", \"hypoxia_dox_3\"],\n",
    "#     [\"normoxia_dox_4\", \"hypoxia_dox_4\"],\n",
    "#     [\"normoxia_dox_5\", \"hypoxia_dox_5\"],\n",
    "# ]\n",
    "# t_test_df = run_corrected_t_tests(path_stats, \"figure1d\", \"meptrs\", df_data, comparisons)\n",
    "# print(t_test_df)\n",
    "\n",
    "# run 2-way repeated measures ANOVA\n",
    "# anova_rm_table = repeated_measures_anova(path_stats, \"figure1d\", df_data, \"meptrs\", \"day\", \"condition\")\n",
    "# print(anova_rm_table)\n",
    "\n",
    "# run tukey's hsd\n",
    "tukeys_table_i, tukeys_tables = tukeys_hsd(path_stats, \"figure1d\", \"meptrs\", df_data, [\"condition\", \"day\"], [\"condition\",\"day\"]) \n",
    "print(tukeys_table_i)\n",
    "for table in tukeys_tables:\n",
    "    print(table)\n"
   ]
  },
  {
   "cell_type": "markdown",
   "metadata": {},
   "source": [
    "### Figure 1D plot"
   ]
  },
  {
   "cell_type": "code",
   "execution_count": null,
   "metadata": {},
   "outputs": [],
   "source": [
    "df_data_plot = pd.read_csv(path_exp_data+\"plot_figure1D.csv\")\n",
    "# print(df_data_plot)\n",
    "days = [0, 1, 2, 3, 4, 5]"
   ]
  },
  {
   "cell_type": "code",
   "execution_count": null,
   "metadata": {},
   "outputs": [],
   "source": [
    "# normoxia data\n",
    "meptrs_normoxia = df_data_plot[df_data_plot[\"condition\"] == \"normoxia\"][\"meptrs\"].to_list()\n",
    "meptrs_normoxia_scaled = [i/1E6 for i in meptrs_normoxia]\n",
    "std_err_normoxia = df_data_plot[df_data_plot[\"condition\"] == \"normoxia\"][\"std_err\"].to_list()\n",
    "std_err_normoxia_scaled = [i/1E6 for i in std_err_normoxia]"
   ]
  },
  {
   "cell_type": "code",
   "execution_count": null,
   "metadata": {},
   "outputs": [],
   "source": [
    "# normoxia dox data\n",
    "meptrs_normoxia_dox = df_data_plot[df_data_plot[\"condition\"] == \"normoxia_dox\"][\"meptrs\"].to_list()\n",
    "meptrs_normoxia_dox_scaled = [i/1E6 for i in meptrs_normoxia_dox]\n",
    "std_err_normoxia_dox = df_data_plot[df_data_plot[\"condition\"] == \"normoxia_dox\"][\"std_err\"].to_list()\n",
    "std_err_normoxia_dox_scaled = [i/1E6 for i in std_err_normoxia_dox]"
   ]
  },
  {
   "cell_type": "code",
   "execution_count": null,
   "metadata": {},
   "outputs": [],
   "source": [
    "# hypoxia data\n",
    "meptrs_hypoxia = df_data_plot[df_data_plot[\"condition\"] == \"hypoxia\"][\"meptrs\"].to_list()\n",
    "meptrs_hypoxia_scaled = [i/1E6 for i in meptrs_hypoxia]\n",
    "std_err_hypoxia = df_data_plot[df_data_plot[\"condition\"] == \"hypoxia\"][\"std_err\"].to_list()\n",
    "std_err_hypoxia_scaled = [i/1E6 for i in std_err_hypoxia]"
   ]
  },
  {
   "cell_type": "code",
   "execution_count": null,
   "metadata": {},
   "outputs": [],
   "source": [
    "# hypoxia dox data\n",
    "meptrs_hypoxia_dox = df_data_plot[df_data_plot[\"condition\"] == \"hypoxia_dox\"][\"meptrs\"].to_list()\n",
    "meptrs_hypoxia_dox_scaled = [i/1E6 for i in meptrs_hypoxia_dox]\n",
    "std_err_hypoxia_dox = df_data_plot[df_data_plot[\"condition\"] == \"hypoxia_dox\"][\"std_err\"].to_list()\n",
    "std_err_hypoxia_dox_scaled = [i/1E6 for i in std_err_hypoxia_dox]"
   ]
  },
  {
   "cell_type": "code",
   "execution_count": null,
   "metadata": {},
   "outputs": [],
   "source": [
    "# create figure 2D plot\n",
    "fig, ax = plt.subplots(1, 1, figsize=(2.5, 2.5), sharey=True)\n",
    "ax.errorbar(days, meptrs_normoxia_scaled, std_err_normoxia_scaled, color=\"gray\", linestyle=\"-\", linewidth=1, marker=\"o\", markersize=\"4\", ecolor=\"k\", capsize=2, elinewidth=0.5, label=\"normoxia\")\n",
    "ax.errorbar(days, meptrs_normoxia_dox_scaled, std_err_normoxia_dox_scaled, color=\"k\", linestyle=\"-\", linewidth=1, marker=\"o\", markersize=\"4\", ecolor=\"k\", capsize=2, elinewidth=0.5, label=\"normoxia_dox\")\n",
    "ax.errorbar(days, meptrs_hypoxia_scaled, std_err_hypoxia_scaled, color=\"mediumpurple\", linestyle=\"-\", linewidth=1, marker=\"o\", markersize=\"4\", ecolor=\"k\", capsize=2, elinewidth=0.5, label=\"hypoxia\")\n",
    "ax.errorbar(days, meptrs_hypoxia_dox_scaled, std_err_hypoxia_dox_scaled, color=\"rebeccapurple\", linestyle=\"-\", linewidth=1, marker=\"o\", markersize=\"4\", ecolor=\"k\", capsize=2, elinewidth=0.5, label=\"hypoxia_dox\")\n",
    "ax.set_xlabel(\"Days post plating\")\n",
    "ax.set_xticks([0, 1, 2, 3, 4, 5])\n",
    "ax.set_ylabel(\"Mean reporter exp. (x10^6 MEPTRs)\")\n",
    "ax.set_ylim(top=9)\n",
    "ax.set_box_aspect(1)\n",
    "# plt.show()\n",
    "plt.savefig(path_plots+\"figure_1d.svg\")"
   ]
  },
  {
   "cell_type": "markdown",
   "metadata": {},
   "source": [
    "## Supplementary Figure 3"
   ]
  },
  {
   "cell_type": "markdown",
   "metadata": {},
   "source": [
    "### Supplementary Figure 3 statistical tests"
   ]
  },
  {
   "cell_type": "code",
   "execution_count": null,
   "metadata": {},
   "outputs": [],
   "source": [
    "df_all = pd.read_csv(path_exp_data+\"Exp03_supplement.csv\")\n",
    "# print(df_all)"
   ]
  },
  {
   "cell_type": "code",
   "execution_count": null,
   "metadata": {},
   "outputs": [],
   "source": [
    "### red fluorescent protein ###\n",
    "# select data for red only\n",
    "df_red = df_all[df_all[\"condition\"].str.contains(\"red\")]\n",
    "# print(df_red)\n",
    "# run 1 way anova\n",
    "# anova_table = anova(path_stats, \"supp_figure3_red\", df_red, \"rfu\", \"condition\")\n",
    "# print(anova_table)\n",
    "# run tukey's hsd\n",
    "tukeys_tables = tukeys_hsd(path_stats, \"supp_figure3_red\", \"rfu\", df_red, [\"condition\"])\n",
    "for table in tukeys_tables:\n",
    "    print(table)"
   ]
  },
  {
   "cell_type": "code",
   "execution_count": null,
   "metadata": {},
   "outputs": [],
   "source": [
    "### green fluorescent protein ###\n",
    "# select data for red only\n",
    "df_green = df_all[df_all[\"condition\"].str.contains(\"green\")]\n",
    "# run 1 way anova\n",
    "# anova_table = anova(path_stats, \"supp_figure3_green\", df_green, \"rfu\", \"condition\")\n",
    "# print(anova_table)\n",
    "# run tukey's hsd\n",
    "tukeys_tables = tukeys_hsd(path_stats, \"supp_figure3_green\", \"rfu\", df_green, [\"condition\"])\n",
    "for table in tukeys_tables:\n",
    "    print(table)"
   ]
  },
  {
   "cell_type": "code",
   "execution_count": null,
   "metadata": {},
   "outputs": [],
   "source": [
    "### blue fluorescent protein ###\n",
    "# select data for red only\n",
    "df_blue = df_all[df_all[\"condition\"].str.contains(\"blue\")]\n",
    "# run 1 way anova\n",
    "# anova_table = anova(path_stats, \"supp_figure3_blue\", df_blue, \"rfu\", \"condition\")\n",
    "# print(anova_table)\n",
    "# run tukey's hsd\n",
    "tukeys_tables = tukeys_hsd(path_stats, \"supp_figure3_blue\", \"rfu\", df_blue, [\"condition\"])\n",
    "for table in tukeys_tables:\n",
    "    print(table)"
   ]
  },
  {
   "cell_type": "markdown",
   "metadata": {},
   "source": [
    "### Supplementary Figure 3 plot"
   ]
  },
  {
   "cell_type": "code",
   "execution_count": 36,
   "metadata": {},
   "outputs": [
    {
     "data": {
      "image/png": "[encoded data removed]",
      "text/plain": [
       "<Figure size 700x250 with 1 Axes>"
      ]
     },
     "metadata": {},
     "output_type": "display_data"
    }
   ],
   "source": [
    "conditions = df_data_plot[\"condition\"].to_list()\n",
    "plot_xlabels = [conditions[i] for i in range(0, len(conditions), 3)]\n",
    "rfu = df_data_plot[\"rfu\"].to_list()\n",
    "plot_rfu = [rfu[i:i + 3] for i in range(0, len(rfu), 3)]\n",
    "std_err = df_data_plot[\"std_err\"].to_list()\n",
    "plot_std_err = [std_err[i:i + 3] for i in range(0, len(std_err), 3)]\n",
    "\n",
    "# create plot\n",
    "fig, ax = plt.subplots(1, 1, figsize=(7, 2.5))\n",
    "x_ticks = []\n",
    "for index, rfu_list in enumerate(plot_rfu):\n",
    "    ax.bar(index-0.3, rfu_list[2], width=0.2, color=\"blue\", align=\"center\", label=\"blue\")\n",
    "    ax.errorbar(index-0.3, rfu_list[2], plot_std_err[index][2], color=\"k\", capsize=2, elinewidth=0.5)\n",
    "    ax.bar(index, rfu_list[1], width=0.2, color=\"green\", align=\"center\", label=\"green\")\n",
    "    ax.errorbar(index, rfu_list[1], plot_std_err[index][1], color=\"k\", capsize=2, elinewidth=0.5)\n",
    "    ax.bar(index+0.3, rfu_list[0], width=0.2, color=\"red\", align=\"center\", label=\"red\")\n",
    "    ax.errorbar(index+0.3, rfu_list[0], plot_std_err[index][0], color=\"k\", capsize=2, elinewidth=0.5)\n",
    "    x_ticks.append(index)\n",
    "ax.axhline(y=1.0, color=\"grey\", linestyle=\"dotted\", linewidth=1.5)\n",
    "ax.set_ylabel(\"Relative Fluorescence\")\n",
    "ax.set_yticks([0, 0.2, 0.4, 0.6, 0.8, 1.0, 1.2])\n",
    "ax.set_xticks(x_ticks)\n",
    "ax.set_xlim([x_ticks[0]-0.8, x_ticks[-1]+0.75])\n",
    "ax.set_xticklabels(plot_xlabels)\n",
    "ax.tick_params(axis='x', which='major', labelsize=6)\n",
    "# plt.show()\n",
    "plt.savefig(path_plots+\"supp_figure_3.svg\")"
   ]
  },
  {
   "cell_type": "markdown",
   "metadata": {},
   "source": [
    "## Figure 2"
   ]
  },
  {
   "cell_type": "markdown",
   "metadata": {},
   "source": [
    "### Figure 2D-2E statistical tests"
   ]
  },
  {
   "cell_type": "code",
   "execution_count": null,
   "metadata": {},
   "outputs": [],
   "source": [
    "df = pd.read_csv(path_exp_data+\"Exp05_pt1.csv\")\n",
    "print(df)\n",
    "\n",
    "# run t-tests\n",
    "comparisons = [\n",
    "    [\"cobalt_0\", \"cobalt_3\"], \n",
    "    [\"cobalt_0\", \"cobalt_15\"], \n",
    "    [\"cobalt_0\", \"cobalt_30\"],\n",
    "    [\"cobalt_0\", \"cobalt_150\"],\n",
    "    [\"cobalt_0\", \"cobalt_300\"],\n",
    "    [\"cobalt_0\", \"cobalt_600\"]\n",
    "]\n",
    "t_test_df = run_corrected_t_tests(path_stats, \"figure2d-e\", \"meptrs\", df, comparisons)\n",
    "print(t_test_df)"
   ]
  },
  {
   "cell_type": "markdown",
   "metadata": {},
   "source": [
    "### Figure 2D plot"
   ]
  },
  {
   "cell_type": "code",
   "execution_count": null,
   "metadata": {},
   "outputs": [],
   "source": [
    "df_data_plot = pd.read_csv(path_exp_data+\"plot_figure2D-E.csv\")\n",
    "# print(df_data_plot)\n",
    "cobalt_doses = df_data_plot[\"cobalt_dose\"].to_list()\n",
    "meptrs = df_data_plot[\"meptrs\"].to_list()\n",
    "meptrs_scaled = [i/1E4 for i in meptrs]\n",
    "std_err = df_data_plot[\"std_err\"].to_list()\n",
    "std_err_scaled = [i/1E4 for i in std_err]\n",
    "\n",
    "# create figure 2D plot\n",
    "fig, ax = plt.subplots(1, 1, figsize=(2.4, 2.4))\n",
    "ax.errorbar(cobalt_doses, meptrs_scaled, std_err_scaled, color=\"deeppink\", linestyle=\"-\", linewidth=1, marker=\"o\", markersize=\"4\", ecolor=\"k\", capsize=2, elinewidth=0.5)\n",
    "ax.set_xscale('symlog')\n",
    "ax.set_xlim(right=1000)\n",
    "ax.set_ylim(top=4)\n",
    "ax.xaxis.set_major_formatter(ScalarFormatter())\n",
    "ax.set_xlabel(\"CoCl2 dose (uM)\")\n",
    "ax.set_ylabel(\"Mean exp. (x10^4 MEPTRs)\")\n",
    "ax.set_box_aspect(1)\n",
    "# plt.show()\n",
    "plt.savefig(path_plots+\"figure_2d.svg\")"
   ]
  },
  {
   "cell_type": "markdown",
   "metadata": {},
   "source": [
    "### Figure 2E plot"
   ]
  },
  {
   "cell_type": "code",
   "execution_count": null,
   "metadata": {},
   "outputs": [],
   "source": [
    "fig, ax = plt.subplots(1, 1, figsize=(1.15, 1.9))\n",
    "\n",
    "ax.bar(-0.15, meptrs_scaled[0], width=0.3, color=\"grey\", align=\"center\", label=\"untreated\")\n",
    "ax.bar(0.15, meptrs_scaled[-2], width=0.3, color=\"deeppink\", align=\"center\", label=\"cobalt\")\n",
    "ax.errorbar(-0.15, meptrs_scaled[0], std_err_scaled[0], color=\"k\", capsize=2, elinewidth=0.5)\n",
    "ax.errorbar(0.15, meptrs_scaled[-2], std_err_scaled[-2], color=\"k\", capsize=2, elinewidth=0.5)\n",
    "ax.set_xlim([-0.5, 0.5])\n",
    "ax.set_xticklabels([])\n",
    "ax.set_ylim(top=3.5)\n",
    "ax.set_yticks([0, 1, 2, 3])\n",
    "ax.set_ylabel(\"Mean exp. (x10^6 MEPTRs)\")\n",
    "# plt.show()\n",
    "plt.savefig(path_plots+\"figure_2e.svg\")"
   ]
  },
  {
   "cell_type": "markdown",
   "metadata": {},
   "source": [
    "### Figure 2G statistical tests"
   ]
  },
  {
   "cell_type": "code",
   "execution_count": null,
   "metadata": {},
   "outputs": [],
   "source": [
    "df = pd.read_csv(path_exp_data+\"Exp05_pt2_bins.csv\")\n",
    "# print(df)\n",
    "\n",
    "# run 2-way ANOVA\n",
    "# anova_table = anova(path_stats, \"figure2g\", df, \"meptrs\", \"condition\", \"bin\")\n",
    "# print(anova_table)\n",
    "# run tukey's hsd\n",
    "# tukeys_table_i, tukeys_tables = tukeys_hsd(path_stats, \"figure2g\", \"meptrs\", df, [\"condition\", \"bin\"], [\"condition\",\"bin\"])\n",
    "# print(tukeys_table_i)\n",
    "# for table in tukeys_tables:\n",
    "#     print(table)"
   ]
  },
  {
   "cell_type": "code",
   "execution_count": null,
   "metadata": {},
   "outputs": [],
   "source": [
    "# run 1 way ANOVA on fold induction for each condition\n",
    "df_fold = df[df[\"fold\"] != 1]\n",
    "# print(df_fold)\n",
    "# anova_table = anova(path_stats, \"figure2g_fold\", df_fold, \"fold\", \"bin\")\n",
    "# print(anova_table)\n",
    "# run tukey's hsd\n",
    "# tukeys_tables = tukeys_hsd(path_stats, \"figure2g_fold\", \"fold\", df_fold, [\"bin\"])\n",
    "# for table in tukeys_tables:\n",
    "#     print(table)"
   ]
  },
  {
   "cell_type": "markdown",
   "metadata": {},
   "source": [
    "### Figure 2G plot"
   ]
  },
  {
   "cell_type": "code",
   "execution_count": null,
   "metadata": {},
   "outputs": [],
   "source": [
    "df_data_plot = pd.read_csv(path_exp_data+\"plot_figure2G.csv\")\n",
    "# print(df_data_plot)\n",
    "\n",
    "# format data and labels for plotting\n",
    "meptrs = df_data_plot[\"meptrs\"].to_list()\n",
    "meptrs_scaled = [i/1E4 for i in meptrs]\n",
    "plot_meptrs = [meptrs_scaled[i:i + 2] for i in range(0, len(meptrs_scaled), 2)]\n",
    "std_err = df_data_plot[\"std_err\"].to_list()\n",
    "std_err_scaled = [i/1E4 for i in std_err]\n",
    "plot_std_err = [std_err_scaled[i:i + 2] for i in range(0, len(std_err_scaled), 2)]\n",
    "fi = df_data_plot[\"FI\"].to_list()\n",
    "plot_fi = [fi[i] for i in range(1, len(fi), 2)]\n",
    "fi_std_err = df_data_plot[\"FI_std_err\"].to_list()\n",
    "plot_fi_std_err = [fi_std_err[i] for i in range(1, len(fi_std_err), 2)]\n",
    "# create plot\n",
    "fig, ax = plt.subplots(1, 1, figsize=(4, 2.5))\n",
    "ax2 = ax.twinx()\n",
    "for index, meptrs_list in enumerate(plot_meptrs):\n",
    "    ax.bar(index+1-0.175, meptrs_list[0], width=0.35, color=\"grey\", align=\"center\", label=\"untreated\")\n",
    "    ax.errorbar(index+1-0.175, meptrs_list[0], plot_std_err[index][0], color=\"k\", capsize=2, elinewidth=0.5)\n",
    "    ax.bar(index+1+0.175, meptrs_list[1], width=0.35, color=\"deeppink\", align=\"center\", label=\"cobalt\")\n",
    "    ax.errorbar(index+1+0.175, meptrs_list[1], plot_std_err[index][1], color=\"k\", capsize=2, elinewidth=0.5)\n",
    "    ax2.errorbar(index+1, plot_fi[index], plot_fi_std_err[index], color=\"red\", marker=\"o\", markersize=\"4\", linestyle=\"none\", ecolor=\"k\", capsize=2, elinewidth=0.5)\n",
    "\n",
    "ax.set_xticks([1, 2, 3, 4, 5, 6, 7, 8, 9, 10])\n",
    "ax.set_xlim(left=0.5, right=10.5)\n",
    "ax.set_yticks([0, 2, 4, 6, 8, 10])\n",
    "ax.set_xlabel(\"Bin (Decile of EBFP2 expression level)\")\n",
    "ax.set_ylabel(\"Mean exp. (x10^4 MEPTRs)\")\n",
    "ax.spines[['right']].set_visible(True)\n",
    "ax2.set_yticks([0, 5, 10, 15, 20, 25, 30])\n",
    "ax2.set_ylabel(\"Fold induction\")\n",
    "# plt.show()\n",
    "plt.savefig(path_plots+\"figure_2g.svg\")"
   ]
  },
  {
   "cell_type": "markdown",
   "metadata": {},
   "source": [
    "### Figure 2H statistical tests"
   ]
  },
  {
   "cell_type": "code",
   "execution_count": 3,
   "metadata": {},
   "outputs": [
    {
     "name": "stdout",
     "output_type": "stream",
     "text": [
      "                                     df        sum_sq       mean_sq  \\\n",
      "C(condition)                        1.0  1.651535e+12  1.651535e+12   \n",
      "C(sorted_population)               10.0  1.627704e+11  1.627704e+10   \n",
      "C(condition):C(sorted_population)  10.0  1.586397e+11  1.586397e+10   \n",
      "Residual                           44.0  5.263102e+09  1.196160e+08   \n",
      "\n",
      "                                              F        PR(>F)  \n",
      "C(condition)                       13806.977634  1.323722e-56  \n",
      "C(sorted_population)                 136.077457  1.072550e-29  \n",
      "C(condition):C(sorted_population)    132.624227  1.848711e-29  \n",
      "Residual                                    NaN           NaN  \n"
     ]
    }
   ],
   "source": [
    "df = pd.read_csv(path_exp_data+\"Exp06.csv\")\n",
    "# print(df)\n",
    "\n",
    "# run 2-way ANOVA\n",
    "anova_table = anova(path_stats, \"figure2h\", df, \"meptrs\", \"condition\", \"sorted_population\")\n",
    "print(anova_table)\n",
    "# run tukey's hsd\n",
    "# tukeys_table_i, tukeys_tables = tukeys_hsd(path_stats, \"figure2h\", \"meptrs\", df, [\"condition\", \"sorted_population\"], [\"condition\",\"sorted_population\"])\n",
    "# print(tukeys_table_i)\n",
    "# for table in tukeys_tables:\n",
    "#     print(table)"
   ]
  },
  {
   "cell_type": "markdown",
   "metadata": {},
   "source": [
    "### Figure 2H plot"
   ]
  },
  {
   "cell_type": "code",
   "execution_count": null,
   "metadata": {},
   "outputs": [],
   "source": [
    "#plot\n",
    "df_data_plot = pd.read_csv(path_exp_data+\"plot_figure2H.csv\")\n",
    "# print(df_data_plot)\n",
    "\n",
    "# format data and labels for plotting\n",
    "meptrs = df_data_plot[\"meptrs\"].to_list()\n",
    "meptrs_scaled = [i/1E4 for i in meptrs]\n",
    "plot_meptrs = [meptrs_scaled[i:i + 2] for i in range(0, len(meptrs_scaled), 2)]\n",
    "std_err = df_data_plot[\"std_err\"].to_list()\n",
    "std_err_scaled = [i/1E4 for i in std_err]\n",
    "plot_std_err = [std_err_scaled[i:i + 2] for i in range(0, len(std_err_scaled), 2)]\n",
    "fi = df_data_plot[\"FI\"].to_list()\n",
    "plot_fi = [fi[i] for i in range(1, len(fi), 2)]\n",
    "fi_std_err = df_data_plot[\"FI_std_err\"].to_list()\n",
    "plot_fi_std_err = [fi_std_err[i] for i in range(1, len(fi_std_err), 2)]\n",
    "# create plot\n",
    "fig, ax = plt.subplots(1, 1, figsize=(3.75, 2.25))\n",
    "ax2 = ax.twinx()\n",
    "for index, meptrs_list in enumerate(plot_meptrs):\n",
    "    ax.bar(index-0.175, meptrs_list[0], width=0.35, color=\"grey\", align=\"center\", label=\"untreated\")\n",
    "    ax.errorbar(index-0.175, meptrs_list[0], plot_std_err[index][0], color=\"k\", capsize=2, elinewidth=0.5)\n",
    "    ax.bar(index+0.175, meptrs_list[1], width=0.35, color=\"deeppink\", align=\"center\", label=\"cobalt\")\n",
    "    ax.errorbar(index+0.175, meptrs_list[1], plot_std_err[index][1], color=\"k\", capsize=2, elinewidth=0.5)\n",
    "    ax2.errorbar(index, plot_fi[index], plot_fi_std_err[index], color=\"red\", marker=\"o\", markersize=\"4\", linestyle=\"none\", ecolor=\"k\", capsize=2, elinewidth=0.5)\n",
    "\n",
    "ax.set_xticks([0, 1, 2, 3, 4, 5, 6, 7, 8, 9, 10])\n",
    "ax.set_xlim(left=-0.5, right=10.5)\n",
    "ax.set_yticks([0, 10, 20, 30, 40, 50])\n",
    "ax.set_xlabel(\"Sorted population (on decile of EBFP2 expression)\")\n",
    "ax.set_ylabel(\"Mean exp. (x10^4 MEPTRs)\")\n",
    "ax.spines[['right']].set_visible(True)\n",
    "ax2.set_yticks([0, 100, 200, 300])\n",
    "ax2.set_ylabel(\"Fold induction\")\n",
    "# plt.show()\n",
    "plt.savefig(path_plots+\"figure_2h.svg\")"
   ]
  },
  {
   "cell_type": "markdown",
   "metadata": {},
   "source": [
    "## Figure 3"
   ]
  },
  {
   "cell_type": "markdown",
   "metadata": {},
   "source": [
    "### Figure 3C, top statistical tests"
   ]
  },
  {
   "cell_type": "code",
   "execution_count": null,
   "metadata": {},
   "outputs": [],
   "source": [
    "df = pd.read_csv(path_exp_data+\"Exp04_pt2_YBTATA.csv\")\n",
    "# print(df)"
   ]
  },
  {
   "cell_type": "code",
   "execution_count": null,
   "metadata": {},
   "outputs": [],
   "source": [
    "# run 2-way repeated measures ANOVA\n",
    "# anova_rm_table = repeated_measures_anova(path_stats, \"figure3c_top\", df, \"meptrs\", \"day\", \"condition\")\n",
    "# print(anova_rm_table)\n",
    "\n",
    "# run tukey's hsd\n",
    "# tukeys_table_i, tukeys_tables = tukeys_hsd(path_stats, \"figure3c_top\", \"meptrs\", df, [\"condition\", \"day\"], [\"condition\",\"day\"]) \n",
    "# print(tukeys_table_i)\n",
    "# for table in tukeys_tables:\n",
    "#     print(table)"
   ]
  },
  {
   "cell_type": "markdown",
   "metadata": {},
   "source": [
    "### Figure 3C, top plot"
   ]
  },
  {
   "cell_type": "code",
   "execution_count": 19,
   "metadata": {},
   "outputs": [
    {
     "name": "stdout",
     "output_type": "stream",
     "text": [
      "          condition  day        meptrs       std_err\n",
      "0          normoxia    0  1.626201e+03     90.218468\n",
      "1          normoxia    1  1.088635e+03     71.984131\n",
      "2          normoxia    2  1.223716e+03    178.930581\n",
      "3          normoxia    3  9.680467e+03    413.577763\n",
      "4          normoxia    4  5.793373e+04   2206.099702\n",
      "5          normoxia    5  1.274130e+05   6006.803847\n",
      "6   normoxia_cobalt    0  1.626201e+03     90.218468\n",
      "7   normoxia_cobalt    1  1.498463e+05   5500.702088\n",
      "8   normoxia_cobalt    2  1.463696e+05   2846.692778\n",
      "9   normoxia_cobalt    3  1.290738e+05   4928.218806\n",
      "10  normoxia_cobalt    4  1.627349e+05   2744.686591\n",
      "11  normoxia_cobalt    5  2.902854e+05  32858.643490\n",
      "12          hypoxia    0  1.626201e+03     90.218468\n",
      "13          hypoxia    1  5.116018e+05  47916.682400\n",
      "14          hypoxia    2  1.350227e+06  22026.854350\n",
      "15          hypoxia    3  1.679482e+06  15474.038940\n",
      "16          hypoxia    4  1.899947e+06  54194.678590\n",
      "17          hypoxia    5  2.165256e+06  55424.830550\n"
     ]
    }
   ],
   "source": [
    "df_plot = pd.read_csv(path_exp_data+\"plot_figure3C_top.csv\")\n",
    "print(df_plot)\n",
    "days = [0, 1, 2, 3, 4, 5]"
   ]
  },
  {
   "cell_type": "code",
   "execution_count": 20,
   "metadata": {},
   "outputs": [],
   "source": [
    "# normoxia data\n",
    "meptrs_normoxia = df_plot[df_plot[\"condition\"] == \"normoxia\"][\"meptrs\"].to_list()\n",
    "meptrs_normoxia_scaled = [i/1E6 for i in meptrs_normoxia]\n",
    "std_err_normoxia = df_plot[df_plot[\"condition\"] == \"normoxia\"][\"std_err\"].to_list()\n",
    "std_err_normoxia_scaled = [i/1E6 for i in std_err_normoxia]"
   ]
  },
  {
   "cell_type": "code",
   "execution_count": 21,
   "metadata": {},
   "outputs": [],
   "source": [
    "# normoxia + cobalt data\n",
    "meptrs_normoxia_cobalt = df_plot[df_plot[\"condition\"] == \"normoxia_cobalt\"][\"meptrs\"].to_list()\n",
    "meptrs_normoxia_cobalt_scaled = [i/1E6 for i in meptrs_normoxia_cobalt]\n",
    "std_err_normoxia_cobalt = df_plot[df_plot[\"condition\"] == \"normoxia_cobalt\"][\"std_err\"].to_list()\n",
    "std_err_normoxia_cobalt_scaled = [i/1E6 for i in std_err_normoxia_cobalt]"
   ]
  },
  {
   "cell_type": "code",
   "execution_count": 22,
   "metadata": {},
   "outputs": [],
   "source": [
    "# hypoxia data\n",
    "meptrs_hypoxia = df_plot[df_plot[\"condition\"] == \"hypoxia\"][\"meptrs\"].to_list()\n",
    "meptrs_hypoxia_scaled = [i/1E6 for i in meptrs_hypoxia]\n",
    "std_err_hypoxia = df_plot[df_plot[\"condition\"] == \"hypoxia\"][\"std_err\"].to_list()\n",
    "std_err_hypoxia_scaled = [i/1E6 for i in std_err_hypoxia]"
   ]
  },
  {
   "cell_type": "code",
   "execution_count": 23,
   "metadata": {},
   "outputs": [
    {
     "data": {
      "image/png": "[encoded data removed]",
      "text/plain": [
       "<Figure size 225x225 with 1 Axes>"
      ]
     },
     "metadata": {},
     "output_type": "display_data"
    }
   ],
   "source": [
    "# create figure 2D plot\n",
    "fig, ax = plt.subplots(1, 1, figsize=(2.25, 2.25), sharey=True)\n",
    "ax.errorbar(days, meptrs_normoxia_scaled, std_err_normoxia_scaled, color=\"gray\", linestyle=\"-\", linewidth=1, marker=\"o\", markersize=\"4\", ecolor=\"k\", capsize=2, elinewidth=0.5, label=\"normoxia\")\n",
    "ax.errorbar(days, meptrs_normoxia_cobalt_scaled, std_err_normoxia_cobalt_scaled, color=\"deeppink\", linestyle=\"-\", linewidth=1, marker=\"o\", markersize=\"4\", ecolor=\"k\", capsize=2, elinewidth=0.5, label=\"normoxia_cobalt\")\n",
    "ax.errorbar(days, meptrs_hypoxia_scaled, std_err_hypoxia_scaled, color=\"rebeccapurple\", linestyle=\"-\", linewidth=1, marker=\"o\", markersize=\"4\", ecolor=\"k\", capsize=2, elinewidth=0.5, label=\"hypoxia\")\n",
    "ax.set_xlabel(\"Days post plating\")\n",
    "ax.set_xticks([0, 1, 2, 3, 4, 5])\n",
    "ax.set_ylabel(\"Mean exp. (x10^6 MEPTRs)\")\n",
    "ax.set_ylim(top=3.0)\n",
    "ax.set_box_aspect(1)\n",
    "# plt.show()\n",
    "plt.savefig(path_plots+\"figure_3c_top.svg\")"
   ]
  },
  {
   "cell_type": "markdown",
   "metadata": {},
   "source": [
    "### Figure 3C, bottom statistical tests"
   ]
  },
  {
   "cell_type": "code",
   "execution_count": null,
   "metadata": {},
   "outputs": [],
   "source": [
    "df = pd.read_csv(path_exp_data+\"Exp04_pt3_CMV.csv\")\n",
    "# print(df)"
   ]
  },
  {
   "cell_type": "code",
   "execution_count": null,
   "metadata": {},
   "outputs": [],
   "source": [
    "# run 2-way repeated measures ANOVA\n",
    "# anova_rm_table = repeated_measures_anova(path_stats, \"figure3c_bottom\", df, \"meptrs\", \"day\", \"condition\")\n",
    "# print(anova_rm_table)\n",
    "\n",
    "# run tukey's hsd\n",
    "# tukeys_table_i, tukeys_tables = tukeys_hsd(path_stats, \"figure3c_bottom\", \"meptrs\", df, [\"condition\", \"day\"], [\"condition\",\"day\"]) \n",
    "# print(tukeys_table_i)\n",
    "# for table in tukeys_tables:\n",
    "#     print(table)"
   ]
  },
  {
   "cell_type": "markdown",
   "metadata": {},
   "source": [
    "### Figure 3C, bottom plot"
   ]
  },
  {
   "cell_type": "code",
   "execution_count": 24,
   "metadata": {},
   "outputs": [
    {
     "name": "stdout",
     "output_type": "stream",
     "text": [
      "          condition  day        meptrs        std_err\n",
      "0          normoxia    0  5.360905e+04    3460.636595\n",
      "1          normoxia    1  3.939295e+04     752.438260\n",
      "2          normoxia    2  3.345763e+04    2708.511678\n",
      "3          normoxia    3  7.237088e+04    6252.243855\n",
      "4          normoxia    4  2.115829e+05   11118.889210\n",
      "5          normoxia    5  2.695357e+05   10657.652120\n",
      "6   normoxia_cobalt    0  5.360905e+04    3460.636595\n",
      "7   normoxia_cobalt    1  6.595375e+05   23211.844670\n",
      "8   normoxia_cobalt    2  7.653391e+05   55451.839790\n",
      "9   normoxia_cobalt    3  8.276165e+05   43420.765410\n",
      "10  normoxia_cobalt    4  1.038319e+06   97537.855370\n",
      "11  normoxia_cobalt    5  8.170270e+05   69398.781560\n",
      "12          hypoxia    0  5.360905e+04    3460.636595\n",
      "13          hypoxia    1  1.235921e+06   25640.415630\n",
      "14          hypoxia    2  2.942400e+06   63314.003560\n",
      "15          hypoxia    3  3.883229e+06   81660.281560\n",
      "16          hypoxia    4  4.325980e+06  119951.754800\n",
      "17          hypoxia    5  4.479094e+06  109713.117400\n"
     ]
    }
   ],
   "source": [
    "df_plot = pd.read_csv(path_exp_data+\"plot_figure3C_bottom.csv\")\n",
    "print(df_plot)\n",
    "days = [0, 1, 2, 3, 4, 5]"
   ]
  },
  {
   "cell_type": "code",
   "execution_count": 25,
   "metadata": {},
   "outputs": [],
   "source": [
    "# normoxia data\n",
    "meptrs_normoxia = df_plot[df_plot[\"condition\"] == \"normoxia\"][\"meptrs\"].to_list()\n",
    "meptrs_normoxia_scaled = [i/1E6 for i in meptrs_normoxia]\n",
    "std_err_normoxia = df_plot[df_plot[\"condition\"] == \"normoxia\"][\"std_err\"].to_list()\n",
    "std_err_normoxia_scaled = [i/1E6 for i in std_err_normoxia]"
   ]
  },
  {
   "cell_type": "code",
   "execution_count": 26,
   "metadata": {},
   "outputs": [],
   "source": [
    "# normoxia + cobalt data\n",
    "meptrs_normoxia_cobalt = df_plot[df_plot[\"condition\"] == \"normoxia_cobalt\"][\"meptrs\"].to_list()\n",
    "meptrs_normoxia_cobalt_scaled = [i/1E6 for i in meptrs_normoxia_cobalt]\n",
    "std_err_normoxia_cobalt = df_plot[df_plot[\"condition\"] == \"normoxia_cobalt\"][\"std_err\"].to_list()\n",
    "std_err_normoxia_cobalt_scaled = [i/1E6 for i in std_err_normoxia_cobalt]"
   ]
  },
  {
   "cell_type": "code",
   "execution_count": 27,
   "metadata": {},
   "outputs": [],
   "source": [
    "# hypoxia data\n",
    "meptrs_hypoxia = df_plot[df_plot[\"condition\"] == \"hypoxia\"][\"meptrs\"].to_list()\n",
    "meptrs_hypoxia_scaled = [i/1E6 for i in meptrs_hypoxia]\n",
    "std_err_hypoxia = df_plot[df_plot[\"condition\"] == \"hypoxia\"][\"std_err\"].to_list()\n",
    "std_err_hypoxia_scaled = [i/1E6 for i in std_err_hypoxia]"
   ]
  },
  {
   "cell_type": "code",
   "execution_count": 28,
   "metadata": {},
   "outputs": [
    {
     "data": {
      "image/png": "[encoded data removed]",
      "text/plain": [
       "<Figure size 225x225 with 1 Axes>"
      ]
     },
     "metadata": {},
     "output_type": "display_data"
    }
   ],
   "source": [
    "# create figure 2D plot\n",
    "fig, ax = plt.subplots(1, 1, figsize=(2.25, 2.25), sharey=True)\n",
    "ax.errorbar(days, meptrs_normoxia_scaled, std_err_normoxia_scaled, color=\"gray\", linestyle=\"-\", linewidth=1, marker=\"o\", markersize=\"4\", ecolor=\"k\", capsize=2, elinewidth=0.5, label=\"normoxia\")\n",
    "ax.errorbar(days, meptrs_normoxia_cobalt_scaled, std_err_normoxia_cobalt_scaled, color=\"deeppink\", linestyle=\"-\", linewidth=1, marker=\"o\", markersize=\"4\", ecolor=\"k\", capsize=2, elinewidth=0.5, label=\"normoxia_cobalt\")\n",
    "ax.errorbar(days, meptrs_hypoxia_scaled, std_err_hypoxia_scaled, color=\"rebeccapurple\", linestyle=\"-\", linewidth=1, marker=\"o\", markersize=\"4\", ecolor=\"k\", capsize=2, elinewidth=0.5, label=\"hypoxia\")\n",
    "ax.set_xlabel(\"Days post plating\")\n",
    "ax.set_xticks([0, 1, 2, 3, 4, 5])\n",
    "ax.set_ylabel(\"Mean exp. (x10^6 MEPTRs)\")\n",
    "ax.set_yticks([0, 1, 2, 3, 4, 5])\n",
    "ax.set_ylim(top=5.0)\n",
    "ax.set_box_aspect(1)\n",
    "# plt.show()\n",
    "plt.savefig(path_plots+\"figure_3c_bottom.svg\")"
   ]
  },
  {
   "cell_type": "markdown",
   "metadata": {},
   "source": [
    "## Figure 4"
   ]
  },
  {
   "cell_type": "markdown",
   "metadata": {},
   "source": [
    "### Figure 4B statistical tests"
   ]
  },
  {
   "cell_type": "code",
   "execution_count": null,
   "metadata": {},
   "outputs": [],
   "source": [
    "df = pd.read_csv(path_exp_data+\"Exp04_pt4_dox_HIF.csv\")\n",
    "# print(df)"
   ]
  },
  {
   "cell_type": "code",
   "execution_count": null,
   "metadata": {},
   "outputs": [],
   "source": [
    "# run 2-way repeated measures ANOVA\n",
    "# anova_rm_table = repeated_measures_anova(path_stats, \"figure4b\", df, \"meptrs\", \"day\", \"condition\")\n",
    "# print(anova_rm_table)\n",
    "\n",
    "# run tukey's hsd\n",
    "# tukeys_table_i, tukeys_tables = tukeys_hsd(path_stats, \"figure4b\", \"meptrs\", df, [\"condition\", \"day\"], [\"condition\",\"day\"]) \n",
    "# print(tukeys_table_i)\n",
    "# for table in tukeys_tables:\n",
    "#     print(table)"
   ]
  },
  {
   "cell_type": "markdown",
   "metadata": {},
   "source": [
    "### Figure 4B plot"
   ]
  },
  {
   "cell_type": "code",
   "execution_count": 2,
   "metadata": {},
   "outputs": [],
   "source": [
    "df_data_plot = pd.read_csv(path_exp_data+\"plot_figure4B.csv\")\n",
    "# print(df_data_plot)\n",
    "days = [0, 1, 2, 3, 4, 5]"
   ]
  },
  {
   "cell_type": "code",
   "execution_count": 3,
   "metadata": {},
   "outputs": [],
   "source": [
    "# normoxia data\n",
    "meptrs_normoxia = df_data_plot[df_data_plot[\"condition\"] == \"normoxia\"][\"meptrs\"].to_list()\n",
    "meptrs_normoxia_scaled = [i/1E6 for i in meptrs_normoxia]\n",
    "std_err_normoxia = df_data_plot[df_data_plot[\"condition\"] == \"normoxia\"][\"std_err\"].to_list()\n",
    "std_err_normoxia_scaled = [i/1E6 for i in std_err_normoxia]"
   ]
  },
  {
   "cell_type": "code",
   "execution_count": 4,
   "metadata": {},
   "outputs": [],
   "source": [
    "# normoxia cobalt data\n",
    "meptrs_normoxia_cobalt = df_data_plot[df_data_plot[\"condition\"] == \"normoxia_cobalt\"][\"meptrs\"].to_list()\n",
    "meptrs_normoxia_cobalt_scaled = [i/1E6 for i in meptrs_normoxia_cobalt]\n",
    "std_err_normoxia_cobalt = df_data_plot[df_data_plot[\"condition\"] == \"normoxia_cobalt\"][\"std_err\"].to_list()\n",
    "std_err_normoxia_cobalt_scaled = [i/1E6 for i in std_err_normoxia_cobalt]"
   ]
  },
  {
   "cell_type": "code",
   "execution_count": 5,
   "metadata": {},
   "outputs": [],
   "source": [
    "# normoxia dox data\n",
    "meptrs_normoxia_dox = df_data_plot[df_data_plot[\"condition\"] == \"normoxia_dox\"][\"meptrs\"].to_list()\n",
    "meptrs_normoxia_dox_scaled = [i/1E6 for i in meptrs_normoxia_dox]\n",
    "std_err_normoxia_dox = df_data_plot[df_data_plot[\"condition\"] == \"normoxia_dox\"][\"std_err\"].to_list()\n",
    "std_err_normoxia_dox_scaled = [i/1E6 for i in std_err_normoxia_dox]"
   ]
  },
  {
   "cell_type": "code",
   "execution_count": 6,
   "metadata": {},
   "outputs": [],
   "source": [
    "# hypoxia data\n",
    "meptrs_hypoxia = df_data_plot[df_data_plot[\"condition\"] == \"hypoxia\"][\"meptrs\"].to_list()\n",
    "meptrs_hypoxia_scaled = [i/1E6 for i in meptrs_hypoxia]\n",
    "std_err_hypoxia = df_data_plot[df_data_plot[\"condition\"] == \"hypoxia\"][\"std_err\"].to_list()\n",
    "std_err_hypoxia_scaled = [i/1E6 for i in std_err_hypoxia]"
   ]
  },
  {
   "cell_type": "code",
   "execution_count": 9,
   "metadata": {},
   "outputs": [
    {
     "data": {
      "image/png": "[encoded data removed]",
      "text/plain": [
       "<Figure size 225x225 with 1 Axes>"
      ]
     },
     "metadata": {},
     "output_type": "display_data"
    }
   ],
   "source": [
    "# create figure 2D plot\n",
    "fig, ax = plt.subplots(1, 1, figsize=(2.25, 2.25))\n",
    "ax.errorbar(days, meptrs_normoxia_scaled, std_err_normoxia_scaled, color=\"gray\", linestyle=\"-\", linewidth=1, marker=\"o\", markersize=\"4\", ecolor=\"gray\", capsize=2, elinewidth=0.5, label=\"normoxia\")\n",
    "ax.errorbar(days, meptrs_normoxia_cobalt_scaled, std_err_normoxia_cobalt_scaled, color=\"deeppink\", linestyle=\"-\", linewidth=1, marker=\"o\", markersize=\"4\", ecolor=\"deeppink\", capsize=2, elinewidth=0.5, label=\"normoxia_cobalt\")\n",
    "ax.errorbar(days, meptrs_normoxia_dox_scaled, std_err_normoxia_dox_scaled, color=\"purple\", linestyle=\"-\", linewidth=1, marker=\"o\", markersize=\"4\", ecolor=\"purple\", capsize=2, elinewidth=0.5, label=\"normoxia_dox\")\n",
    "ax.errorbar(days, meptrs_hypoxia_scaled, std_err_hypoxia_scaled, color=\"rebeccapurple\", linestyle=\"-\", linewidth=1, marker=\"o\", markersize=\"4\", ecolor=\"rebeccapurple\", capsize=2, elinewidth=0.5, label=\"hypoxia\")\n",
    "ax.set_xlabel(\"Days post plating\")\n",
    "ax.set_xticks([0, 1, 2, 3, 4, 5])\n",
    "ax.set_ylabel(\"Mean exp. (x10^6 MEPTRs)\")\n",
    "# ax.set_ylim(top=6.0)\n",
    "ax.set_box_aspect(1)\n",
    "# plt.show()\n",
    "plt.savefig(path_plots+\"figure_4b.svg\")"
   ]
  },
  {
   "cell_type": "code",
   "execution_count": null,
   "metadata": {},
   "outputs": [],
   "source": []
  },
  {
   "cell_type": "markdown",
   "metadata": {},
   "source": [
    "## Figure 5"
   ]
  },
  {
   "cell_type": "markdown",
   "metadata": {},
   "source": [
    "### Figure 5B statistical tests"
   ]
  },
  {
   "cell_type": "code",
   "execution_count": null,
   "metadata": {},
   "outputs": [],
   "source": []
  },
  {
   "cell_type": "markdown",
   "metadata": {},
   "source": [
    "### Figure 5B plot"
   ]
  },
  {
   "cell_type": "code",
   "execution_count": null,
   "metadata": {},
   "outputs": [],
   "source": []
  },
  {
   "cell_type": "markdown",
   "metadata": {},
   "source": [
    "### Figure 5D statistical tests"
   ]
  },
  {
   "cell_type": "code",
   "execution_count": null,
   "metadata": {},
   "outputs": [],
   "source": []
  },
  {
   "cell_type": "markdown",
   "metadata": {},
   "source": [
    "### Figure 5D plot"
   ]
  },
  {
   "cell_type": "code",
   "execution_count": null,
   "metadata": {},
   "outputs": [],
   "source": []
  },
  {
   "cell_type": "markdown",
   "metadata": {},
   "source": [
    "### Figure 5E Statistical Tests"
   ]
  },
  {
   "cell_type": "code",
   "execution_count": null,
   "metadata": {},
   "outputs": [],
   "source": [
    "df = pd.read_csv(path_exp_data+\"Exp10.csv\")\n",
    "df_hypoxic = df[df[\"day\"] != \"normoxic\"].copy()\n",
    "\n",
    "# run 2-way repeated measures ANOVA\n",
    "# anova_rm_table = repeated_measures_anova(path_stats, \"figure5e\", df_hypoxic, \"meptrs\", \"day\", \"condition\")\n",
    "# print(anova_rm_table)\n",
    "\n",
    "# run tukey's hsd\n",
    "# tukeys_table_i, tukeys_tables = tukeys_hsd(path_stats, \"figure5e\", \"meptrs\", df_hypoxic, [\"condition\", \"day\"], [\"condition\",\"day\"]) \n",
    "# print(tukeys_table_i)\n",
    "# for table in tukeys_tables:\n",
    "#     print(table)\n",
    "\n",
    "# run t-tests for each day vs. normoxia for simple, h1a fb, h2a fb\n",
    "# format df for t-test code\n",
    "# df[\"condition\"] = df[\"condition\"] + \"_\" + df[\"day\"].astype(str)\n",
    "# # print(df)\n",
    "# comparisons = [\n",
    "#     [\"simple_hbs_0\", \"simple_hbs_normoxic\"],\n",
    "#     [\"simple_hbs_1\", \"simple_hbs_normoxic\"],\n",
    "#     [\"simple_hbs_2\", \"simple_hbs_normoxic\"],\n",
    "#     [\"simple_hbs_3\", \"simple_hbs_normoxic\"],\n",
    "#     [\"simple_hbs_4\", \"simple_hbs_normoxic\"],\n",
    "#     [\"simple_hbs_5\", \"simple_hbs_normoxic\"],\n",
    "#     [\"h1a_fb_hbs_0\", \"h1a_fb_hbs_normoxic\"],\n",
    "#     [\"h1a_fb_hbs_1\", \"h1a_fb_hbs_normoxic\"],\n",
    "#     [\"h1a_fb_hbs_2\", \"h1a_fb_hbs_normoxic\"],\n",
    "#     [\"h1a_fb_hbs_3\", \"h1a_fb_hbs_normoxic\"],\n",
    "#     [\"h1a_fb_hbs_4\", \"h1a_fb_hbs_normoxic\"],\n",
    "#     [\"h1a_fb_hbs_5\", \"h1a_fb_hbs_normoxic\"],\n",
    "#     [\"h2a_fb_hbs_0\", \"h2a_fb_hbs_normoxic\"],\n",
    "#     [\"h2a_fb_hbs_1\", \"h2a_fb_hbs_normoxic\"],\n",
    "#     [\"h2a_fb_hbs_2\", \"h2a_fb_hbs_normoxic\"],\n",
    "#     [\"h2a_fb_hbs_3\", \"h2a_fb_hbs_normoxic\"],\n",
    "#     [\"h2a_fb_hbs_4\", \"h2a_fb_hbs_normoxic\"],\n",
    "#     [\"h2a_fb_hbs_5\", \"h2a_fb_hbs_normoxic\"]\n",
    "# ]\n",
    "# t_test_df = run_corrected_t_tests(path_stats, \"figure5e\", \"meptrs\", df, comparisons)\n",
    "# print(t_test_df)"
   ]
  },
  {
   "cell_type": "markdown",
   "metadata": {},
   "source": [
    "### Figure 5E Plots"
   ]
  },
  {
   "cell_type": "code",
   "execution_count": 10,
   "metadata": {},
   "outputs": [],
   "source": [
    "df_data_plot = pd.read_csv(path_exp_data+\"plot_figure5E.csv\")\n",
    "# print(df_data_plot)\n",
    "df_hypoxia_data = df_data_plot[df_data_plot[\"day\"] != \"baseline\"].copy()\n",
    "df_normoxia_data = df_data_plot[df_data_plot[\"day\"] == \"baseline\"].copy()\n",
    "days = [0, 1, 2, 3, 4, 5]"
   ]
  },
  {
   "cell_type": "code",
   "execution_count": 11,
   "metadata": {},
   "outputs": [],
   "source": [
    "# simple HBS data\n",
    "meptrs_hypoxia_simple = df_hypoxia_data[df_hypoxia_data[\"condition\"] == \"simple_hbs\"][\"meptrs\"].to_list()\n",
    "meptrs_hypoxia_simple_scaled = [i/1E6 for i in meptrs_hypoxia_simple]\n",
    "std_err_hypoxia_simple = df_hypoxia_data[df_hypoxia_data[\"condition\"] == \"simple_hbs\"][\"std_err\"].to_list()\n",
    "std_err_hypoxia_simple_scaled = [i/1E6 for i in std_err_hypoxia_simple]\n",
    "meptrs_normoxia_simple = df_normoxia_data[df_normoxia_data[\"condition\"] == \"simple_hbs\"][\"meptrs\"].to_list()[0]\n",
    "meptrs_normoxia_simple_scaled = meptrs_normoxia_simple/1E6\n",
    "std_err_normoxia_simple = df_normoxia_data[df_normoxia_data[\"condition\"] == \"simple_hbs\"][\"std_err\"].to_list()[0]\n",
    "std_err_normoxia_simple_scaled = std_err_normoxia_simple/1E6\n"
   ]
  },
  {
   "cell_type": "code",
   "execution_count": 12,
   "metadata": {},
   "outputs": [],
   "source": [
    "# h1a fb HBS data\n",
    "meptrs_hypoxia_h1a_fb = df_hypoxia_data[df_hypoxia_data[\"condition\"] == \"h1a_fb_hbs\"][\"meptrs\"].to_list()\n",
    "meptrs_hypoxia_h1a_fb_scaled = [i/1E6 for i in meptrs_hypoxia_h1a_fb]\n",
    "std_err_hypoxia_h1a_fb = df_hypoxia_data[df_hypoxia_data[\"condition\"] == \"h1a_fb_hbs\"][\"std_err\"].to_list()\n",
    "std_err_hypoxia_h1a_fb_scaled = [i/1E6 for i in std_err_hypoxia_h1a_fb]\n",
    "meptrs_normoxia_h1a_fb = df_normoxia_data[df_normoxia_data[\"condition\"] == \"h1a_fb_hbs\"][\"meptrs\"].to_list()[0]\n",
    "meptrs_normoxia_h1a_fb_scaled = meptrs_normoxia_h1a_fb/1E6\n",
    "std_err_normoxia_h1a_fb = df_normoxia_data[df_normoxia_data[\"condition\"] == \"h1a_fb_hbs\"][\"std_err\"].to_list()[0]\n",
    "std_err_normoxia_h1a_fb_scaled = std_err_normoxia_h1a_fb/1E6"
   ]
  },
  {
   "cell_type": "code",
   "execution_count": 13,
   "metadata": {},
   "outputs": [],
   "source": [
    "# h2a fb data\n",
    "meptrs_hypoxia_h2a_fb = df_hypoxia_data[df_hypoxia_data[\"condition\"] == \"h2a_fb_hbs\"][\"meptrs\"].to_list()\n",
    "meptrs_hypoxia_h2a_fb_scaled = [i/1E6 for i in meptrs_hypoxia_h2a_fb]\n",
    "std_err_hypoxia_h2a_fb = df_hypoxia_data[df_hypoxia_data[\"condition\"] == \"h2a_fb_hbs\"][\"std_err\"].to_list()\n",
    "std_err_hypoxia_h2a_fb_scaled = [i/1E6 for i in std_err_hypoxia_h2a_fb]\n",
    "meptrs_normoxia_h2a_fb = df_normoxia_data[df_normoxia_data[\"condition\"] == \"h2a_fb_hbs\"][\"meptrs\"].to_list()[0]\n",
    "meptrs_normoxia_h2a_fb_scaled = meptrs_normoxia_h2a_fb/1E6\n",
    "std_err_normoxia_h2a_fb = df_normoxia_data[df_normoxia_data[\"condition\"] == \"h2a_fb_hbs\"][\"std_err\"].to_list()[0]\n",
    "std_err_normoxia_h2a_fb_scaled = std_err_normoxia_h2a_fb/1E6"
   ]
  },
  {
   "cell_type": "code",
   "execution_count": 16,
   "metadata": {},
   "outputs": [
    {
     "data": {
      "image/png": "[encoded data removed]",
      "text/plain": [
       "<Figure size 600x225 with 3 Axes>"
      ]
     },
     "metadata": {},
     "output_type": "display_data"
    }
   ],
   "source": [
    "# create figure 2D plot\n",
    "fig, axs = plt.subplots(1, 3, figsize=(6, 2.25), sharey=True)\n",
    "axs = axs.ravel()\n",
    "axs[0].errorbar(days, meptrs_hypoxia_simple_scaled, std_err_hypoxia_simple_scaled, color=\"black\", linestyle=\"-\", linewidth=1, marker=\"o\", markersize=\"4\", ecolor=\"k\", capsize=2, elinewidth=0.5)\n",
    "axs[0].fill_between(\n",
    "    days, meptrs_normoxia_simple_scaled-std_err_normoxia_simple_scaled, \n",
    "    meptrs_normoxia_simple_scaled+std_err_normoxia_simple_scaled, color=\"gray\")\n",
    "axs[0].set_xlabel(\"Days post plating\")\n",
    "axs[0].set_xticks([0, 1, 2, 3, 4, 5])\n",
    "axs[0].set_ylabel(\"Mean exp. (x10^6 MEPTRs)\")\n",
    "axs[0].set_ylim(top=0.6)\n",
    "axs[0].set_box_aspect(1)\n",
    "axs[1].errorbar(days, meptrs_hypoxia_h1a_fb_scaled, std_err_hypoxia_h1a_fb_scaled, color=\"black\", linestyle=\"-\", linewidth=1, marker=\"o\", markersize=\"4\", ecolor=\"k\", capsize=2, elinewidth=0.5)\n",
    "axs[1].fill_between(\n",
    "    days, meptrs_normoxia_h1a_fb_scaled-std_err_normoxia_h1a_fb_scaled, \n",
    "    meptrs_normoxia_h1a_fb_scaled+std_err_normoxia_h1a_fb_scaled, color=\"gray\")\n",
    "axs[1].set_xlabel(\"Days post plating\")\n",
    "axs[1].set_xticks([0, 1, 2, 3, 4, 5])\n",
    "axs[1].set_box_aspect(1)\n",
    "axs[2].errorbar(days, meptrs_hypoxia_h2a_fb_scaled, std_err_hypoxia_h2a_fb_scaled, color=\"black\", linestyle=\"-\", linewidth=1, marker=\"o\", markersize=\"4\", ecolor=\"k\", capsize=2, elinewidth=0.5)\n",
    "axs[2].fill_between(\n",
    "    days, meptrs_normoxia_h2a_fb_scaled-std_err_normoxia_h2a_fb_scaled, \n",
    "    meptrs_normoxia_h2a_fb_scaled+std_err_normoxia_h2a_fb_scaled, color=\"gray\")\n",
    "axs[2].set_xlabel(\"Days post plating\")\n",
    "axs[2].set_xticks([0, 1, 2, 3, 4, 5])\n",
    "axs[2].set_box_aspect(1)\n",
    "# plt.show()\n",
    "plt.savefig(path_plots+\"figure_5e.svg\")"
   ]
  },
  {
   "cell_type": "markdown",
   "metadata": {},
   "source": [
    "### Figure 5F Statistical tests"
   ]
  },
  {
   "cell_type": "code",
   "execution_count": null,
   "metadata": {},
   "outputs": [],
   "source": [
    "df = pd.read_csv(path_exp_data+\"Exp11.csv\")\n",
    "df_hypoxic = df[df[\"day\"] != \"normoxic\"].copy()\n",
    "# print(df_hypoxic)\n",
    "# run 2-way repeated measures ANOVA\n",
    "# anova_rm_table = repeated_measures_anova(path_stats, \"figure5f\", df_hypoxic, \"meptrs\", \"day\", \"condition\")\n",
    "# print(anova_rm_table)\n",
    "\n",
    "# run tukey's hsd\n",
    "# tukeys_table_i, tukeys_tables = tukeys_hsd(path_stats, \"figure5f\", \"meptrs\", df_hypoxic, [\"condition\", \"day\"], [\"condition\",\"day\"]) \n",
    "# print(tukeys_table_i)\n",
    "# for table in tukeys_tables:\n",
    "#     print(table)\n",
    "\n",
    "# run t-tests for each day vs. normoxia for simple, h1a fb, h2a fb\n",
    "# format df for t-test code\n",
    "df[\"condition\"] = df[\"condition\"] + \"_\" + df[\"day\"].astype(str)\n",
    "# print(df)\n",
    "comparisons = [\n",
    "    [\"simple_hbs_0\", \"simple_hbs_normoxic\"],\n",
    "    [\"simple_hbs_1\", \"simple_hbs_normoxic\"],\n",
    "    [\"simple_hbs_2\", \"simple_hbs_normoxic\"],\n",
    "    [\"simple_hbs_3\", \"simple_hbs_normoxic\"],\n",
    "    [\"simple_hbs_4\", \"simple_hbs_normoxic\"],\n",
    "    [\"simple_hbs_5\", \"simple_hbs_normoxic\"],\n",
    "    [\"h1a_fb_hbs_0\", \"h1a_fb_hbs_normoxic\"],\n",
    "    [\"h1a_fb_hbs_1\", \"h1a_fb_hbs_normoxic\"],\n",
    "    [\"h1a_fb_hbs_2\", \"h1a_fb_hbs_normoxic\"],\n",
    "    [\"h1a_fb_hbs_3\", \"h1a_fb_hbs_normoxic\"],\n",
    "    [\"h1a_fb_hbs_4\", \"h1a_fb_hbs_normoxic\"],\n",
    "    [\"h1a_fb_hbs_5\", \"h1a_fb_hbs_normoxic\"],\n",
    "    [\"h2a_fb_hbs_0\", \"h2a_fb_hbs_normoxic\"],\n",
    "    [\"h2a_fb_hbs_1\", \"h2a_fb_hbs_normoxic\"],\n",
    "    [\"h2a_fb_hbs_2\", \"h2a_fb_hbs_normoxic\"],\n",
    "    [\"h2a_fb_hbs_3\", \"h2a_fb_hbs_normoxic\"],\n",
    "    [\"h2a_fb_hbs_4\", \"h2a_fb_hbs_normoxic\"],\n",
    "    [\"h2a_fb_hbs_5\", \"h2a_fb_hbs_normoxic\"]\n",
    "]\n",
    "t_test_df = run_corrected_t_tests(path_stats, \"figure5f\", \"meptrs\", df, comparisons)\n",
    "print(t_test_df)"
   ]
  },
  {
   "cell_type": "markdown",
   "metadata": {},
   "source": [
    "### Figure 5F plots"
   ]
  },
  {
   "cell_type": "code",
   "execution_count": 17,
   "metadata": {},
   "outputs": [],
   "source": [
    "df_data_plot = pd.read_csv(path_exp_data+\"plot_figure5F.csv\")\n",
    "# print(df_data_plot)\n",
    "df_hypoxia_data = df_data_plot[df_data_plot[\"day\"] != \"baseline\"].copy()\n",
    "df_normoxia_data = df_data_plot[df_data_plot[\"day\"] == \"baseline\"].copy()\n",
    "days = [0, 1, 2, 3, 4, 5]"
   ]
  },
  {
   "cell_type": "code",
   "execution_count": 18,
   "metadata": {},
   "outputs": [],
   "source": [
    "# simple HBS data\n",
    "meptrs_hypoxia_simple = df_hypoxia_data[df_hypoxia_data[\"condition\"] == \"simple_hbs\"][\"meptrs\"].to_list()\n",
    "meptrs_hypoxia_simple_scaled = [i/1E6 for i in meptrs_hypoxia_simple]\n",
    "std_err_hypoxia_simple = df_hypoxia_data[df_hypoxia_data[\"condition\"] == \"simple_hbs\"][\"std_err\"].to_list()\n",
    "std_err_hypoxia_simple_scaled = [i/1E6 for i in std_err_hypoxia_simple]\n",
    "meptrs_normoxia_simple = df_normoxia_data[df_normoxia_data[\"condition\"] == \"simple_hbs\"][\"meptrs\"].to_list()[0]\n",
    "meptrs_normoxia_simple_scaled = meptrs_normoxia_simple/1E6\n",
    "std_err_normoxia_simple = df_normoxia_data[df_normoxia_data[\"condition\"] == \"simple_hbs\"][\"std_err\"].to_list()[0]\n",
    "std_err_normoxia_simple_scaled = std_err_normoxia_simple/1E6"
   ]
  },
  {
   "cell_type": "code",
   "execution_count": 19,
   "metadata": {},
   "outputs": [],
   "source": [
    "# h1a fb HBS data\n",
    "meptrs_hypoxia_h1a_fb = df_hypoxia_data[df_hypoxia_data[\"condition\"] == \"h1a_fb_hbs\"][\"meptrs\"].to_list()\n",
    "meptrs_hypoxia_h1a_fb_scaled = [i/1E6 for i in meptrs_hypoxia_h1a_fb]\n",
    "std_err_hypoxia_h1a_fb = df_hypoxia_data[df_hypoxia_data[\"condition\"] == \"h1a_fb_hbs\"][\"std_err\"].to_list()\n",
    "std_err_hypoxia_h1a_fb_scaled = [i/1E6 for i in std_err_hypoxia_h1a_fb]\n",
    "meptrs_normoxia_h1a_fb = df_normoxia_data[df_normoxia_data[\"condition\"] == \"h1a_fb_hbs\"][\"meptrs\"].to_list()[0]\n",
    "meptrs_normoxia_h1a_fb_scaled = meptrs_normoxia_h1a_fb/1E6\n",
    "std_err_normoxia_h1a_fb = df_normoxia_data[df_normoxia_data[\"condition\"] == \"h1a_fb_hbs\"][\"std_err\"].to_list()[0]\n",
    "std_err_normoxia_h1a_fb_scaled = std_err_normoxia_h1a_fb/1E6"
   ]
  },
  {
   "cell_type": "code",
   "execution_count": 20,
   "metadata": {},
   "outputs": [],
   "source": [
    "# h2a fb HBS data\n",
    "meptrs_hypoxia_h2a_fb = df_hypoxia_data[df_hypoxia_data[\"condition\"] == \"h2a_fb_hbs\"][\"meptrs\"].to_list()\n",
    "meptrs_hypoxia_h2a_fb_scaled = [i/1E6 for i in meptrs_hypoxia_h2a_fb]\n",
    "std_err_hypoxia_h2a_fb = df_hypoxia_data[df_hypoxia_data[\"condition\"] == \"h2a_fb_hbs\"][\"std_err\"].to_list()\n",
    "std_err_hypoxia_h2a_fb_scaled = [i/1E6 for i in std_err_hypoxia_h2a_fb]\n",
    "meptrs_normoxia_h2a_fb = df_normoxia_data[df_normoxia_data[\"condition\"] == \"h2a_fb_hbs\"][\"meptrs\"].to_list()[0]\n",
    "meptrs_normoxia_h2a_fb_scaled = meptrs_normoxia_h2a_fb/1E6\n",
    "std_err_normoxia_h2a_fb = df_normoxia_data[df_normoxia_data[\"condition\"] == \"h2a_fb_hbs\"][\"std_err\"].to_list()[0]\n",
    "std_err_normoxia_h2a_fb_scaled = std_err_normoxia_h2a_fb/1E6"
   ]
  },
  {
   "cell_type": "code",
   "execution_count": 26,
   "metadata": {},
   "outputs": [
    {
     "data": {
      "image/png": "[encoded data removed]",
      "text/plain": [
       "<Figure size 605x225 with 3 Axes>"
      ]
     },
     "metadata": {},
     "output_type": "display_data"
    }
   ],
   "source": [
    "fig, axs = plt.subplots(1, 3, figsize=(6.05, 2.25), sharey=True)\n",
    "axs = axs.ravel()\n",
    "axs[0].errorbar(days, meptrs_hypoxia_simple_scaled, std_err_hypoxia_simple_scaled, color=\"black\", linestyle=\"-\", linewidth=1, marker=\"o\", markersize=\"4\", ecolor=\"k\", capsize=2, elinewidth=0.5)\n",
    "axs[0].fill_between(\n",
    "    days, meptrs_normoxia_simple_scaled-std_err_normoxia_simple_scaled, \n",
    "    meptrs_normoxia_simple_scaled+std_err_normoxia_simple_scaled, color=\"gray\")\n",
    "axs[0].set_xlabel(\"Days post plating\")\n",
    "axs[0].set_xticks([0, 1, 2, 3, 4, 5])\n",
    "axs[0].set_ylabel(\"Mean exp. (x10^6 MEPTRs)\")\n",
    "axs[0].set_ylim(top=0.2)\n",
    "axs[0].set_box_aspect(1)\n",
    "axs[1].errorbar(days, meptrs_hypoxia_h1a_fb_scaled, std_err_hypoxia_h1a_fb_scaled, color=\"black\", linestyle=\"-\", linewidth=1, marker=\"o\", markersize=\"4\", ecolor=\"k\", capsize=2, elinewidth=0.5)\n",
    "axs[1].fill_between(\n",
    "    days, meptrs_normoxia_h1a_fb_scaled-std_err_normoxia_h1a_fb_scaled, \n",
    "    meptrs_normoxia_h1a_fb_scaled+std_err_normoxia_h1a_fb_scaled, color=\"gray\")\n",
    "axs[1].set_xlabel(\"Days post plating\")\n",
    "axs[1].set_xticks([0, 1, 2, 3, 4, 5])\n",
    "axs[1].set_box_aspect(1)\n",
    "axs[2].errorbar(days, meptrs_hypoxia_h2a_fb_scaled, std_err_hypoxia_h2a_fb_scaled, color=\"black\", linestyle=\"-\", linewidth=1, marker=\"o\", markersize=\"4\", ecolor=\"k\", capsize=2, elinewidth=0.5)\n",
    "axs[2].fill_between(\n",
    "    days, meptrs_normoxia_h2a_fb_scaled-std_err_normoxia_h2a_fb_scaled, \n",
    "    meptrs_normoxia_h2a_fb_scaled+std_err_normoxia_h2a_fb_scaled, color=\"gray\")\n",
    "axs[2].set_xlabel(\"Days post plating\")\n",
    "axs[2].set_xticks([0, 1, 2, 3, 4, 5])\n",
    "axs[2].set_box_aspect(1)\n",
    "# plt.show()\n",
    "plt.savefig(path_plots+\"figure_5f.svg\")"
   ]
  },
  {
   "cell_type": "code",
   "execution_count": null,
   "metadata": {},
   "outputs": [],
   "source": []
  }
 ],
 "metadata": {
  "kernelspec": {
   "display_name": ".venv",
   "language": "python",
   "name": "python3"
  },
  "language_info": {
   "codemirror_mode": {
    "name": "ipython",
    "version": 3
   },
   "file_extension": ".py",
   "mimetype": "text/x-python",
   "name": "python",
   "nbconvert_exporter": "python",
   "pygments_lexer": "ipython3",
   "version": "3.10.10"
  }
 },
 "nbformat": 4,
 "nbformat_minor": 2
}
