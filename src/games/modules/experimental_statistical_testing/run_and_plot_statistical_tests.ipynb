{
 "cells": [
  {
   "cell_type": "code",
   "execution_count": 1,
   "metadata": {},
   "outputs": [
    {
     "name": "stderr",
     "output_type": "stream",
     "text": [
      "/Users/kdreyer/Documents/Github/HBS_GAMES2/.venv/lib/python3.10/site-packages/outdated/utils.py:14: OutdatedPackageWarning: The package pingouin is out of date. Your version is 0.5.3, the latest is 0.5.4.\n",
      "Set the environment variable OUTDATED_IGNORE=1 to disable these warnings.\n",
      "  return warn(\n"
     ]
    }
   ],
   "source": [
    "import numpy as np\n",
    "import pandas as pd\n",
    "import matplotlib.pyplot as plt\n",
    "from matplotlib.ticker import ScalarFormatter\n",
    "from games.modules.experimental_statistical_testing.experimental_statistical_tests import (anova,\n",
    "                                                  tukeys_hsd,\n",
    "                                                  t_tests,\n",
    "                                                  BH_correction,\n",
    "                                                  run_corrected_t_tests,\n",
    "                                                  repeated_measures_anova)\n",
    "plt.style.use(\"/Users/kdreyer/Documents/Github/HBS_GAMES2/src/games/paper.mplstyle.py\")\n",
    "path = \"/Users/kdreyer/Documents/Github/HBS_GAMES2/src/games/modules/experimental_statistical_testing/\"\n",
    "path_exp_data = path + \"experimental_data/\"\n",
    "path_stats = path + \"results/\"\n",
    "path_plots = path + \"experimental_data_plots/\""
   ]
  },
  {
   "cell_type": "markdown",
   "metadata": {},
   "source": [
    "## Figure 1"
   ]
  },
  {
   "cell_type": "markdown",
   "metadata": {},
   "source": [
    "### Figure 1A plot"
   ]
  },
  {
   "cell_type": "code",
   "execution_count": null,
   "metadata": {},
   "outputs": [],
   "source": [
    "df_plot_pO2 = pd.read_csv(path_exp_data+\"plot_figure1A_pO2.csv\")\n",
    "# print(df_plot_pO2)\n",
    "df_plot_pctO2 = pd.read_csv(path_exp_data+\"plot_figure1A_pctO2.csv\")\n",
    "# print(df_plot_pctO2)"
   ]
  },
  {
   "cell_type": "code",
   "execution_count": null,
   "metadata": {},
   "outputs": [],
   "source": [
    "# create figure 2D plot\n",
    "blues = plt.cm.get_cmap(\"Blues\", 10)\n",
    "fig, ax = plt.subplots(1, 1, figsize=(3.25, 3), sharey=True)\n",
    "ax2 = ax.twinx()\n",
    "ax.plot(df_plot_pO2[\"time_min\"], df_plot_pO2[\"media_0_pO2\"], color=\"gray\", linestyle=\"none\", marker=\"o\", markersize=\"1\", label=\"0 uL\")\n",
    "# ax.plot(df_plot_pO2[\"time_min\"], df_plot_pO2[\"media_125_pO2\"], color=blues(3), linestyle=\"none\", marker=\"o\", markersize=\"1\", label=\"125 uL\")\n",
    "# ax.plot(df_plot_pO2[\"time_min\"], df_plot_pO2[\"media_250_pO2\"], color=blues(4), linestyle=\"none\", marker=\"o\", markersize=\"1\", label=\"250 uL\")\n",
    "ax.plot(df_plot_pO2[\"time_min\"], df_plot_pO2[\"media_500_pO2\"], color=blues(5), linestyle=\"none\", marker=\"o\", markersize=\"1\", label=\"500 uL\")\n",
    "ax.plot(df_plot_pO2[\"time_min\"], df_plot_pO2[\"media_750_pO2\"], color=blues(7), linestyle=\"none\", marker=\"o\", markersize=\"1\", label=\"750 uL\")\n",
    "# ax.plot(df_plot_pO2[\"time_min\"], df_plot_pO2[\"media_1000_pO2\"], color=blues(8), linestyle=\"none\", marker=\"o\", markersize=\"1\", label=\"1000 uL\")\n",
    "# ax.plot(df_plot_pO2[\"time_min\"], df_plot_pO2[\"media_1500_pO2\"], color=blues(9), linestyle=\"none\", marker=\"o\", markersize=\"1\", label=\"1500 uL\")\n",
    "# ax2.plot(df_plot_pctO2[\"time_min\"], df_plot_pctO2[\"pct_O2\"], color=\"k\", linestyle=\"-\", marker=\"o\", markersize=\"1\", label=\"Air\")\n",
    "ax.set_xlabel(\"Time (min)\")\n",
    "ax.set_xticks([0, 60, 120, 180, 240])\n",
    "ax.set_ylabel(\"pO2 at bottom of well (mmHg)\")\n",
    "ax.set_yticks([0, 50, 100, 150])\n",
    "ax.spines[['right']].set_visible(True)\n",
    "ax.set_box_aspect(1)\n",
    "ax2.set_ylabel(\"% O2 in incubator\")\n",
    "ax2.set_yticks([0, 10, 20])\n",
    "ax2.set_ylim(top=20)\n",
    "plt.show()\n",
    "# plt.savefig(path_plots+\"figure_1a.svg\")"
   ]
  },
  {
   "cell_type": "markdown",
   "metadata": {},
   "source": [
    "### Figure 1C statistical tests"
   ]
  },
  {
   "cell_type": "code",
   "execution_count": null,
   "metadata": {},
   "outputs": [],
   "source": [
    "df_all = pd.read_csv(path_exp_data+\"Exp03_main.csv\")\n",
    "# print(df_all)"
   ]
  },
  {
   "cell_type": "code",
   "execution_count": null,
   "metadata": {},
   "outputs": [],
   "source": [
    "### red fluorescent protein ###\n",
    "# select data for red only\n",
    "df_red = df_all[df_all[\"condition\"].str.contains(\"red\")]\n",
    "# print(df_red)\n",
    "# run t-tests\n",
    "red_comparisons = [\n",
    "    [\"red_normoxic\", \"red_hypoxic_ice\"], \n",
    "    [\"red_normoxic\", \"red_hypoxic_rt\"], \n",
    "    [\"red_normoxic\", \"red_hypoxic_ox_ice\"]\n",
    "]\n",
    "# t_test_df = run_corrected_t_tests(path_stats, \"figure1c_red\", \"rfu\", df_all, red_comparisons)\n",
    "# print(t_test_df)\n",
    "\n",
    "# run 1 way anova\n",
    "# anova_table = anova(path_stats, \"figure1c_red\", df_red, \"rfu\", \"condition\")\n",
    "# print(anova_table)\n",
    "# run tukey's hsd\n",
    "# tukeys_tables = tukeys_hsd(path_stats, \"figure1c_red\", \"rfu\", df_red, [\"condition\"])\n",
    "# for table in tukeys_tables:\n",
    "#     print(table)"
   ]
  },
  {
   "cell_type": "code",
   "execution_count": null,
   "metadata": {},
   "outputs": [],
   "source": [
    "### green fluorescent protein ###\n",
    "# select data for green only\n",
    "df_green = df_all[df_all[\"condition\"].str.contains(\"green\")]\n",
    "# run t-tests\n",
    "green_comparisons = [\n",
    "    [\"green_normoxic\", \"green_hypoxic_ice\"], \n",
    "    [\"green_normoxic\", \"green_hypoxic_rt\"], \n",
    "    [\"green_normoxic\", \"green_hypoxic_ox_ice\"]\n",
    "]\n",
    "# t_test_df = run_corrected_t_tests(path_stats, \"figure1c_green\", \"rfu\", df_all, green_comparisons)\n",
    "# print(t_test_df)\n",
    "\n",
    "# run 1 way anova\n",
    "# anova_table = anova(path_stats, \"figure1c_green\", df_green, \"rfu\", \"condition\")\n",
    "# print(anova_table)\n",
    "# run tukey's hsd\n",
    "tukeys_tables = tukeys_hsd(path_stats, \"figure1c_green\", \"rfu\", df_green, [\"condition\"])\n",
    "for table in tukeys_tables:\n",
    "    print(table)"
   ]
  },
  {
   "cell_type": "code",
   "execution_count": null,
   "metadata": {},
   "outputs": [],
   "source": [
    "### blue fluorescent protein ###\n",
    "# select data for green only\n",
    "df_blue = df_all[df_all[\"condition\"].str.contains(\"blue\")]\n",
    "# run t-tests\n",
    "blue_comparisons = [\n",
    "    [\"blue_normoxic\", \"blue_hypoxic_ice\"], \n",
    "    [\"blue_normoxic\", \"blue_hypoxic_rt\"], \n",
    "    [\"blue_normoxic\", \"blue_hypoxic_ox_ice\"]\n",
    "]\n",
    "# t_test_df = run_corrected_t_tests(path_stats, \"figure1c_blue\", \"rfu\", df_all, blue_comparisons)\n",
    "# print(t_test_df)\n",
    "\n",
    "# run 1 way anova\n",
    "# anova_table = anova(path_stats, \"figure1c_blue\", df_blue, \"rfu\", \"condition\")\n",
    "# print(anova_table)\n",
    "# run tukey's hsd\n",
    "tukeys_tables = tukeys_hsd(path_stats, \"figure1c_blue\", \"rfu\", df_blue, [\"condition\"])\n",
    "for table in tukeys_tables:\n",
    "    print(table)"
   ]
  },
  {
   "cell_type": "markdown",
   "metadata": {},
   "source": [
    "### Figure 1C plot"
   ]
  },
  {
   "cell_type": "code",
   "execution_count": 11,
   "metadata": {},
   "outputs": [],
   "source": [
    "df_data_plot = pd.read_csv(path_exp_data+\"plot_figure1C_supp_figure3.csv\")\n",
    "df_data_main = df_data_plot[~df_data_plot[\"condition\"].str.contains(\"f\")]\n",
    "# print(df_data_main)"
   ]
  },
  {
   "cell_type": "code",
   "execution_count": 18,
   "metadata": {},
   "outputs": [
    {
     "data": {
      "image/png": "[encoded data removed]",
      "text/plain": [
       "<Figure size 325x275 with 1 Axes>"
      ]
     },
     "metadata": {},
     "output_type": "display_data"
    }
   ],
   "source": [
    "# format data and labels for plotting\n",
    "conditions = df_data_main[\"condition\"].to_list()\n",
    "plot_xlabels = [conditions[i] for i in range(0, len(conditions), 3)]\n",
    "rfu = df_data_main[\"rfu\"].to_list()\n",
    "plot_rfu = [rfu[i:i + 3] for i in range(0, len(rfu), 3)]\n",
    "std_err = df_data_main[\"std_err\"].to_list()\n",
    "plot_std_err = [std_err[i:i + 3] for i in range(0, len(std_err), 3)]\n",
    "\n",
    "# create plot\n",
    "fig, ax = plt.subplots(1, 1, figsize=(3.25, 2.75))\n",
    "x_ticks = []\n",
    "for index, rfu_list in enumerate(plot_rfu[:4]):\n",
    "    ax.bar(index-0.3, rfu_list[2], width=0.2, color=\"blue\", align=\"center\", label=\"blue\")\n",
    "    ax.errorbar(index-0.3, rfu_list[2], plot_std_err[index][2], color=\"k\", capsize=2, elinewidth=0.5)\n",
    "    ax.bar(index, rfu_list[1], width=0.2, color=\"green\", align=\"center\", label=\"green\")\n",
    "    ax.errorbar(index, rfu_list[1], plot_std_err[index][1], color=\"k\", capsize=2, elinewidth=0.5)\n",
    "    ax.bar(index+0.3, rfu_list[0], width=0.2, color=\"red\", align=\"center\", label=\"red\")\n",
    "    ax.errorbar(index+0.3, rfu_list[0], plot_std_err[index][0], color=\"k\", capsize=2, elinewidth=0.5)\n",
    "    x_ticks.append(index)\n",
    "ax.axhline(y=1.0, color=\"grey\", linestyle=\"dotted\", linewidth=1.5)\n",
    "ax.set_ylabel(\"Fluorescence (relative to normoxic control)\")\n",
    "ax.set_xticks(x_ticks)\n",
    "ax.set_xticklabels(plot_xlabels[:4])\n",
    "\n",
    "plt.show()\n",
    "# plt.savefig(path_plots+\"figure_1c.svg\")"
   ]
  },
  {
   "cell_type": "markdown",
   "metadata": {},
   "source": [
    "### Figure 1D statistical tests"
   ]
  },
  {
   "cell_type": "code",
   "execution_count": 16,
   "metadata": {},
   "outputs": [],
   "source": [
    "df_data = pd.read_csv(path_exp_data+\"Exp04_pt1_dox_DsR.csv\")\n",
    "# print(df_data)"
   ]
  },
  {
   "cell_type": "code",
   "execution_count": 15,
   "metadata": {},
   "outputs": [],
   "source": [
    "# format df for t-test code\n",
    "# df_data[\"condition\"] = df_data[\"condition\"] + \"_\" + df_data[\"day\"].astype(str)\n",
    "# print(df_data)\n",
    "# comparisons = [\n",
    "#     [\"normoxia_0\", \"hypoxia_0\"],\n",
    "#     [\"normoxia_1\", \"hypoxia_1\"],\n",
    "#     [\"normoxia_2\", \"hypoxia_2\"],\n",
    "#     [\"normoxia_3\", \"hypoxia_3\"],\n",
    "#     [\"normoxia_4\", \"hypoxia_4\"],\n",
    "#     [\"normoxia_5\", \"hypoxia_5\"],\n",
    "#     [\"normoxia_dox_0\", \"hypoxia_dox_0\"],\n",
    "#     [\"normoxia_dox_1\", \"hypoxia_dox_1\"],\n",
    "#     [\"normoxia_dox_2\", \"hypoxia_dox_2\"],\n",
    "#     [\"normoxia_dox_3\", \"hypoxia_dox_3\"],\n",
    "#     [\"normoxia_dox_4\", \"hypoxia_dox_4\"],\n",
    "#     [\"normoxia_dox_5\", \"hypoxia_dox_5\"],\n",
    "# ]\n",
    "# t_test_df = run_corrected_t_tests(path_stats, \"figure1d\", \"meptrs\", df_data, comparisons)\n",
    "# print(t_test_df)\n",
    "\n",
    "# run 2-way repeated measures ANOVA\n",
    "# anova_rm_table = repeated_measures_anova(path_stats, \"figure1d\", df_data, \"meptrs\", \"day\", \"condition\")\n",
    "# print(anova_rm_table)\n",
    "\n",
    "# run tukey's hsd\n",
    "# tukeys_table_i, tukeys_tables = tukeys_hsd(path_stats, \"figure1d\", \"meptrs\", df_data, [\"condition\", \"day\"], [\"condition\",\"day\"]) \n",
    "# print(tukeys_table_i)\n",
    "# for table in tukeys_tables:\n",
    "#     print(table)\n"
   ]
  },
  {
   "cell_type": "markdown",
   "metadata": {},
   "source": [
    "### Figure 1D plot"
   ]
  },
  {
   "cell_type": "code",
   "execution_count": 17,
   "metadata": {},
   "outputs": [],
   "source": [
    "df_data_plot = pd.read_csv(path_exp_data+\"plot_figure1D.csv\")\n",
    "# print(df_data_plot)\n",
    "days = [0, 1, 2, 3, 4]"
   ]
  },
  {
   "cell_type": "code",
   "execution_count": 18,
   "metadata": {},
   "outputs": [],
   "source": [
    "# normoxia data\n",
    "meptrs_normoxia = df_data_plot[df_data_plot[\"condition\"] == \"normoxia\"][\"meptrs\"].to_list()\n",
    "meptrs_normoxia_scaled = [i/1E6 for i in meptrs_normoxia]\n",
    "std_err_normoxia = df_data_plot[df_data_plot[\"condition\"] == \"normoxia\"][\"std_err\"].to_list()\n",
    "std_err_normoxia_scaled = [i/1E6 for i in std_err_normoxia]"
   ]
  },
  {
   "cell_type": "code",
   "execution_count": 19,
   "metadata": {},
   "outputs": [],
   "source": [
    "# normoxia dox data\n",
    "meptrs_normoxia_dox = df_data_plot[df_data_plot[\"condition\"] == \"normoxia_dox\"][\"meptrs\"].to_list()\n",
    "meptrs_normoxia_dox_scaled = [i/1E6 for i in meptrs_normoxia_dox]\n",
    "std_err_normoxia_dox = df_data_plot[df_data_plot[\"condition\"] == \"normoxia_dox\"][\"std_err\"].to_list()\n",
    "std_err_normoxia_dox_scaled = [i/1E6 for i in std_err_normoxia_dox]"
   ]
  },
  {
   "cell_type": "code",
   "execution_count": 20,
   "metadata": {},
   "outputs": [],
   "source": [
    "# hypoxia data\n",
    "meptrs_hypoxia = df_data_plot[df_data_plot[\"condition\"] == \"hypoxia\"][\"meptrs\"].to_list()\n",
    "meptrs_hypoxia_scaled = [i/1E6 for i in meptrs_hypoxia]\n",
    "std_err_hypoxia = df_data_plot[df_data_plot[\"condition\"] == \"hypoxia\"][\"std_err\"].to_list()\n",
    "std_err_hypoxia_scaled = [i/1E6 for i in std_err_hypoxia]"
   ]
  },
  {
   "cell_type": "code",
   "execution_count": 21,
   "metadata": {},
   "outputs": [],
   "source": [
    "# hypoxia dox data\n",
    "meptrs_hypoxia_dox = df_data_plot[df_data_plot[\"condition\"] == \"hypoxia_dox\"][\"meptrs\"].to_list()\n",
    "meptrs_hypoxia_dox_scaled = [i/1E6 for i in meptrs_hypoxia_dox]\n",
    "std_err_hypoxia_dox = df_data_plot[df_data_plot[\"condition\"] == \"hypoxia_dox\"][\"std_err\"].to_list()\n",
    "std_err_hypoxia_dox_scaled = [i/1E6 for i in std_err_hypoxia_dox]"
   ]
  },
  {
   "cell_type": "code",
   "execution_count": 22,
   "metadata": {},
   "outputs": [
    {
     "data": {
      "image/png": "[encoded data removed]",
      "text/plain": [
       "<Figure size 250x250 with 1 Axes>"
      ]
     },
     "metadata": {},
     "output_type": "display_data"
    }
   ],
   "source": [
    "# create figure 2D plot\n",
    "fig, ax = plt.subplots(1, 1, figsize=(2.5, 2.5), sharey=True)\n",
    "ax.errorbar(days, meptrs_normoxia_scaled, std_err_normoxia_scaled, color=\"gray\", linestyle=\"-\", linewidth=1, marker=\"o\", markersize=\"4\", ecolor=\"k\", capsize=2, elinewidth=0.5, label=\"normoxia\")\n",
    "ax.errorbar(days, meptrs_normoxia_dox_scaled, std_err_normoxia_dox_scaled, color=\"k\", linestyle=\"-\", linewidth=1, marker=\"o\", markersize=\"4\", ecolor=\"k\", capsize=2, elinewidth=0.5, label=\"normoxia_dox\")\n",
    "ax.errorbar(days, meptrs_hypoxia_scaled, std_err_hypoxia_scaled, color=\"mediumpurple\", linestyle=\"-\", linewidth=1, marker=\"o\", markersize=\"4\", ecolor=\"k\", capsize=2, elinewidth=0.5, label=\"hypoxia\")\n",
    "ax.errorbar(days, meptrs_hypoxia_dox_scaled, std_err_hypoxia_dox_scaled, color=\"rebeccapurple\", linestyle=\"-\", linewidth=1, marker=\"o\", markersize=\"4\", ecolor=\"k\", capsize=2, elinewidth=0.5, label=\"hypoxia_dox\")\n",
    "ax.set_xlabel(\"Days post plating\")\n",
    "ax.set_xticks([0, 1, 2, 3, 4])\n",
    "ax.set_ylabel(\"Mean reporter exp. (x10^6 MEPTRs)\")\n",
    "ax.set_ylim(top=9)\n",
    "ax.set_box_aspect(1)\n",
    "# plt.show()\n",
    "plt.savefig(path_plots+\"figure_1d.svg\")"
   ]
  },
  {
   "cell_type": "markdown",
   "metadata": {},
   "source": [
    "## Supplementary Figure 3"
   ]
  },
  {
   "cell_type": "markdown",
   "metadata": {},
   "source": [
    "### Supplementary Figure 3 statistical tests"
   ]
  },
  {
   "cell_type": "code",
   "execution_count": null,
   "metadata": {},
   "outputs": [],
   "source": [
    "df_all = pd.read_csv(path_exp_data+\"Exp03_supplement.csv\")\n",
    "# print(df_all)"
   ]
  },
  {
   "cell_type": "code",
   "execution_count": null,
   "metadata": {},
   "outputs": [],
   "source": [
    "### red fluorescent protein ###\n",
    "# select data for red only\n",
    "df_red = df_all[df_all[\"condition\"].str.contains(\"red\")]\n",
    "# print(df_red)\n",
    "# run 1 way anova\n",
    "# anova_table = anova(path_stats, \"supp_figure3_red\", df_red, \"rfu\", \"condition\")\n",
    "# print(anova_table)\n",
    "# run tukey's hsd\n",
    "tukeys_tables = tukeys_hsd(path_stats, \"supp_figure3_red\", \"rfu\", df_red, [\"condition\"])\n",
    "for table in tukeys_tables:\n",
    "    print(table)"
   ]
  },
  {
   "cell_type": "code",
   "execution_count": null,
   "metadata": {},
   "outputs": [],
   "source": [
    "### green fluorescent protein ###\n",
    "# select data for red only\n",
    "df_green = df_all[df_all[\"condition\"].str.contains(\"green\")]\n",
    "# run 1 way anova\n",
    "# anova_table = anova(path_stats, \"supp_figure3_green\", df_green, \"rfu\", \"condition\")\n",
    "# print(anova_table)\n",
    "# run tukey's hsd\n",
    "tukeys_tables = tukeys_hsd(path_stats, \"supp_figure3_green\", \"rfu\", df_green, [\"condition\"])\n",
    "for table in tukeys_tables:\n",
    "    print(table)"
   ]
  },
  {
   "cell_type": "code",
   "execution_count": null,
   "metadata": {},
   "outputs": [],
   "source": [
    "### blue fluorescent protein ###\n",
    "# select data for red only\n",
    "df_blue = df_all[df_all[\"condition\"].str.contains(\"blue\")]\n",
    "# run 1 way anova\n",
    "# anova_table = anova(path_stats, \"supp_figure3_blue\", df_blue, \"rfu\", \"condition\")\n",
    "# print(anova_table)\n",
    "# run tukey's hsd\n",
    "tukeys_tables = tukeys_hsd(path_stats, \"supp_figure3_blue\", \"rfu\", df_blue, [\"condition\"])\n",
    "for table in tukeys_tables:\n",
    "    print(table)"
   ]
  },
  {
   "cell_type": "markdown",
   "metadata": {},
   "source": [
    "### Supplementary Figure 3 plot"
   ]
  },
  {
   "cell_type": "code",
   "execution_count": 36,
   "metadata": {},
   "outputs": [
    {
     "data": {
      "image/png": "[encoded data removed]",
      "text/plain": [
       "<Figure size 700x250 with 1 Axes>"
      ]
     },
     "metadata": {},
     "output_type": "display_data"
    }
   ],
   "source": [
    "conditions = df_data_plot[\"condition\"].to_list()\n",
    "plot_xlabels = [conditions[i] for i in range(0, len(conditions), 3)]\n",
    "rfu = df_data_plot[\"rfu\"].to_list()\n",
    "plot_rfu = [rfu[i:i + 3] for i in range(0, len(rfu), 3)]\n",
    "std_err = df_data_plot[\"std_err\"].to_list()\n",
    "plot_std_err = [std_err[i:i + 3] for i in range(0, len(std_err), 3)]\n",
    "\n",
    "# create plot\n",
    "fig, ax = plt.subplots(1, 1, figsize=(7, 2.5))\n",
    "x_ticks = []\n",
    "for index, rfu_list in enumerate(plot_rfu):\n",
    "    ax.bar(index-0.3, rfu_list[2], width=0.2, color=\"blue\", align=\"center\", label=\"blue\")\n",
    "    ax.errorbar(index-0.3, rfu_list[2], plot_std_err[index][2], color=\"k\", capsize=2, elinewidth=0.5)\n",
    "    ax.bar(index, rfu_list[1], width=0.2, color=\"green\", align=\"center\", label=\"green\")\n",
    "    ax.errorbar(index, rfu_list[1], plot_std_err[index][1], color=\"k\", capsize=2, elinewidth=0.5)\n",
    "    ax.bar(index+0.3, rfu_list[0], width=0.2, color=\"red\", align=\"center\", label=\"red\")\n",
    "    ax.errorbar(index+0.3, rfu_list[0], plot_std_err[index][0], color=\"k\", capsize=2, elinewidth=0.5)\n",
    "    x_ticks.append(index)\n",
    "ax.axhline(y=1.0, color=\"grey\", linestyle=\"dotted\", linewidth=1.5)\n",
    "ax.set_ylabel(\"Relative Fluorescence\")\n",
    "ax.set_yticks([0, 0.2, 0.4, 0.6, 0.8, 1.0, 1.2])\n",
    "ax.set_xticks(x_ticks)\n",
    "ax.set_xlim([x_ticks[0]-0.8, x_ticks[-1]+0.75])\n",
    "ax.set_xticklabels(plot_xlabels)\n",
    "ax.tick_params(axis='x', which='major', labelsize=6)\n",
    "# plt.show()\n",
    "plt.savefig(path_plots+\"supp_figure_3.svg\")"
   ]
  },
  {
   "cell_type": "markdown",
   "metadata": {},
   "source": [
    "## Figure 2"
   ]
  },
  {
   "cell_type": "markdown",
   "metadata": {},
   "source": [
    "### Figure 2D-2E statistical tests"
   ]
  },
  {
   "cell_type": "code",
   "execution_count": null,
   "metadata": {},
   "outputs": [],
   "source": [
    "df = pd.read_csv(path_exp_data+\"Exp05_pt1.csv\")\n",
    "print(df)\n",
    "\n",
    "# run t-tests\n",
    "comparisons = [\n",
    "    [\"cobalt_0\", \"cobalt_3\"], \n",
    "    [\"cobalt_0\", \"cobalt_15\"], \n",
    "    [\"cobalt_0\", \"cobalt_30\"],\n",
    "    [\"cobalt_0\", \"cobalt_150\"],\n",
    "    [\"cobalt_0\", \"cobalt_300\"],\n",
    "    [\"cobalt_0\", \"cobalt_600\"]\n",
    "]\n",
    "t_test_df = run_corrected_t_tests(path_stats, \"figure2d-e\", \"meptrs\", df, comparisons)\n",
    "print(t_test_df)"
   ]
  },
  {
   "cell_type": "markdown",
   "metadata": {},
   "source": [
    "### Figure 2D plot"
   ]
  },
  {
   "cell_type": "code",
   "execution_count": null,
   "metadata": {},
   "outputs": [],
   "source": [
    "df_data_plot = pd.read_csv(path_exp_data+\"plot_figure2D-E.csv\")\n",
    "# print(df_data_plot)\n",
    "cobalt_doses = df_data_plot[\"cobalt_dose\"].to_list()\n",
    "meptrs = df_data_plot[\"meptrs\"].to_list()\n",
    "meptrs_scaled = [i/1E4 for i in meptrs]\n",
    "std_err = df_data_plot[\"std_err\"].to_list()\n",
    "std_err_scaled = [i/1E4 for i in std_err]\n",
    "\n",
    "# create figure 2D plot\n",
    "fig, ax = plt.subplots(1, 1, figsize=(2.4, 2.4))\n",
    "ax.errorbar(cobalt_doses, meptrs_scaled, std_err_scaled, color=\"deeppink\", linestyle=\"-\", linewidth=1, marker=\"o\", markersize=\"4\", ecolor=\"k\", capsize=2, elinewidth=0.5)\n",
    "ax.set_xscale('symlog')\n",
    "ax.set_xlim(right=1000)\n",
    "ax.set_ylim(top=4)\n",
    "ax.xaxis.set_major_formatter(ScalarFormatter())\n",
    "ax.set_xlabel(\"CoCl2 dose (uM)\")\n",
    "ax.set_ylabel(\"Mean exp. (x10^4 MEPTRs)\")\n",
    "ax.set_box_aspect(1)\n",
    "# plt.show()\n",
    "plt.savefig(path_plots+\"figure_2d.svg\")"
   ]
  },
  {
   "cell_type": "markdown",
   "metadata": {},
   "source": [
    "### Figure 2E plot"
   ]
  },
  {
   "cell_type": "code",
   "execution_count": null,
   "metadata": {},
   "outputs": [],
   "source": [
    "fig, ax = plt.subplots(1, 1, figsize=(1.15, 1.9))\n",
    "\n",
    "ax.bar(-0.15, meptrs_scaled[0], width=0.3, color=\"grey\", align=\"center\", label=\"untreated\")\n",
    "ax.bar(0.15, meptrs_scaled[-2], width=0.3, color=\"deeppink\", align=\"center\", label=\"cobalt\")\n",
    "ax.errorbar(-0.15, meptrs_scaled[0], std_err_scaled[0], color=\"k\", capsize=2, elinewidth=0.5)\n",
    "ax.errorbar(0.15, meptrs_scaled[-2], std_err_scaled[-2], color=\"k\", capsize=2, elinewidth=0.5)\n",
    "ax.set_xlim([-0.5, 0.5])\n",
    "ax.set_xticklabels([])\n",
    "ax.set_ylim(top=3.5)\n",
    "ax.set_yticks([0, 1, 2, 3])\n",
    "ax.set_ylabel(\"Mean exp. (x10^6 MEPTRs)\")\n",
    "# plt.show()\n",
    "plt.savefig(path_plots+\"figure_2e.svg\")"
   ]
  },
  {
   "cell_type": "markdown",
   "metadata": {},
   "source": [
    "### Figure 2G statistical tests"
   ]
  },
  {
   "cell_type": "code",
   "execution_count": null,
   "metadata": {},
   "outputs": [],
   "source": [
    "df = pd.read_csv(path_exp_data+\"Exp05_pt2_bins.csv\")\n",
    "# print(df)\n",
    "\n",
    "# run 2-way ANOVA\n",
    "# anova_table = anova(path_stats, \"figure2g\", df, \"meptrs\", \"condition\", \"bin\")\n",
    "# print(anova_table)\n",
    "# run tukey's hsd\n",
    "# tukeys_table_i, tukeys_tables = tukeys_hsd(path_stats, \"figure2g\", \"meptrs\", df, [\"condition\", \"bin\"], [\"condition\",\"bin\"])\n",
    "# print(tukeys_table_i)\n",
    "# for table in tukeys_tables:\n",
    "#     print(table)"
   ]
  },
  {
   "cell_type": "code",
   "execution_count": null,
   "metadata": {},
   "outputs": [],
   "source": [
    "# run 1 way ANOVA on fold induction for each condition\n",
    "df_fold = df[df[\"fold\"] != 1]\n",
    "# print(df_fold)\n",
    "# anova_table = anova(path_stats, \"figure2g_fold\", df_fold, \"fold\", \"bin\")\n",
    "# print(anova_table)\n",
    "# run tukey's hsd\n",
    "# tukeys_tables = tukeys_hsd(path_stats, \"figure2g_fold\", \"fold\", df_fold, [\"bin\"])\n",
    "# for table in tukeys_tables:\n",
    "#     print(table)"
   ]
  },
  {
   "cell_type": "markdown",
   "metadata": {},
   "source": [
    "### Figure 2G plot"
   ]
  },
  {
   "cell_type": "code",
   "execution_count": null,
   "metadata": {},
   "outputs": [],
   "source": [
    "df_data_plot = pd.read_csv(path_exp_data+\"plot_figure2G.csv\")\n",
    "# print(df_data_plot)\n",
    "\n",
    "# format data and labels for plotting\n",
    "meptrs = df_data_plot[\"meptrs\"].to_list()\n",
    "meptrs_scaled = [i/1E4 for i in meptrs]\n",
    "plot_meptrs = [meptrs_scaled[i:i + 2] for i in range(0, len(meptrs_scaled), 2)]\n",
    "std_err = df_data_plot[\"std_err\"].to_list()\n",
    "std_err_scaled = [i/1E4 for i in std_err]\n",
    "plot_std_err = [std_err_scaled[i:i + 2] for i in range(0, len(std_err_scaled), 2)]\n",
    "fi = df_data_plot[\"FI\"].to_list()\n",
    "plot_fi = [fi[i] for i in range(1, len(fi), 2)]\n",
    "fi_std_err = df_data_plot[\"FI_std_err\"].to_list()\n",
    "plot_fi_std_err = [fi_std_err[i] for i in range(1, len(fi_std_err), 2)]\n",
    "# create plot\n",
    "fig, ax = plt.subplots(1, 1, figsize=(4, 2.5))\n",
    "ax2 = ax.twinx()\n",
    "for index, meptrs_list in enumerate(plot_meptrs):\n",
    "    ax.bar(index+1-0.175, meptrs_list[0], width=0.35, color=\"grey\", align=\"center\", label=\"untreated\")\n",
    "    ax.errorbar(index+1-0.175, meptrs_list[0], plot_std_err[index][0], color=\"k\", capsize=2, elinewidth=0.5)\n",
    "    ax.bar(index+1+0.175, meptrs_list[1], width=0.35, color=\"deeppink\", align=\"center\", label=\"cobalt\")\n",
    "    ax.errorbar(index+1+0.175, meptrs_list[1], plot_std_err[index][1], color=\"k\", capsize=2, elinewidth=0.5)\n",
    "    ax2.errorbar(index+1, plot_fi[index], plot_fi_std_err[index], color=\"red\", marker=\"o\", markersize=\"4\", linestyle=\"none\", ecolor=\"k\", capsize=2, elinewidth=0.5)\n",
    "\n",
    "ax.set_xticks([1, 2, 3, 4, 5, 6, 7, 8, 9, 10])\n",
    "ax.set_xlim(left=0.5, right=10.5)\n",
    "ax.set_yticks([0, 2, 4, 6, 8, 10])\n",
    "ax.set_xlabel(\"Bin (Decile of EBFP2 expression level)\")\n",
    "ax.set_ylabel(\"Mean exp. (x10^4 MEPTRs)\")\n",
    "ax.spines[['right']].set_visible(True)\n",
    "ax2.set_yticks([0, 5, 10, 15, 20, 25, 30])\n",
    "ax2.set_ylabel(\"Fold induction\")\n",
    "# plt.show()\n",
    "plt.savefig(path_plots+\"figure_2g.svg\")"
   ]
  },
  {
   "cell_type": "markdown",
   "metadata": {},
   "source": [
    "### Figure 2H statistical tests"
   ]
  },
  {
   "cell_type": "code",
   "execution_count": 3,
   "metadata": {},
   "outputs": [
    {
     "name": "stdout",
     "output_type": "stream",
     "text": [
      "                                     df        sum_sq       mean_sq  \\\n",
      "C(condition)                        1.0  1.651535e+12  1.651535e+12   \n",
      "C(sorted_population)               10.0  1.627704e+11  1.627704e+10   \n",
      "C(condition):C(sorted_population)  10.0  1.586397e+11  1.586397e+10   \n",
      "Residual                           44.0  5.263102e+09  1.196160e+08   \n",
      "\n",
      "                                              F        PR(>F)  \n",
      "C(condition)                       13806.977634  1.323722e-56  \n",
      "C(sorted_population)                 136.077457  1.072550e-29  \n",
      "C(condition):C(sorted_population)    132.624227  1.848711e-29  \n",
      "Residual                                    NaN           NaN  \n"
     ]
    }
   ],
   "source": [
    "df = pd.read_csv(path_exp_data+\"Exp06.csv\")\n",
    "# print(df)\n",
    "\n",
    "# run 2-way ANOVA\n",
    "anova_table = anova(path_stats, \"figure2h\", df, \"meptrs\", \"condition\", \"sorted_population\")\n",
    "print(anova_table)\n",
    "# run tukey's hsd\n",
    "# tukeys_table_i, tukeys_tables = tukeys_hsd(path_stats, \"figure2h\", \"meptrs\", df, [\"condition\", \"sorted_population\"], [\"condition\",\"sorted_population\"])\n",
    "# print(tukeys_table_i)\n",
    "# for table in tukeys_tables:\n",
    "#     print(table)"
   ]
  },
  {
   "cell_type": "markdown",
   "metadata": {},
   "source": [
    "### Figure 2H plot"
   ]
  },
  {
   "cell_type": "code",
   "execution_count": null,
   "metadata": {},
   "outputs": [],
   "source": [
    "#plot\n",
    "df_data_plot = pd.read_csv(path_exp_data+\"plot_figure2H.csv\")\n",
    "# print(df_data_plot)\n",
    "\n",
    "# format data and labels for plotting\n",
    "meptrs = df_data_plot[\"meptrs\"].to_list()\n",
    "meptrs_scaled = [i/1E4 for i in meptrs]\n",
    "plot_meptrs = [meptrs_scaled[i:i + 2] for i in range(0, len(meptrs_scaled), 2)]\n",
    "std_err = df_data_plot[\"std_err\"].to_list()\n",
    "std_err_scaled = [i/1E4 for i in std_err]\n",
    "plot_std_err = [std_err_scaled[i:i + 2] for i in range(0, len(std_err_scaled), 2)]\n",
    "fi = df_data_plot[\"FI\"].to_list()\n",
    "plot_fi = [fi[i] for i in range(1, len(fi), 2)]\n",
    "fi_std_err = df_data_plot[\"FI_std_err\"].to_list()\n",
    "plot_fi_std_err = [fi_std_err[i] for i in range(1, len(fi_std_err), 2)]\n",
    "# create plot\n",
    "fig, ax = plt.subplots(1, 1, figsize=(3.75, 2.25))\n",
    "ax2 = ax.twinx()\n",
    "for index, meptrs_list in enumerate(plot_meptrs):\n",
    "    ax.bar(index-0.175, meptrs_list[0], width=0.35, color=\"grey\", align=\"center\", label=\"untreated\")\n",
    "    ax.errorbar(index-0.175, meptrs_list[0], plot_std_err[index][0], color=\"k\", capsize=2, elinewidth=0.5)\n",
    "    ax.bar(index+0.175, meptrs_list[1], width=0.35, color=\"deeppink\", align=\"center\", label=\"cobalt\")\n",
    "    ax.errorbar(index+0.175, meptrs_list[1], plot_std_err[index][1], color=\"k\", capsize=2, elinewidth=0.5)\n",
    "    ax2.errorbar(index, plot_fi[index], plot_fi_std_err[index], color=\"red\", marker=\"o\", markersize=\"4\", linestyle=\"none\", ecolor=\"k\", capsize=2, elinewidth=0.5)\n",
    "\n",
    "ax.set_xticks([0, 1, 2, 3, 4, 5, 6, 7, 8, 9, 10])\n",
    "ax.set_xlim(left=-0.5, right=10.5)\n",
    "ax.set_yticks([0, 10, 20, 30, 40, 50])\n",
    "ax.set_xlabel(\"Sorted population (on decile of EBFP2 expression)\")\n",
    "ax.set_ylabel(\"Mean exp. (x10^4 MEPTRs)\")\n",
    "ax.spines[['right']].set_visible(True)\n",
    "ax2.set_yticks([0, 100, 200, 300])\n",
    "ax2.set_ylabel(\"Fold induction\")\n",
    "# plt.show()\n",
    "plt.savefig(path_plots+\"figure_2h.svg\")"
   ]
  },
  {
   "cell_type": "markdown",
   "metadata": {},
   "source": [
    "## Figure 3"
   ]
  },
  {
   "cell_type": "markdown",
   "metadata": {},
   "source": [
    "### Figure 3C, top statistical tests"
   ]
  },
  {
   "cell_type": "code",
   "execution_count": 26,
   "metadata": {},
   "outputs": [],
   "source": [
    "df = pd.read_csv(path_exp_data+\"Exp04_pt2_YBTATA.csv\")\n",
    "# print(df)"
   ]
  },
  {
   "cell_type": "code",
   "execution_count": 28,
   "metadata": {},
   "outputs": [],
   "source": [
    "# run 2-way repeated measures ANOVA\n",
    "# anova_rm_table = repeated_measures_anova(path_stats, \"figure3c_top\", df, \"meptrs\", \"day\", \"condition\")\n",
    "# print(anova_rm_table)\n",
    "\n",
    "# run tukey's hsd\n",
    "# tukeys_table_i, tukeys_tables = tukeys_hsd(path_stats, \"figure3c_top\", \"meptrs\", df, [\"condition\", \"day\"], [\"condition\",\"day\"]) \n",
    "# print(tukeys_table_i)\n",
    "# for table in tukeys_tables:\n",
    "#     print(table)"
   ]
  },
  {
   "cell_type": "markdown",
   "metadata": {},
   "source": [
    "### Figure 3C, top plot"
   ]
  },
  {
   "cell_type": "code",
   "execution_count": 29,
   "metadata": {},
   "outputs": [
    {
     "name": "stdout",
     "output_type": "stream",
     "text": [
      "          condition  day        meptrs       std_err\n",
      "0          normoxia    0  1.626201e+03     90.218468\n",
      "1          normoxia    1  1.088635e+03     71.984131\n",
      "2          normoxia    2  1.223716e+03    178.930581\n",
      "3          normoxia    3  9.680467e+03    413.577763\n",
      "4          normoxia    4  5.793373e+04   2206.099702\n",
      "5   normoxia_cobalt    0  1.626201e+03     90.218468\n",
      "6   normoxia_cobalt    1  1.498463e+05   5500.702088\n",
      "7   normoxia_cobalt    2  1.463696e+05   2846.692778\n",
      "8   normoxia_cobalt    3  1.290738e+05   4928.218806\n",
      "9   normoxia_cobalt    4  1.627349e+05   2744.686591\n",
      "10          hypoxia    0  1.626201e+03     90.218468\n",
      "11          hypoxia    1  5.116018e+05  47916.682400\n",
      "12          hypoxia    2  1.350227e+06  22026.854350\n",
      "13          hypoxia    3  1.679482e+06  15474.038940\n",
      "14          hypoxia    4  1.899947e+06  54194.678590\n"
     ]
    }
   ],
   "source": [
    "df_plot = pd.read_csv(path_exp_data+\"plot_figure3C_top.csv\")\n",
    "print(df_plot)\n",
    "days = [0, 1, 2, 3, 4]"
   ]
  },
  {
   "cell_type": "code",
   "execution_count": 30,
   "metadata": {},
   "outputs": [],
   "source": [
    "# normoxia data\n",
    "meptrs_normoxia = df_plot[df_plot[\"condition\"] == \"normoxia\"][\"meptrs\"].to_list()\n",
    "meptrs_normoxia_scaled = [i/1E6 for i in meptrs_normoxia]\n",
    "std_err_normoxia = df_plot[df_plot[\"condition\"] == \"normoxia\"][\"std_err\"].to_list()\n",
    "std_err_normoxia_scaled = [i/1E6 for i in std_err_normoxia]"
   ]
  },
  {
   "cell_type": "code",
   "execution_count": 31,
   "metadata": {},
   "outputs": [],
   "source": [
    "# normoxia + cobalt data\n",
    "meptrs_normoxia_cobalt = df_plot[df_plot[\"condition\"] == \"normoxia_cobalt\"][\"meptrs\"].to_list()\n",
    "meptrs_normoxia_cobalt_scaled = [i/1E6 for i in meptrs_normoxia_cobalt]\n",
    "std_err_normoxia_cobalt = df_plot[df_plot[\"condition\"] == \"normoxia_cobalt\"][\"std_err\"].to_list()\n",
    "std_err_normoxia_cobalt_scaled = [i/1E6 for i in std_err_normoxia_cobalt]"
   ]
  },
  {
   "cell_type": "code",
   "execution_count": 32,
   "metadata": {},
   "outputs": [],
   "source": [
    "# hypoxia data\n",
    "meptrs_hypoxia = df_plot[df_plot[\"condition\"] == \"hypoxia\"][\"meptrs\"].to_list()\n",
    "meptrs_hypoxia_scaled = [i/1E6 for i in meptrs_hypoxia]\n",
    "std_err_hypoxia = df_plot[df_plot[\"condition\"] == \"hypoxia\"][\"std_err\"].to_list()\n",
    "std_err_hypoxia_scaled = [i/1E6 for i in std_err_hypoxia]"
   ]
  },
  {
   "cell_type": "code",
   "execution_count": 33,
   "metadata": {},
   "outputs": [
    {
     "data": {
      "image/png": "[encoded data removed]",
      "text/plain": [
       "<Figure size 225x225 with 1 Axes>"
      ]
     },
     "metadata": {},
     "output_type": "display_data"
    }
   ],
   "source": [
    "# create figure 2D plot\n",
    "fig, ax = plt.subplots(1, 1, figsize=(2.25, 2.25), sharey=True)\n",
    "ax.errorbar(days, meptrs_normoxia_scaled, std_err_normoxia_scaled, color=\"gray\", linestyle=\"-\", linewidth=1, marker=\"o\", markersize=\"4\", ecolor=\"k\", capsize=2, elinewidth=0.5, label=\"normoxia\")\n",
    "ax.errorbar(days, meptrs_normoxia_cobalt_scaled, std_err_normoxia_cobalt_scaled, color=\"deeppink\", linestyle=\"-\", linewidth=1, marker=\"o\", markersize=\"4\", ecolor=\"k\", capsize=2, elinewidth=0.5, label=\"normoxia_cobalt\")\n",
    "ax.errorbar(days, meptrs_hypoxia_scaled, std_err_hypoxia_scaled, color=\"rebeccapurple\", linestyle=\"-\", linewidth=1, marker=\"o\", markersize=\"4\", ecolor=\"k\", capsize=2, elinewidth=0.5, label=\"hypoxia\")\n",
    "ax.set_xlabel(\"Days post plating\")\n",
    "ax.set_xticks([0, 1, 2, 3, 4])\n",
    "ax.set_ylabel(\"Mean exp. (x10^6 MEPTRs)\")\n",
    "ax.set_ylim(top=3.0)\n",
    "ax.set_box_aspect(1)\n",
    "# plt.show()\n",
    "plt.savefig(path_plots+\"figure_3c_top.svg\")"
   ]
  },
  {
   "cell_type": "markdown",
   "metadata": {},
   "source": [
    "### Figure 3C, bottom statistical tests"
   ]
  },
  {
   "cell_type": "code",
   "execution_count": 37,
   "metadata": {},
   "outputs": [],
   "source": [
    "df = pd.read_csv(path_exp_data+\"Exp04_pt3_CMV.csv\")\n",
    "# print(df)"
   ]
  },
  {
   "cell_type": "code",
   "execution_count": 39,
   "metadata": {},
   "outputs": [],
   "source": [
    "# run 2-way repeated measures ANOVA\n",
    "# anova_rm_table = repeated_measures_anova(path_stats, \"figure3c_bottom\", df, \"meptrs\", \"day\", \"condition\")\n",
    "# print(anova_rm_table)\n",
    "\n",
    "# run tukey's hsd\n",
    "# tukeys_table_i, tukeys_tables = tukeys_hsd(path_stats, \"figure3c_bottom\", \"meptrs\", df, [\"condition\", \"day\"], [\"condition\",\"day\"]) \n",
    "# print(tukeys_table_i)\n",
    "# for table in tukeys_tables:\n",
    "#     print(table)"
   ]
  },
  {
   "cell_type": "markdown",
   "metadata": {},
   "source": [
    "### Figure 3C, bottom plot"
   ]
  },
  {
   "cell_type": "code",
   "execution_count": 40,
   "metadata": {},
   "outputs": [
    {
     "name": "stdout",
     "output_type": "stream",
     "text": [
      "          condition  day        meptrs        std_err\n",
      "0          normoxia    0  5.360905e+04    3460.636595\n",
      "1          normoxia    1  3.939295e+04     752.438260\n",
      "2          normoxia    2  3.345763e+04    2708.511678\n",
      "3          normoxia    3  7.237088e+04    6252.243855\n",
      "4          normoxia    4  2.115829e+05   11118.889210\n",
      "5   normoxia_cobalt    0  5.360905e+04    3460.636595\n",
      "6   normoxia_cobalt    1  6.595375e+05   23211.844670\n",
      "7   normoxia_cobalt    2  7.653391e+05   55451.839790\n",
      "8   normoxia_cobalt    3  8.276165e+05   43420.765410\n",
      "9   normoxia_cobalt    4  1.038319e+06   97537.855370\n",
      "10          hypoxia    0  5.360905e+04    3460.636595\n",
      "11          hypoxia    1  1.235921e+06   25640.415630\n",
      "12          hypoxia    2  2.942400e+06   63314.003560\n",
      "13          hypoxia    3  3.883229e+06   81660.281560\n",
      "14          hypoxia    4  4.325980e+06  119951.754800\n"
     ]
    }
   ],
   "source": [
    "df_plot = pd.read_csv(path_exp_data+\"plot_figure3C_bottom.csv\")\n",
    "print(df_plot)\n",
    "days = [0, 1, 2, 3, 4]"
   ]
  },
  {
   "cell_type": "code",
   "execution_count": 41,
   "metadata": {},
   "outputs": [],
   "source": [
    "# normoxia data\n",
    "meptrs_normoxia = df_plot[df_plot[\"condition\"] == \"normoxia\"][\"meptrs\"].to_list()\n",
    "meptrs_normoxia_scaled = [i/1E6 for i in meptrs_normoxia]\n",
    "std_err_normoxia = df_plot[df_plot[\"condition\"] == \"normoxia\"][\"std_err\"].to_list()\n",
    "std_err_normoxia_scaled = [i/1E6 for i in std_err_normoxia]"
   ]
  },
  {
   "cell_type": "code",
   "execution_count": 42,
   "metadata": {},
   "outputs": [],
   "source": [
    "# normoxia + cobalt data\n",
    "meptrs_normoxia_cobalt = df_plot[df_plot[\"condition\"] == \"normoxia_cobalt\"][\"meptrs\"].to_list()\n",
    "meptrs_normoxia_cobalt_scaled = [i/1E6 for i in meptrs_normoxia_cobalt]\n",
    "std_err_normoxia_cobalt = df_plot[df_plot[\"condition\"] == \"normoxia_cobalt\"][\"std_err\"].to_list()\n",
    "std_err_normoxia_cobalt_scaled = [i/1E6 for i in std_err_normoxia_cobalt]"
   ]
  },
  {
   "cell_type": "code",
   "execution_count": 43,
   "metadata": {},
   "outputs": [],
   "source": [
    "# hypoxia data\n",
    "meptrs_hypoxia = df_plot[df_plot[\"condition\"] == \"hypoxia\"][\"meptrs\"].to_list()\n",
    "meptrs_hypoxia_scaled = [i/1E6 for i in meptrs_hypoxia]\n",
    "std_err_hypoxia = df_plot[df_plot[\"condition\"] == \"hypoxia\"][\"std_err\"].to_list()\n",
    "std_err_hypoxia_scaled = [i/1E6 for i in std_err_hypoxia]"
   ]
  },
  {
   "cell_type": "code",
   "execution_count": 44,
   "metadata": {},
   "outputs": [
    {
     "data": {
      "image/png": "[encoded data removed]",
      "text/plain": [
       "<Figure size 225x225 with 1 Axes>"
      ]
     },
     "metadata": {},
     "output_type": "display_data"
    }
   ],
   "source": [
    "# create figure 2D plot\n",
    "fig, ax = plt.subplots(1, 1, figsize=(2.25, 2.25), sharey=True)\n",
    "ax.errorbar(days, meptrs_normoxia_scaled, std_err_normoxia_scaled, color=\"gray\", linestyle=\"-\", linewidth=1, marker=\"o\", markersize=\"4\", ecolor=\"k\", capsize=2, elinewidth=0.5, label=\"normoxia\")\n",
    "ax.errorbar(days, meptrs_normoxia_cobalt_scaled, std_err_normoxia_cobalt_scaled, color=\"deeppink\", linestyle=\"-\", linewidth=1, marker=\"o\", markersize=\"4\", ecolor=\"k\", capsize=2, elinewidth=0.5, label=\"normoxia_cobalt\")\n",
    "ax.errorbar(days, meptrs_hypoxia_scaled, std_err_hypoxia_scaled, color=\"rebeccapurple\", linestyle=\"-\", linewidth=1, marker=\"o\", markersize=\"4\", ecolor=\"k\", capsize=2, elinewidth=0.5, label=\"hypoxia\")\n",
    "ax.set_xlabel(\"Days post plating\")\n",
    "ax.set_xticks([0, 1, 2, 3, 4])\n",
    "ax.set_ylabel(\"Mean exp. (x10^6 MEPTRs)\")\n",
    "ax.set_yticks([0, 1, 2, 3, 4, 5])\n",
    "ax.set_ylim(top=5.0)\n",
    "ax.set_box_aspect(1)\n",
    "# plt.show()\n",
    "plt.savefig(path_plots+\"figure_3c_bottom.svg\")"
   ]
  },
  {
   "cell_type": "markdown",
   "metadata": {},
   "source": [
    "## Figure 4"
   ]
  },
  {
   "cell_type": "markdown",
   "metadata": {},
   "source": [
    "### Figure 4B statistical tests"
   ]
  },
  {
   "cell_type": "code",
   "execution_count": 46,
   "metadata": {},
   "outputs": [],
   "source": [
    "df = pd.read_csv(path_exp_data+\"Exp04_pt4_dox_HIF.csv\")\n",
    "# print(df)"
   ]
  },
  {
   "cell_type": "code",
   "execution_count": 49,
   "metadata": {},
   "outputs": [],
   "source": [
    "# run 2-way repeated measures ANOVA\n",
    "# anova_rm_table = repeated_measures_anova(path_stats, \"figure4b\", df, \"meptrs\", \"day\", \"condition\")\n",
    "# print(anova_rm_table)\n",
    "\n",
    "# run tukey's hsd\n",
    "# tukeys_table_i, tukeys_tables = tukeys_hsd(path_stats, \"figure4b\", \"meptrs\", df, [\"condition\", \"day\"], [\"condition\",\"day\"]) \n",
    "# print(tukeys_table_i)\n",
    "# for table in tukeys_tables:\n",
    "#     print(table)"
   ]
  },
  {
   "cell_type": "markdown",
   "metadata": {},
   "source": [
    "### Figure 4B plot"
   ]
  },
  {
   "cell_type": "code",
   "execution_count": 57,
   "metadata": {},
   "outputs": [],
   "source": [
    "df_data_plot = pd.read_csv(path_exp_data+\"plot_figure4B.csv\")\n",
    "# print(df_data_plot)\n",
    "days = [0, 1, 2, 3, 4]"
   ]
  },
  {
   "cell_type": "code",
   "execution_count": 58,
   "metadata": {},
   "outputs": [],
   "source": [
    "# normoxia data\n",
    "meptrs_normoxia = df_data_plot[df_data_plot[\"condition\"] == \"normoxia\"][\"meptrs\"].to_list()\n",
    "meptrs_normoxia_scaled = [i/1E6 for i in meptrs_normoxia]\n",
    "std_err_normoxia = df_data_plot[df_data_plot[\"condition\"] == \"normoxia\"][\"std_err\"].to_list()\n",
    "std_err_normoxia_scaled = [i/1E6 for i in std_err_normoxia]"
   ]
  },
  {
   "cell_type": "code",
   "execution_count": 59,
   "metadata": {},
   "outputs": [],
   "source": [
    "# normoxia cobalt data\n",
    "meptrs_normoxia_cobalt = df_data_plot[df_data_plot[\"condition\"] == \"normoxia_cobalt\"][\"meptrs\"].to_list()\n",
    "meptrs_normoxia_cobalt_scaled = [i/1E6 for i in meptrs_normoxia_cobalt]\n",
    "std_err_normoxia_cobalt = df_data_plot[df_data_plot[\"condition\"] == \"normoxia_cobalt\"][\"std_err\"].to_list()\n",
    "std_err_normoxia_cobalt_scaled = [i/1E6 for i in std_err_normoxia_cobalt]"
   ]
  },
  {
   "cell_type": "code",
   "execution_count": 60,
   "metadata": {},
   "outputs": [],
   "source": [
    "# normoxia dox data\n",
    "meptrs_normoxia_dox = df_data_plot[df_data_plot[\"condition\"] == \"normoxia_dox\"][\"meptrs\"].to_list()\n",
    "meptrs_normoxia_dox_scaled = [i/1E6 for i in meptrs_normoxia_dox]\n",
    "std_err_normoxia_dox = df_data_plot[df_data_plot[\"condition\"] == \"normoxia_dox\"][\"std_err\"].to_list()\n",
    "std_err_normoxia_dox_scaled = [i/1E6 for i in std_err_normoxia_dox]"
   ]
  },
  {
   "cell_type": "code",
   "execution_count": 61,
   "metadata": {},
   "outputs": [],
   "source": [
    "# hypoxia data\n",
    "meptrs_hypoxia = df_data_plot[df_data_plot[\"condition\"] == \"hypoxia\"][\"meptrs\"].to_list()\n",
    "meptrs_hypoxia_scaled = [i/1E6 for i in meptrs_hypoxia]\n",
    "std_err_hypoxia = df_data_plot[df_data_plot[\"condition\"] == \"hypoxia\"][\"std_err\"].to_list()\n",
    "std_err_hypoxia_scaled = [i/1E6 for i in std_err_hypoxia]"
   ]
  },
  {
   "cell_type": "code",
   "execution_count": 62,
   "metadata": {},
   "outputs": [
    {
     "data": {
      "image/png": "[encoded data removed]",
      "text/plain": [
       "<Figure size 225x225 with 1 Axes>"
      ]
     },
     "metadata": {},
     "output_type": "display_data"
    }
   ],
   "source": [
    "# create figure 2D plot\n",
    "fig, ax = plt.subplots(1, 1, figsize=(2.25, 2.25))\n",
    "ax.errorbar(days, meptrs_normoxia_scaled, std_err_normoxia_scaled, color=\"gray\", linestyle=\"-\", linewidth=1, marker=\"o\", markersize=\"4\", ecolor=\"gray\", capsize=2, elinewidth=0.5, label=\"normoxia\")\n",
    "ax.errorbar(days, meptrs_normoxia_cobalt_scaled, std_err_normoxia_cobalt_scaled, color=\"deeppink\", linestyle=\"-\", linewidth=1, marker=\"o\", markersize=\"4\", ecolor=\"deeppink\", capsize=2, elinewidth=0.5, label=\"normoxia_cobalt\")\n",
    "ax.errorbar(days, meptrs_normoxia_dox_scaled, std_err_normoxia_dox_scaled, color=\"purple\", linestyle=\"-\", linewidth=1, marker=\"o\", markersize=\"4\", ecolor=\"purple\", capsize=2, elinewidth=0.5, label=\"normoxia_dox\")\n",
    "ax.errorbar(days, meptrs_hypoxia_scaled, std_err_hypoxia_scaled, color=\"rebeccapurple\", linestyle=\"-\", linewidth=1, marker=\"o\", markersize=\"4\", ecolor=\"rebeccapurple\", capsize=2, elinewidth=0.5, label=\"hypoxia\")\n",
    "ax.set_xlabel(\"Days post plating\")\n",
    "ax.set_xticks([0, 1, 2, 3, 4])\n",
    "ax.set_ylabel(\"Mean exp. (x10^6 MEPTRs)\")\n",
    "# ax.set_ylim(top=6.0)\n",
    "ax.set_box_aspect(1)\n",
    "# plt.show()\n",
    "plt.savefig(path_plots+\"figure_4b.svg\")"
   ]
  },
  {
   "cell_type": "code",
   "execution_count": null,
   "metadata": {},
   "outputs": [],
   "source": []
  },
  {
   "cell_type": "markdown",
   "metadata": {},
   "source": [
    "## Figure 5"
   ]
  },
  {
   "cell_type": "markdown",
   "metadata": {},
   "source": [
    "### Figure 5B statistical tests"
   ]
  },
  {
   "cell_type": "code",
   "execution_count": null,
   "metadata": {},
   "outputs": [],
   "source": []
  },
  {
   "cell_type": "markdown",
   "metadata": {},
   "source": [
    "### Figure 5B plot"
   ]
  },
  {
   "cell_type": "code",
   "execution_count": null,
   "metadata": {},
   "outputs": [],
   "source": []
  },
  {
   "cell_type": "markdown",
   "metadata": {},
   "source": [
    "### Figure 5D statistical tests"
   ]
  },
  {
   "cell_type": "code",
   "execution_count": null,
   "metadata": {},
   "outputs": [],
   "source": []
  },
  {
   "cell_type": "markdown",
   "metadata": {},
   "source": [
    "### Figure 5D plot"
   ]
  },
  {
   "cell_type": "code",
   "execution_count": null,
   "metadata": {},
   "outputs": [],
   "source": []
  },
  {
   "cell_type": "markdown",
   "metadata": {},
   "source": [
    "### Figure 5E Statistical Tests"
   ]
  },
  {
   "cell_type": "code",
   "execution_count": 83,
   "metadata": {},
   "outputs": [
    {
     "name": "stdout",
     "output_type": "stream",
     "text": [
      "     condition day  subject         meptrs\n",
      "0   simple_hbs   0        0   11514.629500\n",
      "1   simple_hbs   0        1   12114.072270\n",
      "2   simple_hbs   0        2   12493.719360\n",
      "3   simple_hbs   1        0  162514.807700\n",
      "4   simple_hbs   1        1  143389.324600\n",
      "5   simple_hbs   1        2  158729.555800\n",
      "6   simple_hbs   2        0  291898.522100\n",
      "7   simple_hbs   2        1  252109.355900\n",
      "8   simple_hbs   2        2  252109.355900\n",
      "9   simple_hbs   3        0  342822.513400\n",
      "10  simple_hbs   3        1  345264.443100\n",
      "11  simple_hbs   3        2  322676.593200\n",
      "12  simple_hbs   4        0  371329.615500\n",
      "13  simple_hbs   4        1  373490.999000\n",
      "14  simple_hbs   4        2  365827.912100\n",
      "18  h1a_fb_hbs   0        3   23043.912050\n",
      "19  h1a_fb_hbs   0        4   23243.726310\n",
      "20  h1a_fb_hbs   0        5   23243.726310\n",
      "21  h1a_fb_hbs   1        3  390825.261400\n",
      "22  h1a_fb_hbs   1        4  297588.531600\n",
      "23  h1a_fb_hbs   1        5  382457.862600\n",
      "24  h1a_fb_hbs   2        3  541230.634100\n",
      "25  h1a_fb_hbs   2        4  535632.158500\n",
      "26  h1a_fb_hbs   2        5  618609.565500\n",
      "27  h1a_fb_hbs   3        3  438057.772500\n",
      "28  h1a_fb_hbs   3        4  625475.878500\n",
      "29  h1a_fb_hbs   3        5  417301.369800\n",
      "30  h1a_fb_hbs   4        3  471146.235500\n",
      "31  h1a_fb_hbs   4        4  392943.450600\n",
      "32  h1a_fb_hbs   4        5  452872.720400\n",
      "36  h2a_fb_hbs   0        6   10855.242460\n",
      "37  h2a_fb_hbs   0        7    9856.171182\n",
      "38  h2a_fb_hbs   0        8   10055.985440\n",
      "39  h2a_fb_hbs   1        6  208535.501200\n",
      "40  h2a_fb_hbs   1        7  207539.382300\n",
      "41  h2a_fb_hbs   1        8  217500.571400\n",
      "42  h2a_fb_hbs   2        6  455853.880500\n",
      "43  h2a_fb_hbs   2        7  612811.144300\n",
      "44  h2a_fb_hbs   2        8  582219.473700\n",
      "45  h2a_fb_hbs   3        6  502361.921800\n",
      "46  h2a_fb_hbs   3        7  546723.645000\n",
      "47  h2a_fb_hbs   3        8  549979.551300\n",
      "48  h2a_fb_hbs   4        6  459356.870900\n",
      "49  h2a_fb_hbs   4        7  528521.143000\n",
      "50  h2a_fb_hbs   4        8  464662.085000\n"
     ]
    }
   ],
   "source": [
    "df = pd.read_csv(path_exp_data+\"Exp10.csv\")\n",
    "df_hypoxic = df[df[\"day\"] != \"normoxic\"].copy()\n",
    "print(df_hypoxic)"
   ]
  },
  {
   "cell_type": "code",
   "execution_count": 85,
   "metadata": {},
   "outputs": [],
   "source": [
    "# run 2-way repeated measures ANOVA\n",
    "# anova_rm_table = repeated_measures_anova(path_stats, \"figure5e\", df_hypoxic, \"meptrs\", \"day\", \"condition\")\n",
    "# print(anova_rm_table)\n",
    "\n",
    "# run tukey's hsd\n",
    "# tukeys_table_i, tukeys_tables = tukeys_hsd(path_stats, \"figure5e\", \"meptrs\", df_hypoxic, [\"condition\", \"day\"], [\"condition\",\"day\"]) \n",
    "# print(tukeys_table_i)\n",
    "# for table in tukeys_tables:\n",
    "#     print(table)\n",
    "\n",
    "# run t-tests for each day vs. normoxia for simple, h1a fb, h2a fb\n",
    "# format df for t-test code\n",
    "# df[\"condition\"] = df[\"condition\"] + \"_\" + df[\"day\"].astype(str)\n",
    "# print(df)\n",
    "# comparisons = [\n",
    "#     [\"simple_hbs_0\", \"simple_hbs_normoxic\"],\n",
    "#     [\"simple_hbs_1\", \"simple_hbs_normoxic\"],\n",
    "#     [\"simple_hbs_2\", \"simple_hbs_normoxic\"],\n",
    "#     [\"simple_hbs_3\", \"simple_hbs_normoxic\"],\n",
    "#     [\"simple_hbs_4\", \"simple_hbs_normoxic\"],\n",
    "#     [\"h1a_fb_hbs_0\", \"h1a_fb_hbs_normoxic\"],\n",
    "#     [\"h1a_fb_hbs_1\", \"h1a_fb_hbs_normoxic\"],\n",
    "#     [\"h1a_fb_hbs_2\", \"h1a_fb_hbs_normoxic\"],\n",
    "#     [\"h1a_fb_hbs_3\", \"h1a_fb_hbs_normoxic\"],\n",
    "#     [\"h1a_fb_hbs_4\", \"h1a_fb_hbs_normoxic\"],\n",
    "#     [\"h2a_fb_hbs_0\", \"h2a_fb_hbs_normoxic\"],\n",
    "#     [\"h2a_fb_hbs_1\", \"h2a_fb_hbs_normoxic\"],\n",
    "#     [\"h2a_fb_hbs_2\", \"h2a_fb_hbs_normoxic\"],\n",
    "#     [\"h2a_fb_hbs_3\", \"h2a_fb_hbs_normoxic\"],\n",
    "#     [\"h2a_fb_hbs_4\", \"h2a_fb_hbs_normoxic\"],\n",
    "# ]\n",
    "# t_test_df = run_corrected_t_tests(path_stats, \"figure5e\", \"meptrs\", df, comparisons)\n",
    "# print(t_test_df)"
   ]
  },
  {
   "cell_type": "markdown",
   "metadata": {},
   "source": [
    "### Figure 5E Plots"
   ]
  },
  {
   "cell_type": "code",
   "execution_count": 10,
   "metadata": {},
   "outputs": [],
   "source": [
    "df_data_plot = pd.read_csv(path_exp_data+\"plot_figure5E.csv\")\n",
    "# print(df_data_plot)\n",
    "df_hypoxia_data = df_data_plot[df_data_plot[\"day\"] != \"baseline\"].copy()\n",
    "df_normoxia_data = df_data_plot[df_data_plot[\"day\"] == \"baseline\"].copy()\n",
    "days = [0, 1, 2, 3, 4]"
   ]
  },
  {
   "cell_type": "code",
   "execution_count": 11,
   "metadata": {},
   "outputs": [],
   "source": [
    "# simple HBS data\n",
    "meptrs_hypoxia_simple = df_hypoxia_data[df_hypoxia_data[\"condition\"] == \"simple_hbs\"][\"meptrs\"].to_list()\n",
    "meptrs_hypoxia_simple_scaled = [i/1E6 for i in meptrs_hypoxia_simple]\n",
    "std_err_hypoxia_simple = df_hypoxia_data[df_hypoxia_data[\"condition\"] == \"simple_hbs\"][\"std_err\"].to_list()\n",
    "std_err_hypoxia_simple_scaled = [i/1E6 for i in std_err_hypoxia_simple]\n",
    "meptrs_normoxia_simple = df_normoxia_data[df_normoxia_data[\"condition\"] == \"simple_hbs\"][\"meptrs\"].to_list()[0]\n",
    "meptrs_normoxia_simple_scaled = meptrs_normoxia_simple/1E6\n",
    "std_err_normoxia_simple = df_normoxia_data[df_normoxia_data[\"condition\"] == \"simple_hbs\"][\"std_err\"].to_list()[0]\n",
    "std_err_normoxia_simple_scaled = std_err_normoxia_simple/1E6\n"
   ]
  },
  {
   "cell_type": "code",
   "execution_count": 12,
   "metadata": {},
   "outputs": [],
   "source": [
    "# h1a fb HBS data\n",
    "meptrs_hypoxia_h1a_fb = df_hypoxia_data[df_hypoxia_data[\"condition\"] == \"h1a_fb_hbs\"][\"meptrs\"].to_list()\n",
    "meptrs_hypoxia_h1a_fb_scaled = [i/1E6 for i in meptrs_hypoxia_h1a_fb]\n",
    "std_err_hypoxia_h1a_fb = df_hypoxia_data[df_hypoxia_data[\"condition\"] == \"h1a_fb_hbs\"][\"std_err\"].to_list()\n",
    "std_err_hypoxia_h1a_fb_scaled = [i/1E6 for i in std_err_hypoxia_h1a_fb]\n",
    "meptrs_normoxia_h1a_fb = df_normoxia_data[df_normoxia_data[\"condition\"] == \"h1a_fb_hbs\"][\"meptrs\"].to_list()[0]\n",
    "meptrs_normoxia_h1a_fb_scaled = meptrs_normoxia_h1a_fb/1E6\n",
    "std_err_normoxia_h1a_fb = df_normoxia_data[df_normoxia_data[\"condition\"] == \"h1a_fb_hbs\"][\"std_err\"].to_list()[0]\n",
    "std_err_normoxia_h1a_fb_scaled = std_err_normoxia_h1a_fb/1E6"
   ]
  },
  {
   "cell_type": "code",
   "execution_count": 13,
   "metadata": {},
   "outputs": [],
   "source": [
    "# h2a fb data\n",
    "meptrs_hypoxia_h2a_fb = df_hypoxia_data[df_hypoxia_data[\"condition\"] == \"h2a_fb_hbs\"][\"meptrs\"].to_list()\n",
    "meptrs_hypoxia_h2a_fb_scaled = [i/1E6 for i in meptrs_hypoxia_h2a_fb]\n",
    "std_err_hypoxia_h2a_fb = df_hypoxia_data[df_hypoxia_data[\"condition\"] == \"h2a_fb_hbs\"][\"std_err\"].to_list()\n",
    "std_err_hypoxia_h2a_fb_scaled = [i/1E6 for i in std_err_hypoxia_h2a_fb]\n",
    "meptrs_normoxia_h2a_fb = df_normoxia_data[df_normoxia_data[\"condition\"] == \"h2a_fb_hbs\"][\"meptrs\"].to_list()[0]\n",
    "meptrs_normoxia_h2a_fb_scaled = meptrs_normoxia_h2a_fb/1E6\n",
    "std_err_normoxia_h2a_fb = df_normoxia_data[df_normoxia_data[\"condition\"] == \"h2a_fb_hbs\"][\"std_err\"].to_list()[0]\n",
    "std_err_normoxia_h2a_fb_scaled = std_err_normoxia_h2a_fb/1E6"
   ]
  },
  {
   "cell_type": "code",
   "execution_count": 14,
   "metadata": {},
   "outputs": [
    {
     "name": "stdout",
     "output_type": "stream",
     "text": [
      "(-0.006457172588620001, 0.6)\n"
     ]
    },
    {
     "data": {
      "image/png": "[encoded data removed]",
      "text/plain": [
       "<Figure size 600x225 with 3 Axes>"
      ]
     },
     "metadata": {},
     "output_type": "display_data"
    }
   ],
   "source": [
    "# create figure 2D plot\n",
    "fig, axs = plt.subplots(1, 3, figsize=(6, 2.25), sharey=True)\n",
    "axs = axs.ravel()\n",
    "axs[0].errorbar(days, meptrs_hypoxia_simple_scaled, std_err_hypoxia_simple_scaled, color=\"black\", linestyle=\"-\", linewidth=1, marker=\"o\", markersize=\"4\", ecolor=\"k\", capsize=2, elinewidth=0.5)\n",
    "axs[0].fill_between(\n",
    "    days, meptrs_normoxia_simple_scaled-std_err_normoxia_simple_scaled, \n",
    "    meptrs_normoxia_simple_scaled+std_err_normoxia_simple_scaled, color=\"gray\")\n",
    "axs[0].set_xlabel(\"Days post plating\")\n",
    "axs[0].set_xticks([0, 1, 2, 3, 4])\n",
    "axs[0].set_ylabel(\"Mean exp. (x10^6 MEPTRs)\")\n",
    "axs[0].set_ylim(top=0.6)\n",
    "print(axs[0].get_ylim())\n",
    "axs[0].set_box_aspect(1)\n",
    "axs[1].errorbar(days, meptrs_hypoxia_h1a_fb_scaled, std_err_hypoxia_h1a_fb_scaled, color=\"black\", linestyle=\"-\", linewidth=1, marker=\"o\", markersize=\"4\", ecolor=\"k\", capsize=2, elinewidth=0.5)\n",
    "axs[1].fill_between(\n",
    "    days, meptrs_normoxia_h1a_fb_scaled-std_err_normoxia_h1a_fb_scaled, \n",
    "    meptrs_normoxia_h1a_fb_scaled+std_err_normoxia_h1a_fb_scaled, color=\"gray\")\n",
    "axs[1].set_xlabel(\"Days post plating\")\n",
    "axs[1].set_xticks([0, 1, 2, 3, 4])\n",
    "axs[1].set_box_aspect(1)\n",
    "axs[2].errorbar(days, meptrs_hypoxia_h2a_fb_scaled, std_err_hypoxia_h2a_fb_scaled, color=\"black\", linestyle=\"-\", linewidth=1, marker=\"o\", markersize=\"4\", ecolor=\"k\", capsize=2, elinewidth=0.5)\n",
    "axs[2].fill_between(\n",
    "    days, meptrs_normoxia_h2a_fb_scaled-std_err_normoxia_h2a_fb_scaled, \n",
    "    meptrs_normoxia_h2a_fb_scaled+std_err_normoxia_h2a_fb_scaled, color=\"gray\")\n",
    "axs[2].set_xlabel(\"Days post plating\")\n",
    "axs[2].set_xticks([0, 1, 2, 3, 4])\n",
    "axs[2].set_box_aspect(1)\n",
    "plt.show()\n",
    "# plt.savefig(path_plots+\"figure_5e.svg\")"
   ]
  },
  {
   "cell_type": "markdown",
   "metadata": {},
   "source": [
    "### Figure 5F Statistical tests"
   ]
  },
  {
   "cell_type": "code",
   "execution_count": 15,
   "metadata": {},
   "outputs": [],
   "source": [
    "df = pd.read_csv(path_exp_data+\"Exp11.csv\")\n",
    "df_hypoxic = df[df[\"day\"] != \"normoxic\"].copy()\n",
    "# print(df_hypoxic)"
   ]
  },
  {
   "cell_type": "code",
   "execution_count": 88,
   "metadata": {},
   "outputs": [],
   "source": [
    "# run 2-way repeated measures ANOVA\n",
    "# anova_rm_table = repeated_measures_anova(path_stats, \"figure5f\", df_hypoxic, \"meptrs\", \"day\", \"condition\")\n",
    "# print(anova_rm_table)\n",
    "\n",
    "# run tukey's hsd\n",
    "# tukeys_table_i, tukeys_tables = tukeys_hsd(path_stats, \"figure5f\", \"meptrs\", df_hypoxic, [\"condition\", \"day\"], [\"condition\",\"day\"]) \n",
    "# print(tukeys_table_i)\n",
    "# for table in tukeys_tables:\n",
    "#     print(table)\n",
    "\n",
    "# run t-tests for each day vs. normoxia for simple, h1a fb, h2a fb\n",
    "# format df for t-test code\n",
    "# df[\"condition\"] = df[\"condition\"] + \"_\" + df[\"day\"].astype(str)\n",
    "# print(df)\n",
    "# comparisons = [\n",
    "#     [\"simple_hbs_0\", \"simple_hbs_normoxic\"],\n",
    "#     [\"simple_hbs_1\", \"simple_hbs_normoxic\"],\n",
    "#     [\"simple_hbs_2\", \"simple_hbs_normoxic\"],\n",
    "#     [\"simple_hbs_3\", \"simple_hbs_normoxic\"],\n",
    "#     [\"simple_hbs_4\", \"simple_hbs_normoxic\"],\n",
    "#     [\"h1a_fb_hbs_0\", \"h1a_fb_hbs_normoxic\"],\n",
    "#     [\"h1a_fb_hbs_1\", \"h1a_fb_hbs_normoxic\"],\n",
    "#     [\"h1a_fb_hbs_2\", \"h1a_fb_hbs_normoxic\"],\n",
    "#     [\"h1a_fb_hbs_3\", \"h1a_fb_hbs_normoxic\"],\n",
    "#     [\"h1a_fb_hbs_4\", \"h1a_fb_hbs_normoxic\"],\n",
    "#     [\"h2a_fb_hbs_0\", \"h2a_fb_hbs_normoxic\"],\n",
    "#     [\"h2a_fb_hbs_1\", \"h2a_fb_hbs_normoxic\"],\n",
    "#     [\"h2a_fb_hbs_2\", \"h2a_fb_hbs_normoxic\"],\n",
    "#     [\"h2a_fb_hbs_3\", \"h2a_fb_hbs_normoxic\"],\n",
    "#     [\"h2a_fb_hbs_4\", \"h2a_fb_hbs_normoxic\"],\n",
    "# ]\n",
    "# t_test_df = run_corrected_t_tests(path_stats, \"figure5f\", \"meptrs\", df, comparisons)\n",
    "# print(t_test_df)"
   ]
  },
  {
   "cell_type": "markdown",
   "metadata": {},
   "source": [
    "### Figure 5F plots"
   ]
  },
  {
   "cell_type": "code",
   "execution_count": 16,
   "metadata": {},
   "outputs": [],
   "source": [
    "df_data_plot = pd.read_csv(path_exp_data+\"plot_figure5F.csv\")\n",
    "# print(df_data_plot)\n",
    "df_hypoxia_data = df_data_plot[df_data_plot[\"day\"] != \"baseline\"].copy()\n",
    "df_normoxia_data = df_data_plot[df_data_plot[\"day\"] == \"baseline\"].copy()\n",
    "days = [0, 1, 2, 3, 4]"
   ]
  },
  {
   "cell_type": "code",
   "execution_count": 17,
   "metadata": {},
   "outputs": [],
   "source": [
    "# simple HBS data\n",
    "meptrs_hypoxia_simple = df_hypoxia_data[df_hypoxia_data[\"condition\"] == \"simple_hbs\"][\"meptrs\"].to_list()\n",
    "meptrs_hypoxia_simple_scaled = [i/1E6 for i in meptrs_hypoxia_simple]\n",
    "std_err_hypoxia_simple = df_hypoxia_data[df_hypoxia_data[\"condition\"] == \"simple_hbs\"][\"std_err\"].to_list()\n",
    "std_err_hypoxia_simple_scaled = [i/1E6 for i in std_err_hypoxia_simple]\n",
    "meptrs_normoxia_simple = df_normoxia_data[df_normoxia_data[\"condition\"] == \"simple_hbs\"][\"meptrs\"].to_list()[0]\n",
    "meptrs_normoxia_simple_scaled = meptrs_normoxia_simple/1E6\n",
    "std_err_normoxia_simple = df_normoxia_data[df_normoxia_data[\"condition\"] == \"simple_hbs\"][\"std_err\"].to_list()[0]\n",
    "std_err_normoxia_simple_scaled = std_err_normoxia_simple/1E6"
   ]
  },
  {
   "cell_type": "code",
   "execution_count": 18,
   "metadata": {},
   "outputs": [],
   "source": [
    "# h1a fb HBS data\n",
    "meptrs_hypoxia_h1a_fb = df_hypoxia_data[df_hypoxia_data[\"condition\"] == \"h1a_fb_hbs\"][\"meptrs\"].to_list()\n",
    "meptrs_hypoxia_h1a_fb_scaled = [i/1E6 for i in meptrs_hypoxia_h1a_fb]\n",
    "std_err_hypoxia_h1a_fb = df_hypoxia_data[df_hypoxia_data[\"condition\"] == \"h1a_fb_hbs\"][\"std_err\"].to_list()\n",
    "std_err_hypoxia_h1a_fb_scaled = [i/1E6 for i in std_err_hypoxia_h1a_fb]\n",
    "meptrs_normoxia_h1a_fb = df_normoxia_data[df_normoxia_data[\"condition\"] == \"h1a_fb_hbs\"][\"meptrs\"].to_list()[0]\n",
    "meptrs_normoxia_h1a_fb_scaled = meptrs_normoxia_h1a_fb/1E6\n",
    "std_err_normoxia_h1a_fb = df_normoxia_data[df_normoxia_data[\"condition\"] == \"h1a_fb_hbs\"][\"std_err\"].to_list()[0]\n",
    "std_err_normoxia_h1a_fb_scaled = std_err_normoxia_h1a_fb/1E6"
   ]
  },
  {
   "cell_type": "code",
   "execution_count": 19,
   "metadata": {},
   "outputs": [],
   "source": [
    "# h2a fb HBS data\n",
    "meptrs_hypoxia_h2a_fb = df_hypoxia_data[df_hypoxia_data[\"condition\"] == \"h2a_fb_hbs\"][\"meptrs\"].to_list()\n",
    "meptrs_hypoxia_h2a_fb_scaled = [i/1E6 for i in meptrs_hypoxia_h2a_fb]\n",
    "std_err_hypoxia_h2a_fb = df_hypoxia_data[df_hypoxia_data[\"condition\"] == \"h2a_fb_hbs\"][\"std_err\"].to_list()\n",
    "std_err_hypoxia_h2a_fb_scaled = [i/1E6 for i in std_err_hypoxia_h2a_fb]\n",
    "meptrs_normoxia_h2a_fb = df_normoxia_data[df_normoxia_data[\"condition\"] == \"h2a_fb_hbs\"][\"meptrs\"].to_list()[0]\n",
    "meptrs_normoxia_h2a_fb_scaled = meptrs_normoxia_h2a_fb/1E6\n",
    "std_err_normoxia_h2a_fb = df_normoxia_data[df_normoxia_data[\"condition\"] == \"h2a_fb_hbs\"][\"std_err\"].to_list()[0]\n",
    "std_err_normoxia_h2a_fb_scaled = std_err_normoxia_h2a_fb/1E6"
   ]
  },
  {
   "cell_type": "code",
   "execution_count": 21,
   "metadata": {},
   "outputs": [
    {
     "data": {
      "image/png": "[encoded data removed]",
      "text/plain": [
       "<Figure size 605x225 with 3 Axes>"
      ]
     },
     "metadata": {},
     "output_type": "display_data"
    }
   ],
   "source": [
    "fig, axs = plt.subplots(1, 3, figsize=(6.05, 2.25), sharey=True)\n",
    "axs = axs.ravel()\n",
    "axs[0].errorbar(days, meptrs_hypoxia_simple_scaled, std_err_hypoxia_simple_scaled, color=\"black\", linestyle=\"-\", linewidth=1, marker=\"o\", markersize=\"4\", ecolor=\"k\", capsize=2, elinewidth=0.5)\n",
    "axs[0].fill_between(\n",
    "    days, meptrs_normoxia_simple_scaled-std_err_normoxia_simple_scaled, \n",
    "    meptrs_normoxia_simple_scaled+std_err_normoxia_simple_scaled, color=\"gray\")\n",
    "axs[0].set_xlabel(\"Days post plating\")\n",
    "axs[0].set_xticks([0, 1, 2, 3, 4])\n",
    "axs[0].set_ylabel(\"Mean exp. (x10^6 MEPTRs)\")\n",
    "axs[0].set_ylim(bottom=-0.006457172588620001, top=0.6)\n",
    "axs[0].set_box_aspect(1)\n",
    "axs[1].errorbar(days, meptrs_hypoxia_h1a_fb_scaled, std_err_hypoxia_h1a_fb_scaled, color=\"black\", linestyle=\"-\", linewidth=1, marker=\"o\", markersize=\"4\", ecolor=\"k\", capsize=2, elinewidth=0.5)\n",
    "axs[1].fill_between(\n",
    "    days, meptrs_normoxia_h1a_fb_scaled-std_err_normoxia_h1a_fb_scaled, \n",
    "    meptrs_normoxia_h1a_fb_scaled+std_err_normoxia_h1a_fb_scaled, color=\"gray\")\n",
    "axs[1].set_xlabel(\"Days post plating\")\n",
    "axs[1].set_xticks([0, 1, 2, 3, 4])\n",
    "axs[1].set_box_aspect(1)\n",
    "axs[2].errorbar(days, meptrs_hypoxia_h2a_fb_scaled, std_err_hypoxia_h2a_fb_scaled, color=\"black\", linestyle=\"-\", linewidth=1, marker=\"o\", markersize=\"4\", ecolor=\"k\", capsize=2, elinewidth=0.5)\n",
    "axs[2].fill_between(\n",
    "    days, meptrs_normoxia_h2a_fb_scaled-std_err_normoxia_h2a_fb_scaled, \n",
    "    meptrs_normoxia_h2a_fb_scaled+std_err_normoxia_h2a_fb_scaled, color=\"gray\")\n",
    "axs[2].set_xlabel(\"Days post plating\")\n",
    "axs[2].set_xticks([0, 1, 2, 3, 4])\n",
    "axs[2].set_box_aspect(1)\n",
    "# plt.show()\n",
    "plt.savefig(path_plots+\"figure_5f.svg\")"
   ]
  },
  {
   "cell_type": "code",
   "execution_count": null,
   "metadata": {},
   "outputs": [],
   "source": []
  }
 ],
 "metadata": {
  "kernelspec": {
   "display_name": ".venv",
   "language": "python",
   "name": "python3"
  },
  "language_info": {
   "codemirror_mode": {
    "name": "ipython",
    "version": 3
   },
   "file_extension": ".py",
   "mimetype": "text/x-python",
   "name": "python",
   "nbconvert_exporter": "python",
   "pygments_lexer": "ipython3",
   "version": "3.10.10"
  }
 },
 "nbformat": 4,
 "nbformat_minor": 2
}
